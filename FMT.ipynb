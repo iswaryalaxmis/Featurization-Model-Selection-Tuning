{
  "nbformat": 4,
  "nbformat_minor": 0,
  "metadata": {
    "colab": {
      "provenance": []
    },
    "kernelspec": {
      "name": "python3",
      "display_name": "Python 3"
    },
    "language_info": {
      "name": "python"
    }
  },
  "cells": [
    {
      "cell_type": "code",
      "execution_count": null,
      "metadata": {
        "colab": {
          "base_uri": "https://localhost:8080/"
        },
        "id": "KcjG8gn3Ye8-",
        "outputId": "6be1523f-434e-4b0d-8c9b-d0d183ae86b4"
      },
      "outputs": [
        {
          "output_type": "stream",
          "name": "stdout",
          "text": [
            "Mounted at /content/drive\n"
          ]
        }
      ],
      "source": [
        "#Mount drive\n",
        "from google.colab import drive\n",
        "drive.mount('/content/drive')"
      ]
    },
    {
      "cell_type": "code",
      "source": [
        "# importing necessary libraries\n",
        "import numpy as np # linear algebra\n",
        "import pandas as pd # data processing, CSV file I/O (e.g. pd.read_csv)\n",
        "import matplotlib.pyplot as plt       # matplotlib.pyplot plots data\n",
        "%matplotlib inline\n",
        "import seaborn as sns"
      ],
      "metadata": {
        "id": "i2r2oHVCZTTN"
      },
      "execution_count": null,
      "outputs": []
    },
    {
      "cell_type": "markdown",
      "source": [
        "# **DOMAIN: Semiconductor manufacturing process**\n",
        "**• CONTEXT:**\n",
        "A complex modern semiconductor manufacturing process is normally under constant surveillance via the monitoring of\n",
        "signals/variables collected from sensors and or process measurement points. However, not all of these signals are equally valuable in a\n",
        "specific monitoring system. The measured signals contain a combination of useful information, irrelevant information as well as noise.\n",
        "Engineers typically have a much larger number of signals than are actually required. If we consider each type of signal as a feature, then\n",
        "feature selection may be applied to identify the most relevant signals. The Process Engineers may then use these signals to determine key\n",
        "factors contributing to yield excursions downstream in the process. This will enable an increase in process throughput, decreased time to\n",
        "learning and reduce the per unit production costs. These signals can be used as features to predict the yield type. And by analysing and\n",
        "trying out different combinations of features, essential signals that are impacting the yield type can be identified.\n",
        "\n",
        "**• DATA DESCRIPTION:** signal-data.csv : (1567, 592)\n",
        "The data consists of 1567 datapoints each with 591 features.\n",
        "The dataset presented in this case represents a selection of such features where each example represents a single production entity with\n",
        "associated measured features and the labels represent a simple pass/fail yield for in house line testing.**Target column “ –1” corresponds to\n",
        "a pass and “1” corresponds to a fail**  and the data time stamp is for that specific test point.\n",
        "\n",
        "**• PROJECT OBJECTIVE:** We will build a classifier to predict the Pass/Fail yield of a particular process entity and analyse whether all the\n",
        "features are required to build the model or not."
      ],
      "metadata": {
        "id": "MsdiOrGGZWHI"
      }
    },
    {
      "cell_type": "code",
      "source": [
        "#Read the ‘signal-data.csv’ file\n",
        "df = pd.read_csv(\"/content/drive/MyDrive/AIML/AIML/FMT/Final Project/signal-data.csv\")\n",
        "print(df)"
      ],
      "metadata": {
        "colab": {
          "base_uri": "https://localhost:8080/"
        },
        "id": "2NGwGSgaZn1S",
        "outputId": "d963686b-f652-45b2-ba2a-6c54c07adce8"
      },
      "execution_count": null,
      "outputs": [
        {
          "output_type": "stream",
          "name": "stdout",
          "text": [
            "                     Time        0        1          2          3       4  \\\n",
            "0     2008-07-19 11:55:00  3030.93  2564.00  2187.7333  1411.1265  1.3602   \n",
            "1     2008-07-19 12:32:00  3095.78  2465.14  2230.4222  1463.6606  0.8294   \n",
            "2     2008-07-19 13:17:00  2932.61  2559.94  2186.4111  1698.0172  1.5102   \n",
            "3     2008-07-19 14:43:00  2988.72  2479.90  2199.0333   909.7926  1.3204   \n",
            "4     2008-07-19 15:22:00  3032.24  2502.87  2233.3667  1326.5200  1.5334   \n",
            "...                   ...      ...      ...        ...        ...     ...   \n",
            "1562  2008-10-16 15:13:00  2899.41  2464.36  2179.7333  3085.3781  1.4843   \n",
            "1563  2008-10-16 20:49:00  3052.31  2522.55  2198.5667  1124.6595  0.8763   \n",
            "1564  2008-10-17 05:26:00  2978.81  2379.78  2206.3000  1110.4967  0.8236   \n",
            "1565  2008-10-17 06:01:00  2894.92  2532.01  2177.0333  1183.7287  1.5726   \n",
            "1566  2008-10-17 06:07:00  2944.92  2450.76  2195.4444  2914.1792  1.5978   \n",
            "\n",
            "          5         6       7       8  ...       581     582     583     584  \\\n",
            "0     100.0   97.6133  0.1242  1.5005  ...       NaN  0.5005  0.0118  0.0035   \n",
            "1     100.0  102.3433  0.1247  1.4966  ...  208.2045  0.5019  0.0223  0.0055   \n",
            "2     100.0   95.4878  0.1241  1.4436  ...   82.8602  0.4958  0.0157  0.0039   \n",
            "3     100.0  104.2367  0.1217  1.4882  ...   73.8432  0.4990  0.0103  0.0025   \n",
            "4     100.0  100.3967  0.1235  1.5031  ...       NaN  0.4800  0.4766  0.1045   \n",
            "...     ...       ...     ...     ...  ...       ...     ...     ...     ...   \n",
            "1562  100.0   82.2467  0.1248  1.3424  ...  203.1720  0.4988  0.0143  0.0039   \n",
            "1563  100.0   98.4689  0.1205  1.4333  ...       NaN  0.4975  0.0131  0.0036   \n",
            "1564  100.0   99.4122  0.1208     NaN  ...   43.5231  0.4987  0.0153  0.0041   \n",
            "1565  100.0   98.7978  0.1213  1.4622  ...   93.4941  0.5004  0.0178  0.0038   \n",
            "1566  100.0   85.1011  0.1235     NaN  ...  137.7844  0.4987  0.0181  0.0040   \n",
            "\n",
            "          585     586     587     588       589  Pass/Fail  \n",
            "0      2.3630     NaN     NaN     NaN       NaN         -1  \n",
            "1      4.4447  0.0096  0.0201  0.0060  208.2045         -1  \n",
            "2      3.1745  0.0584  0.0484  0.0148   82.8602          1  \n",
            "3      2.0544  0.0202  0.0149  0.0044   73.8432         -1  \n",
            "4     99.3032  0.0202  0.0149  0.0044   73.8432         -1  \n",
            "...       ...     ...     ...     ...       ...        ...  \n",
            "1562   2.8669  0.0068  0.0138  0.0047  203.1720         -1  \n",
            "1563   2.6238  0.0068  0.0138  0.0047  203.1720         -1  \n",
            "1564   3.0590  0.0197  0.0086  0.0025   43.5231         -1  \n",
            "1565   3.5662  0.0262  0.0245  0.0075   93.4941         -1  \n",
            "1566   3.6275  0.0117  0.0162  0.0045  137.7844         -1  \n",
            "\n",
            "[1567 rows x 592 columns]\n"
          ]
        }
      ]
    },
    {
      "cell_type": "code",
      "source": [
        "df.info(verbose = True)"
      ],
      "metadata": {
        "colab": {
          "base_uri": "https://localhost:8080/"
        },
        "id": "-wSszc1rfbbb",
        "outputId": "21c95480-669b-4864-93db-afdc68d88565"
      },
      "execution_count": null,
      "outputs": [
        {
          "output_type": "stream",
          "name": "stdout",
          "text": [
            "<class 'pandas.core.frame.DataFrame'>\n",
            "RangeIndex: 1567 entries, 0 to 1566\n",
            "Data columns (total 592 columns):\n",
            " #    Column     Dtype  \n",
            "---   ------     -----  \n",
            " 0    Time       object \n",
            " 1    0          float64\n",
            " 2    1          float64\n",
            " 3    2          float64\n",
            " 4    3          float64\n",
            " 5    4          float64\n",
            " 6    5          float64\n",
            " 7    6          float64\n",
            " 8    7          float64\n",
            " 9    8          float64\n",
            " 10   9          float64\n",
            " 11   10         float64\n",
            " 12   11         float64\n",
            " 13   12         float64\n",
            " 14   13         float64\n",
            " 15   14         float64\n",
            " 16   15         float64\n",
            " 17   16         float64\n",
            " 18   17         float64\n",
            " 19   18         float64\n",
            " 20   19         float64\n",
            " 21   20         float64\n",
            " 22   21         float64\n",
            " 23   22         float64\n",
            " 24   23         float64\n",
            " 25   24         float64\n",
            " 26   25         float64\n",
            " 27   26         float64\n",
            " 28   27         float64\n",
            " 29   28         float64\n",
            " 30   29         float64\n",
            " 31   30         float64\n",
            " 32   31         float64\n",
            " 33   32         float64\n",
            " 34   33         float64\n",
            " 35   34         float64\n",
            " 36   35         float64\n",
            " 37   36         float64\n",
            " 38   37         float64\n",
            " 39   38         float64\n",
            " 40   39         float64\n",
            " 41   40         float64\n",
            " 42   41         float64\n",
            " 43   42         float64\n",
            " 44   43         float64\n",
            " 45   44         float64\n",
            " 46   45         float64\n",
            " 47   46         float64\n",
            " 48   47         float64\n",
            " 49   48         float64\n",
            " 50   49         float64\n",
            " 51   50         float64\n",
            " 52   51         float64\n",
            " 53   52         float64\n",
            " 54   53         float64\n",
            " 55   54         float64\n",
            " 56   55         float64\n",
            " 57   56         float64\n",
            " 58   57         float64\n",
            " 59   58         float64\n",
            " 60   59         float64\n",
            " 61   60         float64\n",
            " 62   61         float64\n",
            " 63   62         float64\n",
            " 64   63         float64\n",
            " 65   64         float64\n",
            " 66   65         float64\n",
            " 67   66         float64\n",
            " 68   67         float64\n",
            " 69   68         float64\n",
            " 70   69         float64\n",
            " 71   70         float64\n",
            " 72   71         float64\n",
            " 73   72         float64\n",
            " 74   73         float64\n",
            " 75   74         float64\n",
            " 76   75         float64\n",
            " 77   76         float64\n",
            " 78   77         float64\n",
            " 79   78         float64\n",
            " 80   79         float64\n",
            " 81   80         float64\n",
            " 82   81         float64\n",
            " 83   82         float64\n",
            " 84   83         float64\n",
            " 85   84         float64\n",
            " 86   85         float64\n",
            " 87   86         float64\n",
            " 88   87         float64\n",
            " 89   88         float64\n",
            " 90   89         float64\n",
            " 91   90         float64\n",
            " 92   91         float64\n",
            " 93   92         float64\n",
            " 94   93         float64\n",
            " 95   94         float64\n",
            " 96   95         float64\n",
            " 97   96         float64\n",
            " 98   97         float64\n",
            " 99   98         float64\n",
            " 100  99         float64\n",
            " 101  100        float64\n",
            " 102  101        float64\n",
            " 103  102        float64\n",
            " 104  103        float64\n",
            " 105  104        float64\n",
            " 106  105        float64\n",
            " 107  106        float64\n",
            " 108  107        float64\n",
            " 109  108        float64\n",
            " 110  109        float64\n",
            " 111  110        float64\n",
            " 112  111        float64\n",
            " 113  112        float64\n",
            " 114  113        float64\n",
            " 115  114        float64\n",
            " 116  115        float64\n",
            " 117  116        float64\n",
            " 118  117        float64\n",
            " 119  118        float64\n",
            " 120  119        float64\n",
            " 121  120        float64\n",
            " 122  121        float64\n",
            " 123  122        float64\n",
            " 124  123        float64\n",
            " 125  124        float64\n",
            " 126  125        float64\n",
            " 127  126        float64\n",
            " 128  127        float64\n",
            " 129  128        float64\n",
            " 130  129        float64\n",
            " 131  130        float64\n",
            " 132  131        float64\n",
            " 133  132        float64\n",
            " 134  133        float64\n",
            " 135  134        float64\n",
            " 136  135        float64\n",
            " 137  136        float64\n",
            " 138  137        float64\n",
            " 139  138        float64\n",
            " 140  139        float64\n",
            " 141  140        float64\n",
            " 142  141        float64\n",
            " 143  142        float64\n",
            " 144  143        float64\n",
            " 145  144        float64\n",
            " 146  145        float64\n",
            " 147  146        float64\n",
            " 148  147        float64\n",
            " 149  148        float64\n",
            " 150  149        float64\n",
            " 151  150        float64\n",
            " 152  151        float64\n",
            " 153  152        float64\n",
            " 154  153        float64\n",
            " 155  154        float64\n",
            " 156  155        float64\n",
            " 157  156        float64\n",
            " 158  157        float64\n",
            " 159  158        float64\n",
            " 160  159        float64\n",
            " 161  160        float64\n",
            " 162  161        float64\n",
            " 163  162        float64\n",
            " 164  163        float64\n",
            " 165  164        float64\n",
            " 166  165        float64\n",
            " 167  166        float64\n",
            " 168  167        float64\n",
            " 169  168        float64\n",
            " 170  169        float64\n",
            " 171  170        float64\n",
            " 172  171        float64\n",
            " 173  172        float64\n",
            " 174  173        float64\n",
            " 175  174        float64\n",
            " 176  175        float64\n",
            " 177  176        float64\n",
            " 178  177        float64\n",
            " 179  178        float64\n",
            " 180  179        float64\n",
            " 181  180        float64\n",
            " 182  181        float64\n",
            " 183  182        float64\n",
            " 184  183        float64\n",
            " 185  184        float64\n",
            " 186  185        float64\n",
            " 187  186        float64\n",
            " 188  187        float64\n",
            " 189  188        float64\n",
            " 190  189        float64\n",
            " 191  190        float64\n",
            " 192  191        float64\n",
            " 193  192        float64\n",
            " 194  193        float64\n",
            " 195  194        float64\n",
            " 196  195        float64\n",
            " 197  196        float64\n",
            " 198  197        float64\n",
            " 199  198        float64\n",
            " 200  199        float64\n",
            " 201  200        float64\n",
            " 202  201        float64\n",
            " 203  202        float64\n",
            " 204  203        float64\n",
            " 205  204        float64\n",
            " 206  205        float64\n",
            " 207  206        float64\n",
            " 208  207        float64\n",
            " 209  208        float64\n",
            " 210  209        float64\n",
            " 211  210        float64\n",
            " 212  211        float64\n",
            " 213  212        float64\n",
            " 214  213        float64\n",
            " 215  214        float64\n",
            " 216  215        float64\n",
            " 217  216        float64\n",
            " 218  217        float64\n",
            " 219  218        float64\n",
            " 220  219        float64\n",
            " 221  220        float64\n",
            " 222  221        float64\n",
            " 223  222        float64\n",
            " 224  223        float64\n",
            " 225  224        float64\n",
            " 226  225        float64\n",
            " 227  226        float64\n",
            " 228  227        float64\n",
            " 229  228        float64\n",
            " 230  229        float64\n",
            " 231  230        float64\n",
            " 232  231        float64\n",
            " 233  232        float64\n",
            " 234  233        float64\n",
            " 235  234        float64\n",
            " 236  235        float64\n",
            " 237  236        float64\n",
            " 238  237        float64\n",
            " 239  238        float64\n",
            " 240  239        float64\n",
            " 241  240        float64\n",
            " 242  241        float64\n",
            " 243  242        float64\n",
            " 244  243        float64\n",
            " 245  244        float64\n",
            " 246  245        float64\n",
            " 247  246        float64\n",
            " 248  247        float64\n",
            " 249  248        float64\n",
            " 250  249        float64\n",
            " 251  250        float64\n",
            " 252  251        float64\n",
            " 253  252        float64\n",
            " 254  253        float64\n",
            " 255  254        float64\n",
            " 256  255        float64\n",
            " 257  256        float64\n",
            " 258  257        float64\n",
            " 259  258        float64\n",
            " 260  259        float64\n",
            " 261  260        float64\n",
            " 262  261        float64\n",
            " 263  262        float64\n",
            " 264  263        float64\n",
            " 265  264        float64\n",
            " 266  265        float64\n",
            " 267  266        float64\n",
            " 268  267        float64\n",
            " 269  268        float64\n",
            " 270  269        float64\n",
            " 271  270        float64\n",
            " 272  271        float64\n",
            " 273  272        float64\n",
            " 274  273        float64\n",
            " 275  274        float64\n",
            " 276  275        float64\n",
            " 277  276        float64\n",
            " 278  277        float64\n",
            " 279  278        float64\n",
            " 280  279        float64\n",
            " 281  280        float64\n",
            " 282  281        float64\n",
            " 283  282        float64\n",
            " 284  283        float64\n",
            " 285  284        float64\n",
            " 286  285        float64\n",
            " 287  286        float64\n",
            " 288  287        float64\n",
            " 289  288        float64\n",
            " 290  289        float64\n",
            " 291  290        float64\n",
            " 292  291        float64\n",
            " 293  292        float64\n",
            " 294  293        float64\n",
            " 295  294        float64\n",
            " 296  295        float64\n",
            " 297  296        float64\n",
            " 298  297        float64\n",
            " 299  298        float64\n",
            " 300  299        float64\n",
            " 301  300        float64\n",
            " 302  301        float64\n",
            " 303  302        float64\n",
            " 304  303        float64\n",
            " 305  304        float64\n",
            " 306  305        float64\n",
            " 307  306        float64\n",
            " 308  307        float64\n",
            " 309  308        float64\n",
            " 310  309        float64\n",
            " 311  310        float64\n",
            " 312  311        float64\n",
            " 313  312        float64\n",
            " 314  313        float64\n",
            " 315  314        float64\n",
            " 316  315        float64\n",
            " 317  316        float64\n",
            " 318  317        float64\n",
            " 319  318        float64\n",
            " 320  319        float64\n",
            " 321  320        float64\n",
            " 322  321        float64\n",
            " 323  322        float64\n",
            " 324  323        float64\n",
            " 325  324        float64\n",
            " 326  325        float64\n",
            " 327  326        float64\n",
            " 328  327        float64\n",
            " 329  328        float64\n",
            " 330  329        float64\n",
            " 331  330        float64\n",
            " 332  331        float64\n",
            " 333  332        float64\n",
            " 334  333        float64\n",
            " 335  334        float64\n",
            " 336  335        float64\n",
            " 337  336        float64\n",
            " 338  337        float64\n",
            " 339  338        float64\n",
            " 340  339        float64\n",
            " 341  340        float64\n",
            " 342  341        float64\n",
            " 343  342        float64\n",
            " 344  343        float64\n",
            " 345  344        float64\n",
            " 346  345        float64\n",
            " 347  346        float64\n",
            " 348  347        float64\n",
            " 349  348        float64\n",
            " 350  349        float64\n",
            " 351  350        float64\n",
            " 352  351        float64\n",
            " 353  352        float64\n",
            " 354  353        float64\n",
            " 355  354        float64\n",
            " 356  355        float64\n",
            " 357  356        float64\n",
            " 358  357        float64\n",
            " 359  358        float64\n",
            " 360  359        float64\n",
            " 361  360        float64\n",
            " 362  361        float64\n",
            " 363  362        float64\n",
            " 364  363        float64\n",
            " 365  364        float64\n",
            " 366  365        float64\n",
            " 367  366        float64\n",
            " 368  367        float64\n",
            " 369  368        float64\n",
            " 370  369        float64\n",
            " 371  370        float64\n",
            " 372  371        float64\n",
            " 373  372        float64\n",
            " 374  373        float64\n",
            " 375  374        float64\n",
            " 376  375        float64\n",
            " 377  376        float64\n",
            " 378  377        float64\n",
            " 379  378        float64\n",
            " 380  379        float64\n",
            " 381  380        float64\n",
            " 382  381        float64\n",
            " 383  382        float64\n",
            " 384  383        float64\n",
            " 385  384        float64\n",
            " 386  385        float64\n",
            " 387  386        float64\n",
            " 388  387        float64\n",
            " 389  388        float64\n",
            " 390  389        float64\n",
            " 391  390        float64\n",
            " 392  391        float64\n",
            " 393  392        float64\n",
            " 394  393        float64\n",
            " 395  394        float64\n",
            " 396  395        float64\n",
            " 397  396        float64\n",
            " 398  397        float64\n",
            " 399  398        float64\n",
            " 400  399        float64\n",
            " 401  400        float64\n",
            " 402  401        float64\n",
            " 403  402        float64\n",
            " 404  403        float64\n",
            " 405  404        float64\n",
            " 406  405        float64\n",
            " 407  406        float64\n",
            " 408  407        float64\n",
            " 409  408        float64\n",
            " 410  409        float64\n",
            " 411  410        float64\n",
            " 412  411        float64\n",
            " 413  412        float64\n",
            " 414  413        float64\n",
            " 415  414        float64\n",
            " 416  415        float64\n",
            " 417  416        float64\n",
            " 418  417        float64\n",
            " 419  418        float64\n",
            " 420  419        float64\n",
            " 421  420        float64\n",
            " 422  421        float64\n",
            " 423  422        float64\n",
            " 424  423        float64\n",
            " 425  424        float64\n",
            " 426  425        float64\n",
            " 427  426        float64\n",
            " 428  427        float64\n",
            " 429  428        float64\n",
            " 430  429        float64\n",
            " 431  430        float64\n",
            " 432  431        float64\n",
            " 433  432        float64\n",
            " 434  433        float64\n",
            " 435  434        float64\n",
            " 436  435        float64\n",
            " 437  436        float64\n",
            " 438  437        float64\n",
            " 439  438        float64\n",
            " 440  439        float64\n",
            " 441  440        float64\n",
            " 442  441        float64\n",
            " 443  442        float64\n",
            " 444  443        float64\n",
            " 445  444        float64\n",
            " 446  445        float64\n",
            " 447  446        float64\n",
            " 448  447        float64\n",
            " 449  448        float64\n",
            " 450  449        float64\n",
            " 451  450        float64\n",
            " 452  451        float64\n",
            " 453  452        float64\n",
            " 454  453        float64\n",
            " 455  454        float64\n",
            " 456  455        float64\n",
            " 457  456        float64\n",
            " 458  457        float64\n",
            " 459  458        float64\n",
            " 460  459        float64\n",
            " 461  460        float64\n",
            " 462  461        float64\n",
            " 463  462        float64\n",
            " 464  463        float64\n",
            " 465  464        float64\n",
            " 466  465        float64\n",
            " 467  466        float64\n",
            " 468  467        float64\n",
            " 469  468        float64\n",
            " 470  469        float64\n",
            " 471  470        float64\n",
            " 472  471        float64\n",
            " 473  472        float64\n",
            " 474  473        float64\n",
            " 475  474        float64\n",
            " 476  475        float64\n",
            " 477  476        float64\n",
            " 478  477        float64\n",
            " 479  478        float64\n",
            " 480  479        float64\n",
            " 481  480        float64\n",
            " 482  481        float64\n",
            " 483  482        float64\n",
            " 484  483        float64\n",
            " 485  484        float64\n",
            " 486  485        float64\n",
            " 487  486        float64\n",
            " 488  487        float64\n",
            " 489  488        float64\n",
            " 490  489        float64\n",
            " 491  490        float64\n",
            " 492  491        float64\n",
            " 493  492        float64\n",
            " 494  493        float64\n",
            " 495  494        float64\n",
            " 496  495        float64\n",
            " 497  496        float64\n",
            " 498  497        float64\n",
            " 499  498        float64\n",
            " 500  499        float64\n",
            " 501  500        float64\n",
            " 502  501        float64\n",
            " 503  502        float64\n",
            " 504  503        float64\n",
            " 505  504        float64\n",
            " 506  505        float64\n",
            " 507  506        float64\n",
            " 508  507        float64\n",
            " 509  508        float64\n",
            " 510  509        float64\n",
            " 511  510        float64\n",
            " 512  511        float64\n",
            " 513  512        float64\n",
            " 514  513        float64\n",
            " 515  514        float64\n",
            " 516  515        float64\n",
            " 517  516        float64\n",
            " 518  517        float64\n",
            " 519  518        float64\n",
            " 520  519        float64\n",
            " 521  520        float64\n",
            " 522  521        float64\n",
            " 523  522        float64\n",
            " 524  523        float64\n",
            " 525  524        float64\n",
            " 526  525        float64\n",
            " 527  526        float64\n",
            " 528  527        float64\n",
            " 529  528        float64\n",
            " 530  529        float64\n",
            " 531  530        float64\n",
            " 532  531        float64\n",
            " 533  532        float64\n",
            " 534  533        float64\n",
            " 535  534        float64\n",
            " 536  535        float64\n",
            " 537  536        float64\n",
            " 538  537        float64\n",
            " 539  538        float64\n",
            " 540  539        float64\n",
            " 541  540        float64\n",
            " 542  541        float64\n",
            " 543  542        float64\n",
            " 544  543        float64\n",
            " 545  544        float64\n",
            " 546  545        float64\n",
            " 547  546        float64\n",
            " 548  547        float64\n",
            " 549  548        float64\n",
            " 550  549        float64\n",
            " 551  550        float64\n",
            " 552  551        float64\n",
            " 553  552        float64\n",
            " 554  553        float64\n",
            " 555  554        float64\n",
            " 556  555        float64\n",
            " 557  556        float64\n",
            " 558  557        float64\n",
            " 559  558        float64\n",
            " 560  559        float64\n",
            " 561  560        float64\n",
            " 562  561        float64\n",
            " 563  562        float64\n",
            " 564  563        float64\n",
            " 565  564        float64\n",
            " 566  565        float64\n",
            " 567  566        float64\n",
            " 568  567        float64\n",
            " 569  568        float64\n",
            " 570  569        float64\n",
            " 571  570        float64\n",
            " 572  571        float64\n",
            " 573  572        float64\n",
            " 574  573        float64\n",
            " 575  574        float64\n",
            " 576  575        float64\n",
            " 577  576        float64\n",
            " 578  577        float64\n",
            " 579  578        float64\n",
            " 580  579        float64\n",
            " 581  580        float64\n",
            " 582  581        float64\n",
            " 583  582        float64\n",
            " 584  583        float64\n",
            " 585  584        float64\n",
            " 586  585        float64\n",
            " 587  586        float64\n",
            " 588  587        float64\n",
            " 589  588        float64\n",
            " 590  589        float64\n",
            " 591  Pass/Fail  int64  \n",
            "dtypes: float64(590), int64(1), object(1)\n",
            "memory usage: 7.1+ MB\n"
          ]
        }
      ]
    },
    {
      "cell_type": "code",
      "source": [
        "df.describe().T"
      ],
      "metadata": {
        "colab": {
          "base_uri": "https://localhost:8080/",
          "height": 423
        },
        "id": "bue0dKN2aExa",
        "outputId": "89b589d0-0700-4e02-c79d-cdb2ed3acaea"
      },
      "execution_count": null,
      "outputs": [
        {
          "output_type": "execute_result",
          "data": {
            "text/plain": [
              "            count         mean         std        min          25%        50%  \\\n",
              "0          1561.0  3014.452896   73.621787  2743.2400  2966.260000  3011.4900   \n",
              "1          1560.0  2495.850231   80.407705  2158.7500  2452.247500  2499.4050   \n",
              "2          1553.0  2200.547318   29.513152  2060.6600  2181.044400  2201.0667   \n",
              "3          1553.0  1396.376627  441.691640     0.0000  1081.875800  1285.2144   \n",
              "4          1553.0     4.197013   56.355540     0.6815     1.017700     1.3168   \n",
              "...           ...          ...         ...        ...          ...        ...   \n",
              "586        1566.0     0.021458    0.012358    -0.0169     0.013425     0.0205   \n",
              "587        1566.0     0.016475    0.008808     0.0032     0.010600     0.0148   \n",
              "588        1566.0     0.005283    0.002867     0.0010     0.003300     0.0046   \n",
              "589        1566.0    99.670066   93.891919     0.0000    44.368600    71.9005   \n",
              "Pass/Fail  1567.0    -0.867262    0.498010    -1.0000    -1.000000    -1.0000   \n",
              "\n",
              "                 75%        max  \n",
              "0          3056.6500  3356.3500  \n",
              "1          2538.8225  2846.4400  \n",
              "2          2218.0555  2315.2667  \n",
              "3          1591.2235  3715.0417  \n",
              "4             1.5257  1114.5366  \n",
              "...              ...        ...  \n",
              "586           0.0276     0.1028  \n",
              "587           0.0203     0.0799  \n",
              "588           0.0064     0.0286  \n",
              "589         114.7497   737.3048  \n",
              "Pass/Fail    -1.0000     1.0000  \n",
              "\n",
              "[591 rows x 8 columns]"
            ],
            "text/html": [
              "\n",
              "  <div id=\"df-15ffa9b0-d83b-4ba1-83fd-ad49f8d94479\" class=\"colab-df-container\">\n",
              "    <div>\n",
              "<style scoped>\n",
              "    .dataframe tbody tr th:only-of-type {\n",
              "        vertical-align: middle;\n",
              "    }\n",
              "\n",
              "    .dataframe tbody tr th {\n",
              "        vertical-align: top;\n",
              "    }\n",
              "\n",
              "    .dataframe thead th {\n",
              "        text-align: right;\n",
              "    }\n",
              "</style>\n",
              "<table border=\"1\" class=\"dataframe\">\n",
              "  <thead>\n",
              "    <tr style=\"text-align: right;\">\n",
              "      <th></th>\n",
              "      <th>count</th>\n",
              "      <th>mean</th>\n",
              "      <th>std</th>\n",
              "      <th>min</th>\n",
              "      <th>25%</th>\n",
              "      <th>50%</th>\n",
              "      <th>75%</th>\n",
              "      <th>max</th>\n",
              "    </tr>\n",
              "  </thead>\n",
              "  <tbody>\n",
              "    <tr>\n",
              "      <th>0</th>\n",
              "      <td>1561.0</td>\n",
              "      <td>3014.452896</td>\n",
              "      <td>73.621787</td>\n",
              "      <td>2743.2400</td>\n",
              "      <td>2966.260000</td>\n",
              "      <td>3011.4900</td>\n",
              "      <td>3056.6500</td>\n",
              "      <td>3356.3500</td>\n",
              "    </tr>\n",
              "    <tr>\n",
              "      <th>1</th>\n",
              "      <td>1560.0</td>\n",
              "      <td>2495.850231</td>\n",
              "      <td>80.407705</td>\n",
              "      <td>2158.7500</td>\n",
              "      <td>2452.247500</td>\n",
              "      <td>2499.4050</td>\n",
              "      <td>2538.8225</td>\n",
              "      <td>2846.4400</td>\n",
              "    </tr>\n",
              "    <tr>\n",
              "      <th>2</th>\n",
              "      <td>1553.0</td>\n",
              "      <td>2200.547318</td>\n",
              "      <td>29.513152</td>\n",
              "      <td>2060.6600</td>\n",
              "      <td>2181.044400</td>\n",
              "      <td>2201.0667</td>\n",
              "      <td>2218.0555</td>\n",
              "      <td>2315.2667</td>\n",
              "    </tr>\n",
              "    <tr>\n",
              "      <th>3</th>\n",
              "      <td>1553.0</td>\n",
              "      <td>1396.376627</td>\n",
              "      <td>441.691640</td>\n",
              "      <td>0.0000</td>\n",
              "      <td>1081.875800</td>\n",
              "      <td>1285.2144</td>\n",
              "      <td>1591.2235</td>\n",
              "      <td>3715.0417</td>\n",
              "    </tr>\n",
              "    <tr>\n",
              "      <th>4</th>\n",
              "      <td>1553.0</td>\n",
              "      <td>4.197013</td>\n",
              "      <td>56.355540</td>\n",
              "      <td>0.6815</td>\n",
              "      <td>1.017700</td>\n",
              "      <td>1.3168</td>\n",
              "      <td>1.5257</td>\n",
              "      <td>1114.5366</td>\n",
              "    </tr>\n",
              "    <tr>\n",
              "      <th>...</th>\n",
              "      <td>...</td>\n",
              "      <td>...</td>\n",
              "      <td>...</td>\n",
              "      <td>...</td>\n",
              "      <td>...</td>\n",
              "      <td>...</td>\n",
              "      <td>...</td>\n",
              "      <td>...</td>\n",
              "    </tr>\n",
              "    <tr>\n",
              "      <th>586</th>\n",
              "      <td>1566.0</td>\n",
              "      <td>0.021458</td>\n",
              "      <td>0.012358</td>\n",
              "      <td>-0.0169</td>\n",
              "      <td>0.013425</td>\n",
              "      <td>0.0205</td>\n",
              "      <td>0.0276</td>\n",
              "      <td>0.1028</td>\n",
              "    </tr>\n",
              "    <tr>\n",
              "      <th>587</th>\n",
              "      <td>1566.0</td>\n",
              "      <td>0.016475</td>\n",
              "      <td>0.008808</td>\n",
              "      <td>0.0032</td>\n",
              "      <td>0.010600</td>\n",
              "      <td>0.0148</td>\n",
              "      <td>0.0203</td>\n",
              "      <td>0.0799</td>\n",
              "    </tr>\n",
              "    <tr>\n",
              "      <th>588</th>\n",
              "      <td>1566.0</td>\n",
              "      <td>0.005283</td>\n",
              "      <td>0.002867</td>\n",
              "      <td>0.0010</td>\n",
              "      <td>0.003300</td>\n",
              "      <td>0.0046</td>\n",
              "      <td>0.0064</td>\n",
              "      <td>0.0286</td>\n",
              "    </tr>\n",
              "    <tr>\n",
              "      <th>589</th>\n",
              "      <td>1566.0</td>\n",
              "      <td>99.670066</td>\n",
              "      <td>93.891919</td>\n",
              "      <td>0.0000</td>\n",
              "      <td>44.368600</td>\n",
              "      <td>71.9005</td>\n",
              "      <td>114.7497</td>\n",
              "      <td>737.3048</td>\n",
              "    </tr>\n",
              "    <tr>\n",
              "      <th>Pass/Fail</th>\n",
              "      <td>1567.0</td>\n",
              "      <td>-0.867262</td>\n",
              "      <td>0.498010</td>\n",
              "      <td>-1.0000</td>\n",
              "      <td>-1.000000</td>\n",
              "      <td>-1.0000</td>\n",
              "      <td>-1.0000</td>\n",
              "      <td>1.0000</td>\n",
              "    </tr>\n",
              "  </tbody>\n",
              "</table>\n",
              "<p>591 rows × 8 columns</p>\n",
              "</div>\n",
              "    <div class=\"colab-df-buttons\">\n",
              "\n",
              "  <div class=\"colab-df-container\">\n",
              "    <button class=\"colab-df-convert\" onclick=\"convertToInteractive('df-15ffa9b0-d83b-4ba1-83fd-ad49f8d94479')\"\n",
              "            title=\"Convert this dataframe to an interactive table.\"\n",
              "            style=\"display:none;\">\n",
              "\n",
              "  <svg xmlns=\"http://www.w3.org/2000/svg\" height=\"24px\" viewBox=\"0 -960 960 960\">\n",
              "    <path d=\"M120-120v-720h720v720H120Zm60-500h600v-160H180v160Zm220 220h160v-160H400v160Zm0 220h160v-160H400v160ZM180-400h160v-160H180v160Zm440 0h160v-160H620v160ZM180-180h160v-160H180v160Zm440 0h160v-160H620v160Z\"/>\n",
              "  </svg>\n",
              "    </button>\n",
              "\n",
              "  <style>\n",
              "    .colab-df-container {\n",
              "      display:flex;\n",
              "      gap: 12px;\n",
              "    }\n",
              "\n",
              "    .colab-df-convert {\n",
              "      background-color: #E8F0FE;\n",
              "      border: none;\n",
              "      border-radius: 50%;\n",
              "      cursor: pointer;\n",
              "      display: none;\n",
              "      fill: #1967D2;\n",
              "      height: 32px;\n",
              "      padding: 0 0 0 0;\n",
              "      width: 32px;\n",
              "    }\n",
              "\n",
              "    .colab-df-convert:hover {\n",
              "      background-color: #E2EBFA;\n",
              "      box-shadow: 0px 1px 2px rgba(60, 64, 67, 0.3), 0px 1px 3px 1px rgba(60, 64, 67, 0.15);\n",
              "      fill: #174EA6;\n",
              "    }\n",
              "\n",
              "    .colab-df-buttons div {\n",
              "      margin-bottom: 4px;\n",
              "    }\n",
              "\n",
              "    [theme=dark] .colab-df-convert {\n",
              "      background-color: #3B4455;\n",
              "      fill: #D2E3FC;\n",
              "    }\n",
              "\n",
              "    [theme=dark] .colab-df-convert:hover {\n",
              "      background-color: #434B5C;\n",
              "      box-shadow: 0px 1px 3px 1px rgba(0, 0, 0, 0.15);\n",
              "      filter: drop-shadow(0px 1px 2px rgba(0, 0, 0, 0.3));\n",
              "      fill: #FFFFFF;\n",
              "    }\n",
              "  </style>\n",
              "\n",
              "    <script>\n",
              "      const buttonEl =\n",
              "        document.querySelector('#df-15ffa9b0-d83b-4ba1-83fd-ad49f8d94479 button.colab-df-convert');\n",
              "      buttonEl.style.display =\n",
              "        google.colab.kernel.accessAllowed ? 'block' : 'none';\n",
              "\n",
              "      async function convertToInteractive(key) {\n",
              "        const element = document.querySelector('#df-15ffa9b0-d83b-4ba1-83fd-ad49f8d94479');\n",
              "        const dataTable =\n",
              "          await google.colab.kernel.invokeFunction('convertToInteractive',\n",
              "                                                    [key], {});\n",
              "        if (!dataTable) return;\n",
              "\n",
              "        const docLinkHtml = 'Like what you see? Visit the ' +\n",
              "          '<a target=\"_blank\" href=https://colab.research.google.com/notebooks/data_table.ipynb>data table notebook</a>'\n",
              "          + ' to learn more about interactive tables.';\n",
              "        element.innerHTML = '';\n",
              "        dataTable['output_type'] = 'display_data';\n",
              "        await google.colab.output.renderOutput(dataTable, element);\n",
              "        const docLink = document.createElement('div');\n",
              "        docLink.innerHTML = docLinkHtml;\n",
              "        element.appendChild(docLink);\n",
              "      }\n",
              "    </script>\n",
              "  </div>\n",
              "\n",
              "\n",
              "    <div id=\"df-40ddcacc-f6b5-4aa6-90c8-395116d5326e\">\n",
              "      <button class=\"colab-df-quickchart\" onclick=\"quickchart('df-40ddcacc-f6b5-4aa6-90c8-395116d5326e')\"\n",
              "                title=\"Suggest charts\"\n",
              "                style=\"display:none;\">\n",
              "\n",
              "<svg xmlns=\"http://www.w3.org/2000/svg\" height=\"24px\"viewBox=\"0 0 24 24\"\n",
              "     width=\"24px\">\n",
              "    <g>\n",
              "        <path d=\"M19 3H5c-1.1 0-2 .9-2 2v14c0 1.1.9 2 2 2h14c1.1 0 2-.9 2-2V5c0-1.1-.9-2-2-2zM9 17H7v-7h2v7zm4 0h-2V7h2v10zm4 0h-2v-4h2v4z\"/>\n",
              "    </g>\n",
              "</svg>\n",
              "      </button>\n",
              "\n",
              "<style>\n",
              "  .colab-df-quickchart {\n",
              "      --bg-color: #E8F0FE;\n",
              "      --fill-color: #1967D2;\n",
              "      --hover-bg-color: #E2EBFA;\n",
              "      --hover-fill-color: #174EA6;\n",
              "      --disabled-fill-color: #AAA;\n",
              "      --disabled-bg-color: #DDD;\n",
              "  }\n",
              "\n",
              "  [theme=dark] .colab-df-quickchart {\n",
              "      --bg-color: #3B4455;\n",
              "      --fill-color: #D2E3FC;\n",
              "      --hover-bg-color: #434B5C;\n",
              "      --hover-fill-color: #FFFFFF;\n",
              "      --disabled-bg-color: #3B4455;\n",
              "      --disabled-fill-color: #666;\n",
              "  }\n",
              "\n",
              "  .colab-df-quickchart {\n",
              "    background-color: var(--bg-color);\n",
              "    border: none;\n",
              "    border-radius: 50%;\n",
              "    cursor: pointer;\n",
              "    display: none;\n",
              "    fill: var(--fill-color);\n",
              "    height: 32px;\n",
              "    padding: 0;\n",
              "    width: 32px;\n",
              "  }\n",
              "\n",
              "  .colab-df-quickchart:hover {\n",
              "    background-color: var(--hover-bg-color);\n",
              "    box-shadow: 0 1px 2px rgba(60, 64, 67, 0.3), 0 1px 3px 1px rgba(60, 64, 67, 0.15);\n",
              "    fill: var(--button-hover-fill-color);\n",
              "  }\n",
              "\n",
              "  .colab-df-quickchart-complete:disabled,\n",
              "  .colab-df-quickchart-complete:disabled:hover {\n",
              "    background-color: var(--disabled-bg-color);\n",
              "    fill: var(--disabled-fill-color);\n",
              "    box-shadow: none;\n",
              "  }\n",
              "\n",
              "  .colab-df-spinner {\n",
              "    border: 2px solid var(--fill-color);\n",
              "    border-color: transparent;\n",
              "    border-bottom-color: var(--fill-color);\n",
              "    animation:\n",
              "      spin 1s steps(1) infinite;\n",
              "  }\n",
              "\n",
              "  @keyframes spin {\n",
              "    0% {\n",
              "      border-color: transparent;\n",
              "      border-bottom-color: var(--fill-color);\n",
              "      border-left-color: var(--fill-color);\n",
              "    }\n",
              "    20% {\n",
              "      border-color: transparent;\n",
              "      border-left-color: var(--fill-color);\n",
              "      border-top-color: var(--fill-color);\n",
              "    }\n",
              "    30% {\n",
              "      border-color: transparent;\n",
              "      border-left-color: var(--fill-color);\n",
              "      border-top-color: var(--fill-color);\n",
              "      border-right-color: var(--fill-color);\n",
              "    }\n",
              "    40% {\n",
              "      border-color: transparent;\n",
              "      border-right-color: var(--fill-color);\n",
              "      border-top-color: var(--fill-color);\n",
              "    }\n",
              "    60% {\n",
              "      border-color: transparent;\n",
              "      border-right-color: var(--fill-color);\n",
              "    }\n",
              "    80% {\n",
              "      border-color: transparent;\n",
              "      border-right-color: var(--fill-color);\n",
              "      border-bottom-color: var(--fill-color);\n",
              "    }\n",
              "    90% {\n",
              "      border-color: transparent;\n",
              "      border-bottom-color: var(--fill-color);\n",
              "    }\n",
              "  }\n",
              "</style>\n",
              "\n",
              "      <script>\n",
              "        async function quickchart(key) {\n",
              "          const quickchartButtonEl =\n",
              "            document.querySelector('#' + key + ' button');\n",
              "          quickchartButtonEl.disabled = true;  // To prevent multiple clicks.\n",
              "          quickchartButtonEl.classList.add('colab-df-spinner');\n",
              "          try {\n",
              "            const charts = await google.colab.kernel.invokeFunction(\n",
              "                'suggestCharts', [key], {});\n",
              "          } catch (error) {\n",
              "            console.error('Error during call to suggestCharts:', error);\n",
              "          }\n",
              "          quickchartButtonEl.classList.remove('colab-df-spinner');\n",
              "          quickchartButtonEl.classList.add('colab-df-quickchart-complete');\n",
              "        }\n",
              "        (() => {\n",
              "          let quickchartButtonEl =\n",
              "            document.querySelector('#df-40ddcacc-f6b5-4aa6-90c8-395116d5326e button');\n",
              "          quickchartButtonEl.style.display =\n",
              "            google.colab.kernel.accessAllowed ? 'block' : 'none';\n",
              "        })();\n",
              "      </script>\n",
              "    </div>\n",
              "\n",
              "    </div>\n",
              "  </div>\n"
            ],
            "application/vnd.google.colaboratory.intrinsic+json": {
              "type": "dataframe",
              "summary": "{\n  \"name\": \"df\",\n  \"rows\": 591,\n  \"fields\": [\n    {\n      \"column\": \"count\",\n      \"properties\": {\n        \"dtype\": \"number\",\n        \"std\": 241.6632193314061,\n        \"min\": 138.0,\n        \"max\": 1567.0,\n        \"num_unique_values\": 23,\n        \"samples\": [\n          549.0,\n          1543.0,\n          1561.0\n        ],\n        \"semantic_type\": \"\",\n        \"description\": \"\"\n      }\n    },\n    {\n      \"column\": \"mean\",\n      \"properties\": {\n        \"dtype\": \"number\",\n        \"std\": 609.3158106143014,\n        \"min\": -5618.393610223642,\n        \"max\": 8827.536865303431,\n        \"num_unique_values\": 479,\n        \"samples\": [\n          6.0025624599615635e-05,\n          0.5410398907103825,\n          0.9288493282149711\n        ],\n        \"semantic_type\": \"\",\n        \"description\": \"\"\n      }\n    },\n    {\n      \"column\": \"std\",\n      \"properties\": {\n        \"dtype\": \"number\",\n        \"std\": 387.113043253168,\n        \"min\": 0.0,\n        \"max\": 6553.569317232147,\n        \"num_unique_values\": 476,\n        \"samples\": [\n          0.0034043251020306215,\n          1.1826181758105376,\n          52.253014757751814\n        ],\n        \"semantic_type\": \"\",\n        \"description\": \"\"\n      }\n    },\n    {\n      \"column\": \"min\",\n      \"properties\": {\n        \"dtype\": \"number\",\n        \"std\": 878.8439515310279,\n        \"min\": -14804.5,\n        \"max\": 7397.31,\n        \"num_unique_values\": 379,\n        \"samples\": [\n          0.3632,\n          0.4411,\n          0.0287\n        ],\n        \"semantic_type\": \"\",\n        \"description\": \"\"\n      }\n    },\n    {\n      \"column\": \"25%\",\n      \"properties\": {\n        \"dtype\": \"number\",\n        \"std\": 545.5213117371195,\n        \"min\": -5933.25,\n        \"max\": 8564.689975,\n        \"num_unique_values\": 447,\n        \"samples\": [\n          2.5327,\n          55.55515,\n          0.9744\n        ],\n        \"semantic_type\": \"\",\n        \"description\": \"\"\n      }\n    },\n    {\n      \"column\": \"50%\",\n      \"properties\": {\n        \"dtype\": \"number\",\n        \"std\": 554.0371555643655,\n        \"min\": -5523.25,\n        \"max\": 8825.435099999999,\n        \"num_unique_values\": 445,\n        \"samples\": [\n          0.0024,\n          4.0611,\n          38.9026\n        ],\n        \"semantic_type\": \"\",\n        \"description\": \"\"\n      }\n    },\n    {\n      \"column\": \"75%\",\n      \"properties\": {\n        \"dtype\": \"number\",\n        \"std\": 658.5242113753692,\n        \"min\": -5356.25,\n        \"max\": 9065.432400000002,\n        \"num_unique_values\": 453,\n        \"samples\": [\n          6.902475,\n          118.9396,\n          6.0057\n        ],\n        \"semantic_type\": \"\",\n        \"description\": \"\"\n      }\n    },\n    {\n      \"column\": \"max\",\n      \"properties\": {\n        \"dtype\": \"number\",\n        \"std\": 2632.6243676364884,\n        \"min\": 0.0,\n        \"max\": 37943.0,\n        \"num_unique_values\": 456,\n        \"samples\": [\n          77.8007,\n          37.88,\n          273.0952\n        ],\n        \"semantic_type\": \"\",\n        \"description\": \"\"\n      }\n    }\n  ]\n}"
            }
          },
          "metadata": {},
          "execution_count": 26
        }
      ]
    },
    {
      "cell_type": "markdown",
      "source": [
        "*   The differnce in values from 3rd Quartile and max value is greater which shows there is high skewness towards the max value or right skewed.The data is not normally distributed and the data has more outliers towards the right tails, which requiers heavy outlier treatment.\n",
        "*   The Feature '5' has a constant value '100' for all the records which is not providing any information in the analysis of the dataset or patterns\n",
        "*   The feature '4' exhibits a abnormal devaition in maximum value(outlier).\n",
        "*   Most of the features exhibits,the value of max that significantly surpasses Q3 by more than a standard deviation deviation is a strong candidate for an outlier."
      ],
      "metadata": {
        "id": "dHGlr7jEbCXb"
      }
    },
    {
      "cell_type": "markdown",
      "source": [
        "# **Data cleansing:**"
      ],
      "metadata": {
        "id": "TcDAvqg_czox"
      }
    },
    {
      "cell_type": "code",
      "source": [
        "#for loop which will remove all the features with 20%+ Null values and impute rest with mean of the feature\n",
        "from os import sched_get_priority_max\n",
        "def handle_missing_values(df):\n",
        "\n",
        "\n",
        "  # Calculate null value percentages\n",
        "  null_values = df.isnull().sum() / len(df)\n",
        "\n",
        "\n",
        "  #  remove all the features with 20%+ Null values\n",
        "  df = df.loc[:, null_values < 0.2]\n",
        "\n",
        "  # Separate numeric and categorical features\n",
        "  numeric_cols = df.select_dtypes(include=['int64', 'float64'])\n",
        "  categorical_cols = df.select_dtypes(include='object')\n",
        "\n",
        "  # Impute missing values in numeric features with mean\n",
        "  for col in numeric_cols:\n",
        "      if df[col].isnull().any():\n",
        "          df.loc[:, col] = df[col].fillna(df[col].mean())  # Efficient in-place modification\n",
        "\n",
        "  # Impute missing values in categorical features with mode\n",
        "  for col in categorical_cols:\n",
        "      if df[col].isnull().any():\n",
        "          df.loc[:, col] = df[col].fillna(df[col].mode()[0])  # Efficient in-place modification\n",
        "\n",
        "  return df\n",
        "\n",
        "\n",
        "df = handle_missing_values(df.copy())\n"
      ],
      "metadata": {
        "id": "hzUxjX8Ep0lr"
      },
      "execution_count": null,
      "outputs": []
    },
    {
      "cell_type": "code",
      "source": [
        "print(df.info())"
      ],
      "metadata": {
        "colab": {
          "base_uri": "https://localhost:8080/"
        },
        "id": "ym9fHMoCT8Zu",
        "outputId": "6ceb0c53-4a38-4127-836c-480caf4e9713"
      },
      "execution_count": null,
      "outputs": [
        {
          "output_type": "stream",
          "name": "stdout",
          "text": [
            "<class 'pandas.core.frame.DataFrame'>\n",
            "RangeIndex: 1567 entries, 0 to 1566\n",
            "Columns: 560 entries, Time to Pass/Fail\n",
            "dtypes: float64(558), int64(1), object(1)\n",
            "memory usage: 6.7+ MB\n",
            "None\n"
          ]
        }
      ]
    },
    {
      "cell_type": "code",
      "source": [
        "# Check for any missing values after imputing with mean\n",
        "has_missing_values = df.isna().any().any()  # Double `.any()` for overall check\n",
        "\n",
        "if has_missing_values:\n",
        "    print(\"There are missing values in the DataFrame.\")\n",
        "else:\n",
        "    print(\"No missing values found.\")"
      ],
      "metadata": {
        "colab": {
          "base_uri": "https://localhost:8080/"
        },
        "id": "RH-JzgUD-VvF",
        "outputId": "39e5cd5c-49d1-4691-8026-a8e5c09ab5e2"
      },
      "execution_count": null,
      "outputs": [
        {
          "output_type": "stream",
          "name": "stdout",
          "text": [
            "No missing values found.\n"
          ]
        }
      ]
    },
    {
      "cell_type": "code",
      "source": [
        "#Identify and drop the features which are having same value for all the rows\n",
        "\n",
        "def drop_constant_columns(df):\n",
        "  '''\n",
        "  Drops columns from a DataFrame that have the same value in all rows and prints the dropped column names.'''\n",
        "\n",
        "  # Identify constant columns (using nunique)\n",
        "  constants = df.nunique() == 1\n",
        "\n",
        "  if constants.any():\n",
        "    # Find actual constant column names\n",
        "    constant_names = df.columns[constants]\n",
        "\n",
        "    # Drop constant columns\n",
        "    df = df.drop(columns=constant_names)\n",
        "\n",
        "    # Print the constant column names\n",
        "    print(\"Dropped constant columns (same value in all rows):\", list(constant_names))\n",
        "    n_dropped_rows = len(constant_names)\n",
        "    print(\"No of Feature dropped :\", (n_dropped_rows))\n",
        "    #print(\"DataFrame after dropping constant columns:\")\n",
        "    print(df.info())\n",
        "  else:\n",
        "    print(\"No constant columns found in the DataFrame.\")\n",
        "\n",
        "  return df\n",
        "\n",
        "\n",
        "# Check for and drop constant columns\n",
        "df = drop_constant_columns(df.copy())  # Operate on a copy to avoid modifying the original\n",
        "\n"
      ],
      "metadata": {
        "colab": {
          "base_uri": "https://localhost:8080/"
        },
        "id": "tknYrw2DcgH7",
        "outputId": "17b64f81-6caa-453c-8bb2-db6f0535ed0a"
      },
      "execution_count": null,
      "outputs": [
        {
          "output_type": "stream",
          "name": "stdout",
          "text": [
            "Dropped constant columns (same value in all rows): ['5', '13', '42', '49', '52', '69', '97', '141', '149', '178', '179', '186', '189', '190', '191', '192', '193', '194', '226', '229', '230', '231', '232', '233', '234', '235', '236', '237', '240', '241', '242', '243', '256', '257', '258', '259', '260', '261', '262', '263', '264', '265', '266', '276', '284', '313', '314', '315', '322', '325', '326', '327', '328', '329', '330', '364', '369', '370', '371', '372', '373', '374', '375', '378', '379', '380', '381', '394', '395', '396', '397', '398', '399', '400', '401', '402', '403', '404', '414', '422', '449', '450', '451', '458', '461', '462', '463', '464', '465', '466', '481', '498', '501', '502', '503', '504', '505', '506', '507', '508', '509', '512', '513', '514', '515', '528', '529', '530', '531', '532', '533', '534', '535', '536', '537', '538']\n",
            "No of Feature dropped : 116\n",
            "<class 'pandas.core.frame.DataFrame'>\n",
            "RangeIndex: 1567 entries, 0 to 1566\n",
            "Columns: 444 entries, Time to Pass/Fail\n",
            "dtypes: float64(442), int64(1), object(1)\n",
            "memory usage: 5.3+ MB\n",
            "None\n"
          ]
        }
      ]
    },
    {
      "cell_type": "code",
      "source": [
        "#check if there are any duplicate rows and drop\n",
        "\n",
        "def drop_and_count_duplicates(df):\n",
        "\n",
        "  # Check for duplicates (using `any` method)\n",
        "  duplicates = df.duplicated()\n",
        "\n",
        "  if duplicates.any():\n",
        "    print(\"Number of duplicate rows:\", duplicates.sum())\n",
        "\n",
        "    # Drop duplicate rows (inplace modification)\n",
        "    df.drop_duplicates(inplace=True)\n",
        "    print(\"Duplicate rows dropped successfully!\")\n",
        "  else:\n",
        "    print(\"There are no duplicate rows in the DataFrame\")\n",
        "\n",
        "  return df\n",
        "\n",
        "  # Check for and drop duplicates\n",
        "sd = drop_and_count_duplicates(df.copy())  # Operate on a copy to avoid modifying the original\n",
        "\n",
        "# Print the DataFrame after dropping duplicates\n",
        "print(df.info())"
      ],
      "metadata": {
        "colab": {
          "base_uri": "https://localhost:8080/"
        },
        "id": "cP3TMISFZqjS",
        "outputId": "7ca9aac8-b54d-46e6-9049-933162734ed6"
      },
      "execution_count": null,
      "outputs": [
        {
          "output_type": "stream",
          "name": "stdout",
          "text": [
            "There are no duplicate rows in the DataFrame\n",
            "<class 'pandas.core.frame.DataFrame'>\n",
            "RangeIndex: 1567 entries, 0 to 1566\n",
            "Columns: 444 entries, Time to Pass/Fail\n",
            "dtypes: float64(442), int64(1), object(1)\n",
            "memory usage: 5.3+ MB\n",
            "None\n"
          ]
        }
      ]
    },
    {
      "cell_type": "code",
      "source": [
        "#drop the time feature\n",
        "df=df.drop('Time', axis=1)\n",
        "df.info()"
      ],
      "metadata": {
        "id": "FBejkuPfvwxd",
        "colab": {
          "base_uri": "https://localhost:8080/"
        },
        "outputId": "4c245108-d264-4c4c-a699-dd7c62e1ef5f"
      },
      "execution_count": null,
      "outputs": [
        {
          "output_type": "stream",
          "name": "stdout",
          "text": [
            "<class 'pandas.core.frame.DataFrame'>\n",
            "RangeIndex: 1567 entries, 0 to 1566\n",
            "Columns: 443 entries, 0 to Pass/Fail\n",
            "dtypes: float64(442), int64(1)\n",
            "memory usage: 5.3 MB\n"
          ]
        }
      ]
    },
    {
      "cell_type": "code",
      "source": [
        "# Let us check whether any of the columns has any value other than numeric i.e. data is not corrupted such as a \"?\" instead of a number.\n",
        "\n",
        "df[~df.iloc[:, 1:].applymap(np.isreal).all(1)]"
      ],
      "metadata": {
        "colab": {
          "base_uri": "https://localhost:8080/",
          "height": 113
        },
        "id": "rF1rreN9BvOV",
        "outputId": "510d79a0-f557-406a-cf41-f45e84a21d0b"
      },
      "execution_count": null,
      "outputs": [
        {
          "output_type": "stream",
          "name": "stderr",
          "text": [
            "<ipython-input-33-2b010c65eeee>:3: FutureWarning: DataFrame.applymap has been deprecated. Use DataFrame.map instead.\n",
            "  df[~df.iloc[:, 1:].applymap(np.isreal).all(1)]\n"
          ]
        },
        {
          "output_type": "execute_result",
          "data": {
            "text/plain": [
              "Empty DataFrame\n",
              "Columns: [0, 1, 2, 3, 4, 6, 7, 8, 9, 10, 11, 12, 14, 15, 16, 17, 18, 19, 20, 21, 22, 23, 24, 25, 26, 27, 28, 29, 30, 31, 32, 33, 34, 35, 36, 37, 38, 39, 40, 41, 43, 44, 45, 46, 47, 48, 50, 51, 53, 54, 55, 56, 57, 58, 59, 60, 61, 62, 63, 64, 65, 66, 67, 68, 70, 71, 74, 75, 76, 77, 78, 79, 80, 81, 82, 83, 84, 86, 87, 88, 89, 90, 91, 92, 93, 94, 95, 96, 98, 99, 100, 101, 102, 103, 104, 105, 106, 107, 108, 113, ...]\n",
              "Index: []\n",
              "\n",
              "[0 rows x 443 columns]"
            ],
            "text/html": [
              "\n",
              "  <div id=\"df-a9689ea6-dfbe-4be6-9fac-1b5ed0b8c964\" class=\"colab-df-container\">\n",
              "    <div>\n",
              "<style scoped>\n",
              "    .dataframe tbody tr th:only-of-type {\n",
              "        vertical-align: middle;\n",
              "    }\n",
              "\n",
              "    .dataframe tbody tr th {\n",
              "        vertical-align: top;\n",
              "    }\n",
              "\n",
              "    .dataframe thead th {\n",
              "        text-align: right;\n",
              "    }\n",
              "</style>\n",
              "<table border=\"1\" class=\"dataframe\">\n",
              "  <thead>\n",
              "    <tr style=\"text-align: right;\">\n",
              "      <th></th>\n",
              "      <th>0</th>\n",
              "      <th>1</th>\n",
              "      <th>2</th>\n",
              "      <th>3</th>\n",
              "      <th>4</th>\n",
              "      <th>6</th>\n",
              "      <th>7</th>\n",
              "      <th>8</th>\n",
              "      <th>9</th>\n",
              "      <th>10</th>\n",
              "      <th>...</th>\n",
              "      <th>577</th>\n",
              "      <th>582</th>\n",
              "      <th>583</th>\n",
              "      <th>584</th>\n",
              "      <th>585</th>\n",
              "      <th>586</th>\n",
              "      <th>587</th>\n",
              "      <th>588</th>\n",
              "      <th>589</th>\n",
              "      <th>Pass/Fail</th>\n",
              "    </tr>\n",
              "  </thead>\n",
              "  <tbody>\n",
              "  </tbody>\n",
              "</table>\n",
              "<p>0 rows × 443 columns</p>\n",
              "</div>\n",
              "    <div class=\"colab-df-buttons\">\n",
              "\n",
              "  <div class=\"colab-df-container\">\n",
              "    <button class=\"colab-df-convert\" onclick=\"convertToInteractive('df-a9689ea6-dfbe-4be6-9fac-1b5ed0b8c964')\"\n",
              "            title=\"Convert this dataframe to an interactive table.\"\n",
              "            style=\"display:none;\">\n",
              "\n",
              "  <svg xmlns=\"http://www.w3.org/2000/svg\" height=\"24px\" viewBox=\"0 -960 960 960\">\n",
              "    <path d=\"M120-120v-720h720v720H120Zm60-500h600v-160H180v160Zm220 220h160v-160H400v160Zm0 220h160v-160H400v160ZM180-400h160v-160H180v160Zm440 0h160v-160H620v160ZM180-180h160v-160H180v160Zm440 0h160v-160H620v160Z\"/>\n",
              "  </svg>\n",
              "    </button>\n",
              "\n",
              "  <style>\n",
              "    .colab-df-container {\n",
              "      display:flex;\n",
              "      gap: 12px;\n",
              "    }\n",
              "\n",
              "    .colab-df-convert {\n",
              "      background-color: #E8F0FE;\n",
              "      border: none;\n",
              "      border-radius: 50%;\n",
              "      cursor: pointer;\n",
              "      display: none;\n",
              "      fill: #1967D2;\n",
              "      height: 32px;\n",
              "      padding: 0 0 0 0;\n",
              "      width: 32px;\n",
              "    }\n",
              "\n",
              "    .colab-df-convert:hover {\n",
              "      background-color: #E2EBFA;\n",
              "      box-shadow: 0px 1px 2px rgba(60, 64, 67, 0.3), 0px 1px 3px 1px rgba(60, 64, 67, 0.15);\n",
              "      fill: #174EA6;\n",
              "    }\n",
              "\n",
              "    .colab-df-buttons div {\n",
              "      margin-bottom: 4px;\n",
              "    }\n",
              "\n",
              "    [theme=dark] .colab-df-convert {\n",
              "      background-color: #3B4455;\n",
              "      fill: #D2E3FC;\n",
              "    }\n",
              "\n",
              "    [theme=dark] .colab-df-convert:hover {\n",
              "      background-color: #434B5C;\n",
              "      box-shadow: 0px 1px 3px 1px rgba(0, 0, 0, 0.15);\n",
              "      filter: drop-shadow(0px 1px 2px rgba(0, 0, 0, 0.3));\n",
              "      fill: #FFFFFF;\n",
              "    }\n",
              "  </style>\n",
              "\n",
              "    <script>\n",
              "      const buttonEl =\n",
              "        document.querySelector('#df-a9689ea6-dfbe-4be6-9fac-1b5ed0b8c964 button.colab-df-convert');\n",
              "      buttonEl.style.display =\n",
              "        google.colab.kernel.accessAllowed ? 'block' : 'none';\n",
              "\n",
              "      async function convertToInteractive(key) {\n",
              "        const element = document.querySelector('#df-a9689ea6-dfbe-4be6-9fac-1b5ed0b8c964');\n",
              "        const dataTable =\n",
              "          await google.colab.kernel.invokeFunction('convertToInteractive',\n",
              "                                                    [key], {});\n",
              "        if (!dataTable) return;\n",
              "\n",
              "        const docLinkHtml = 'Like what you see? Visit the ' +\n",
              "          '<a target=\"_blank\" href=https://colab.research.google.com/notebooks/data_table.ipynb>data table notebook</a>'\n",
              "          + ' to learn more about interactive tables.';\n",
              "        element.innerHTML = '';\n",
              "        dataTable['output_type'] = 'display_data';\n",
              "        await google.colab.output.renderOutput(dataTable, element);\n",
              "        const docLink = document.createElement('div');\n",
              "        docLink.innerHTML = docLinkHtml;\n",
              "        element.appendChild(docLink);\n",
              "      }\n",
              "    </script>\n",
              "  </div>\n",
              "\n",
              "\n",
              "    </div>\n",
              "  </div>\n"
            ],
            "application/vnd.google.colaboratory.intrinsic+json": {
              "type": "dataframe"
            }
          },
          "metadata": {},
          "execution_count": 33
        }
      ]
    },
    {
      "cell_type": "code",
      "source": [
        "df['Pass/Fail'].value_counts()"
      ],
      "metadata": {
        "id": "d2B7mcnBJ6u9",
        "colab": {
          "base_uri": "https://localhost:8080/",
          "height": 178
        },
        "outputId": "07573180-5e22-4c0f-a50e-ae211798a6b2"
      },
      "execution_count": null,
      "outputs": [
        {
          "output_type": "execute_result",
          "data": {
            "text/plain": [
              "Pass/Fail\n",
              "-1    1463\n",
              " 1     104\n",
              "Name: count, dtype: int64"
            ],
            "text/html": [
              "<div>\n",
              "<style scoped>\n",
              "    .dataframe tbody tr th:only-of-type {\n",
              "        vertical-align: middle;\n",
              "    }\n",
              "\n",
              "    .dataframe tbody tr th {\n",
              "        vertical-align: top;\n",
              "    }\n",
              "\n",
              "    .dataframe thead th {\n",
              "        text-align: right;\n",
              "    }\n",
              "</style>\n",
              "<table border=\"1\" class=\"dataframe\">\n",
              "  <thead>\n",
              "    <tr style=\"text-align: right;\">\n",
              "      <th></th>\n",
              "      <th>count</th>\n",
              "    </tr>\n",
              "    <tr>\n",
              "      <th>Pass/Fail</th>\n",
              "      <th></th>\n",
              "    </tr>\n",
              "  </thead>\n",
              "  <tbody>\n",
              "    <tr>\n",
              "      <th>-1</th>\n",
              "      <td>1463</td>\n",
              "    </tr>\n",
              "    <tr>\n",
              "      <th>1</th>\n",
              "      <td>104</td>\n",
              "    </tr>\n",
              "  </tbody>\n",
              "</table>\n",
              "</div><br><label><b>dtype:</b> int64</label>"
            ]
          },
          "metadata": {},
          "execution_count": 34
        }
      ]
    },
    {
      "cell_type": "markdown",
      "source": [
        "- Check for any duplicate rows in the dataset the duplicate rows are not going to help in find/predicting the patterns in datase.To reduce the complexity duplicate rows can be deleted.\n",
        "- The 'Time' feature can be dropped as it is doesnt add much value to the dataset."
      ],
      "metadata": {
        "id": "OVbR60-5i3_C"
      }
    },
    {
      "cell_type": "markdown",
      "source": [
        "**Check for multi-collinearity in the data**"
      ],
      "metadata": {
        "id": "BaLwDbmvv0XM"
      }
    },
    {
      "cell_type": "code",
      "source": [
        "corr_matrix = df.corr()\n",
        "print(corr_matrix)"
      ],
      "metadata": {
        "id": "vu7QhIdwmj9b",
        "colab": {
          "base_uri": "https://localhost:8080/"
        },
        "outputId": "e98fa2dc-1103-4bb6-fc25-ca61dd61ff8a"
      },
      "execution_count": null,
      "outputs": [
        {
          "output_type": "stream",
          "name": "stdout",
          "text": [
            "                  0         1         2         3         4         6  \\\n",
            "0          1.000000 -0.143840  0.004756 -0.007613 -0.011014  0.002270   \n",
            "1         -0.143840  1.000000  0.005767 -0.007568 -0.001636 -0.025564   \n",
            "2          0.004756  0.005767  1.000000  0.298935  0.095891 -0.136225   \n",
            "3         -0.007613 -0.007568  0.298935  1.000000 -0.058483 -0.685835   \n",
            "4         -0.011014 -0.001636  0.095891 -0.058483  1.000000 -0.074368   \n",
            "...             ...       ...       ...       ...       ...       ...   \n",
            "586        0.018443 -0.009403 -0.025495  0.034711 -0.043929 -0.041209   \n",
            "587       -0.025880  0.017266 -0.029345 -0.039132 -0.031005  0.034027   \n",
            "588       -0.028166  0.010118 -0.030818 -0.033645 -0.026100  0.032227   \n",
            "589        0.004174  0.044797 -0.032890 -0.080341  0.050910  0.043777   \n",
            "Pass/Fail -0.025141 -0.002603 -0.000957 -0.024623 -0.013756  0.016239   \n",
            "\n",
            "                  7         8         9        10  ...       577       582  \\\n",
            "0          0.031483 -0.052622  0.009045  0.006504  ...  0.008601  0.000224   \n",
            "1         -0.012037  0.031258  0.023964  0.009645  ... -0.010145  0.043556   \n",
            "2         -0.146213  0.023528  0.016168  0.069893  ... -0.028705 -0.006023   \n",
            "3          0.073856 -0.102892  0.068215  0.049873  ...  0.016438  0.008988   \n",
            "4         -0.347734 -0.025946  0.054206 -0.006470  ... -0.004070  0.045081   \n",
            "...             ...       ...       ...       ...  ...       ...       ...   \n",
            "586        0.058113  0.010433  0.033738  0.000327  ... -0.002684 -0.016726   \n",
            "587       -0.021426  0.022845  0.059301  0.046965  ... -0.009405 -0.024473   \n",
            "588       -0.020893  0.026250  0.060758  0.046048  ... -0.015596 -0.020705   \n",
            "589       -0.107804 -0.022770  0.004880  0.008393  ... -0.024766  0.041486   \n",
            "Pass/Fail  0.012991  0.028016 -0.031191  0.033639  ... -0.049633  0.047020   \n",
            "\n",
            "                583       584       585       586       587       588  \\\n",
            "0          0.023453  0.019907  0.023589  0.018443 -0.025880 -0.028166   \n",
            "1          0.002904 -0.001264  0.002273 -0.009403  0.017266  0.010118   \n",
            "2          0.015697  0.018225  0.015752 -0.025495 -0.029345 -0.030818   \n",
            "3          0.025436  0.024736  0.026019  0.034711 -0.039132 -0.033645   \n",
            "4         -0.001300 -0.001597 -0.001616 -0.043929 -0.031005 -0.026100   \n",
            "...             ...       ...       ...       ...       ...       ...   \n",
            "586        0.002257  0.001605  0.002743  1.000000  0.167913  0.164238   \n",
            "587       -0.002649 -0.002498 -0.002930  0.167913  1.000000  0.974276   \n",
            "588       -0.002260 -0.001957 -0.002530  0.164238  0.974276  1.000000   \n",
            "589       -0.003008 -0.003295 -0.003800 -0.486559  0.390813  0.389211   \n",
            "Pass/Fail  0.005981  0.005419  0.005034  0.004156  0.035391  0.031167   \n",
            "\n",
            "                589  Pass/Fail  \n",
            "0          0.004174  -0.025141  \n",
            "1          0.044797  -0.002603  \n",
            "2         -0.032890  -0.000957  \n",
            "3         -0.080341  -0.024623  \n",
            "4          0.050910  -0.013756  \n",
            "...             ...        ...  \n",
            "586       -0.486559   0.004156  \n",
            "587        0.390813   0.035391  \n",
            "588        0.389211   0.031167  \n",
            "589        1.000000  -0.002653  \n",
            "Pass/Fail -0.002653   1.000000  \n",
            "\n",
            "[443 rows x 443 columns]\n"
          ]
        }
      ]
    },
    {
      "cell_type": "code",
      "source": [
        "#Checks for multicollinearity in a DataFrame and drops highly correlated features.\n",
        "def handle_multicollinearity(df, threshold=0.9):\n",
        "\n",
        "  # Calculate correlation matrix\n",
        "  corr_matrix = df.corr()\n",
        "\n",
        "  # Identify highly correlated features (excluding diagonal and self-correlations)\n",
        "  features_to_drop = set()\n",
        "  for col in corr_matrix:\n",
        "    for other_col in corr_matrix.columns[corr_matrix.columns.get_loc(col) + 1:]:  # Skip self-correlation\n",
        "      corr = corr_matrix.loc[col, other_col]\n",
        "      if abs(corr) > threshold and col != other_col:\n",
        "        features_to_drop.add(other_col)\n",
        "\n",
        "  if features_to_drop:\n",
        "    # Drop features with high correlation\n",
        "    df = df.drop(columns=list(features_to_drop))\n",
        "    print(\"Dropped features due to multicollinearity with correlation > \", threshold, \":\", list(features_to_drop))\n",
        "    print(\"No of Columns dropped :\", len(features_to_drop))\n",
        "  else:\n",
        "    print(\"No significant multicollinearity detected.\")\n",
        "\n",
        "  return df\n",
        "\n",
        "\n",
        "# Check and handle multicollinearity (adjust threshold as needed)\n",
        "df = handle_multicollinearity(df.copy())\n",
        "\n"
      ],
      "metadata": {
        "colab": {
          "base_uri": "https://localhost:8080/"
        },
        "id": "Y0Q0A-KEbE00",
        "outputId": "569472ed-0bf5-43d4-f513-81db98b6c166"
      },
      "execution_count": null,
      "outputs": [
        {
          "output_type": "stream",
          "name": "stdout",
          "text": [
            "Dropped features due to multicollinearity with correlation >  0.9 : ['440', '353', '101', '569', '174', '479', '338', '390', '407', '335', '406', '455', '70', '283', '387', '279', '445', '349', '274', '206', '332', '333', '539', '355', '294', '434', '522', '359', '417', '470', '491', '424', '342', '356', '552', '307', '252', '54', '366', '299', '347', '411', '323', '304', '282', '311', '388', '275', '297', '324', '520', '270', '437', '303', '331', '575', '494', '298', '413', '541', '36', '415', '343', '392', '154', '475', '289', '435', '354', '296', '301', '447', '271', '429', '443', '420', '344', '426', '469', '495', '561', '285', '277', '584', '389', '556', '305', '448', '300', '446', '350', '442', '281', '568', '291', '478', '428', '452', '427', '459', '341', '523', '50', '405', '306', '490', '360', '376', '525', '278', '386', '308', '363', '207', '453', '554', '272', '209', '123', '286', '334', '416', '309', '321', '337', '365', '477', '567', '362', '96', '106', '454', '290', '357', '361', '377', '574', '27', '273', '456', '540', '585', '340', '288', '339', '302', '310', '104', '527', '441', '545', '493', '467', '421', '352', '165', '444', '393', '436', '391', '553', '409', '457', '105', '140', '127', '336', '566', '408', '152', '249', '204', '312', '576', '287', '410', '524', '351', '295', '164', '320', '588', '348', '319', '148', '425', '471', '317', '280', '497', '526', '577', '199', '557', '318']\n",
            "No of Columns dropped : 195\n"
          ]
        }
      ]
    },
    {
      "cell_type": "code",
      "source": [
        "\n",
        "print(df.info())"
      ],
      "metadata": {
        "colab": {
          "base_uri": "https://localhost:8080/"
        },
        "id": "LcHcKesNXzlr",
        "outputId": "27eb8667-bf55-4166-d45a-7a1ec93a943b"
      },
      "execution_count": null,
      "outputs": [
        {
          "output_type": "stream",
          "name": "stdout",
          "text": [
            "<class 'pandas.core.frame.DataFrame'>\n",
            "RangeIndex: 1567 entries, 0 to 1566\n",
            "Columns: 248 entries, 0 to Pass/Fail\n",
            "dtypes: float64(247), int64(1)\n",
            "memory usage: 3.0 MB\n",
            "None\n"
          ]
        }
      ]
    },
    {
      "cell_type": "code",
      "source": [
        "# From the initial analysis, the dataset doesnt have a normal distribution ,the data is right skewed or has many outliers\n",
        "#Calculate for the IQR\n",
        "Q1 = df.quantile(0.25)\n",
        "Q3 = df.quantile(0.75)\n",
        "IQR = Q3-Q1\n",
        "print(\"IQR\")\n",
        "print(IQR)"
      ],
      "metadata": {
        "colab": {
          "base_uri": "https://localhost:8080/"
        },
        "id": "tXHsypyTny0k",
        "outputId": "e78f5a55-0ff7-4695-a680-266902cd324a"
      },
      "execution_count": null,
      "outputs": [
        {
          "output_type": "stream",
          "name": "stdout",
          "text": [
            "IQR\n",
            "0             89.87500\n",
            "1             85.86000\n",
            "2             36.95555\n",
            "3            506.28410\n",
            "4              0.51190\n",
            "               ...    \n",
            "583            0.00490\n",
            "586            0.01415\n",
            "587            0.00970\n",
            "589           70.38110\n",
            "Pass/Fail      0.00000\n",
            "Length: 248, dtype: float64\n"
          ]
        }
      ]
    },
    {
      "cell_type": "code",
      "source": [
        "#print the skewness in the data\n",
        "df.skew()"
      ],
      "metadata": {
        "colab": {
          "base_uri": "https://localhost:8080/",
          "height": 458
        },
        "id": "qXVrnjbYp9Cr",
        "outputId": "b832ac99-58b8-4646-b1d9-b3f7a0b0a655"
      },
      "execution_count": null,
      "outputs": [
        {
          "output_type": "execute_result",
          "data": {
            "text/plain": [
              "0             0.514641\n",
              "1            -0.043163\n",
              "2            -0.307136\n",
              "3             1.719310\n",
              "4            19.733442\n",
              "               ...    \n",
              "583          24.417453\n",
              "586           1.438483\n",
              "587           1.948028\n",
              "589           2.715340\n",
              "Pass/Fail     3.487359\n",
              "Length: 248, dtype: float64"
            ],
            "text/html": [
              "<div>\n",
              "<style scoped>\n",
              "    .dataframe tbody tr th:only-of-type {\n",
              "        vertical-align: middle;\n",
              "    }\n",
              "\n",
              "    .dataframe tbody tr th {\n",
              "        vertical-align: top;\n",
              "    }\n",
              "\n",
              "    .dataframe thead th {\n",
              "        text-align: right;\n",
              "    }\n",
              "</style>\n",
              "<table border=\"1\" class=\"dataframe\">\n",
              "  <thead>\n",
              "    <tr style=\"text-align: right;\">\n",
              "      <th></th>\n",
              "      <th>0</th>\n",
              "    </tr>\n",
              "  </thead>\n",
              "  <tbody>\n",
              "    <tr>\n",
              "      <th>0</th>\n",
              "      <td>0.514641</td>\n",
              "    </tr>\n",
              "    <tr>\n",
              "      <th>1</th>\n",
              "      <td>-0.043163</td>\n",
              "    </tr>\n",
              "    <tr>\n",
              "      <th>2</th>\n",
              "      <td>-0.307136</td>\n",
              "    </tr>\n",
              "    <tr>\n",
              "      <th>3</th>\n",
              "      <td>1.719310</td>\n",
              "    </tr>\n",
              "    <tr>\n",
              "      <th>4</th>\n",
              "      <td>19.733442</td>\n",
              "    </tr>\n",
              "    <tr>\n",
              "      <th>...</th>\n",
              "      <td>...</td>\n",
              "    </tr>\n",
              "    <tr>\n",
              "      <th>583</th>\n",
              "      <td>24.417453</td>\n",
              "    </tr>\n",
              "    <tr>\n",
              "      <th>586</th>\n",
              "      <td>1.438483</td>\n",
              "    </tr>\n",
              "    <tr>\n",
              "      <th>587</th>\n",
              "      <td>1.948028</td>\n",
              "    </tr>\n",
              "    <tr>\n",
              "      <th>589</th>\n",
              "      <td>2.715340</td>\n",
              "    </tr>\n",
              "    <tr>\n",
              "      <th>Pass/Fail</th>\n",
              "      <td>3.487359</td>\n",
              "    </tr>\n",
              "  </tbody>\n",
              "</table>\n",
              "<p>248 rows × 1 columns</p>\n",
              "</div><br><label><b>dtype:</b> float64</label>"
            ]
          },
          "metadata": {},
          "execution_count": 39
        }
      ]
    },
    {
      "cell_type": "code",
      "source": [
        "#Replaces outliers with median for all columns except the last one, based on IQR.\n",
        "def replace_outliers_except_last(df, iqr_multiplier=1.5):\n",
        "\n",
        "  # Exclude the last column\n",
        "  cols_to_use = df.columns[:-1]\n",
        "\n",
        "  # Check for Q1 and Q3 columns (optional)\n",
        "  if 'Q1' not in df.columns or 'Q3' not in df.columns:\n",
        "\n",
        "    return df.copy()  # Return a copy of the original DataFrame\n",
        "\n",
        "  # Calculate IQR\n",
        "  IQR = df[cols_to_use].quantile(0.75) - df[cols_to_use].quantile(0.25)\n",
        "\n",
        "  # Lower and upper bounds for outliers\n",
        "  lower_bound = Q1 - iqr_multiplier * IQR\n",
        "  upper_bound = Q3 + iqr_multiplier * IQR\n",
        "\n",
        "  # Replace outliers with median (excluding last column)\n",
        "  df_replaced = df.copy()\n",
        "  for col in cols_to_use:\n",
        "    median_val = df[col].median()\n",
        "    df_replaced.loc[(df[col] < lower_bound) | (df[col] > upper_bound), col] = median_val\n",
        "\n",
        "  return df_replaced\n",
        "\n",
        "# Example usage (assuming df has Q1 and Q3 columns)\n",
        "df_outlier_replaced = replace_outliers_except_last(df.copy())\n",
        "\n",
        "# Print the modified DataFrame\n",
        "df = df_outlier_replaced\n",
        "print(df.head(5))\n"
      ],
      "metadata": {
        "colab": {
          "base_uri": "https://localhost:8080/"
        },
        "id": "GtPXdHUBqDIt",
        "outputId": "587c7d8d-03c5-43f8-a30f-21c8bb25110a"
      },
      "execution_count": null,
      "outputs": [
        {
          "output_type": "stream",
          "name": "stdout",
          "text": [
            "         0        1          2          3       4         6       7       8  \\\n",
            "0  3030.93  2564.00  2187.7333  1411.1265  1.3602   97.6133  0.1242  1.5005   \n",
            "1  3095.78  2465.14  2230.4222  1463.6606  0.8294  102.3433  0.1247  1.4966   \n",
            "2  2932.61  2559.94  2186.4111  1698.0172  1.5102   95.4878  0.1241  1.4436   \n",
            "3  2988.72  2479.90  2199.0333   909.7926  1.3204  104.2367  0.1217  1.4882   \n",
            "4  3032.24  2502.87  2233.3667  1326.5200  1.5334  100.3967  0.1235  1.5031   \n",
            "\n",
            "        9      10  ...       570     571    572     573     582     583  \\\n",
            "0  0.0162 -0.0034  ...  533.8500  2.1113   8.95  0.3157  0.5005  0.0118   \n",
            "1 -0.0005 -0.0148  ...  535.0164  2.4335   5.92  0.2653  0.5019  0.0223   \n",
            "2  0.0041  0.0013  ...  535.0245  2.0293  11.21  0.1882  0.4958  0.0157   \n",
            "3 -0.0124 -0.0033  ...  530.5682  2.0253   9.33  0.1738  0.4990  0.0103   \n",
            "4 -0.0031 -0.0072  ...  532.0155  2.0275   8.83  0.2224  0.4800  0.4766   \n",
            "\n",
            "        586       587         589  Pass/Fail  \n",
            "0  0.021458  0.016475   99.670066         -1  \n",
            "1  0.009600  0.020100  208.204500         -1  \n",
            "2  0.058400  0.048400   82.860200          1  \n",
            "3  0.020200  0.014900   73.843200         -1  \n",
            "4  0.020200  0.014900   73.843200         -1  \n",
            "\n",
            "[5 rows x 248 columns]\n"
          ]
        }
      ]
    },
    {
      "cell_type": "code",
      "source": [
        "df['Pass/Fail'].value_counts()"
      ],
      "metadata": {
        "colab": {
          "base_uri": "https://localhost:8080/",
          "height": 178
        },
        "id": "-DWaflzAh3Ee",
        "outputId": "e81749f2-cae9-4d4a-85b5-f1537fee86eb"
      },
      "execution_count": null,
      "outputs": [
        {
          "output_type": "execute_result",
          "data": {
            "text/plain": [
              "Pass/Fail\n",
              "-1    1463\n",
              " 1     104\n",
              "Name: count, dtype: int64"
            ],
            "text/html": [
              "<div>\n",
              "<style scoped>\n",
              "    .dataframe tbody tr th:only-of-type {\n",
              "        vertical-align: middle;\n",
              "    }\n",
              "\n",
              "    .dataframe tbody tr th {\n",
              "        vertical-align: top;\n",
              "    }\n",
              "\n",
              "    .dataframe thead th {\n",
              "        text-align: right;\n",
              "    }\n",
              "</style>\n",
              "<table border=\"1\" class=\"dataframe\">\n",
              "  <thead>\n",
              "    <tr style=\"text-align: right;\">\n",
              "      <th></th>\n",
              "      <th>count</th>\n",
              "    </tr>\n",
              "    <tr>\n",
              "      <th>Pass/Fail</th>\n",
              "      <th></th>\n",
              "    </tr>\n",
              "  </thead>\n",
              "  <tbody>\n",
              "    <tr>\n",
              "      <th>-1</th>\n",
              "      <td>1463</td>\n",
              "    </tr>\n",
              "    <tr>\n",
              "      <th>1</th>\n",
              "      <td>104</td>\n",
              "    </tr>\n",
              "  </tbody>\n",
              "</table>\n",
              "</div><br><label><b>dtype:</b> int64</label>"
            ]
          },
          "metadata": {},
          "execution_count": 41
        }
      ]
    },
    {
      "cell_type": "code",
      "source": [
        "#check for null values after replacing NaN with median\n",
        "null_counts = sd.isnull().sum()\n",
        "\n",
        "# Print informative message\n",
        "if null_counts.any():\n",
        "    print(\"Columns with null values and their counts:\")\n",
        "    for col, count in null_counts.items():\n",
        "      if count > 0:\n",
        "        print(f\"- {col}: {count}\")  # Use f-strings for clear formatting\n",
        "else:\n",
        "    print(\"There are no null values in the DataFrame.\")"
      ],
      "metadata": {
        "colab": {
          "base_uri": "https://localhost:8080/"
        },
        "id": "ZoqJPwsVsdSr",
        "outputId": "2f832136-bd8c-49bd-9649-94485544e406"
      },
      "execution_count": null,
      "outputs": [
        {
          "output_type": "stream",
          "name": "stdout",
          "text": [
            "There are no null values in the DataFrame.\n"
          ]
        }
      ]
    },
    {
      "cell_type": "markdown",
      "source": [
        "In Data Cleansing :\n",
        "\n",
        "*   Intially anlaysing the stastics of the dataset the dataset had many outliers or data was not normally distributed which required **outlier treatement**\n",
        "*  The feature having **Null values > 20%** were dropped from the dataset\n",
        "*  The features having same values in all the rows were dropped as the duplicate values are not going to help in the data analysis\n",
        "*  The **time feature** was removed which does'nt provide much meaning or data for the analysis\n",
        "*   The multicollinarity between the feature was analysed and the features having **>0.90 threshold was dropped**\n",
        "*   As seen from the 5 point summary analysis the data has outliers which was replaced with the median values to get a balanced dataset"
      ],
      "metadata": {
        "id": "TiJ3CEadkQUI"
      }
    },
    {
      "cell_type": "markdown",
      "source": [
        "# **Data analysis & visualisation:**"
      ],
      "metadata": {
        "id": "PR59XggmmeVO"
      }
    },
    {
      "cell_type": "code",
      "source": [
        "df.head(5)"
      ],
      "metadata": {
        "colab": {
          "base_uri": "https://localhost:8080/",
          "height": 255
        },
        "id": "7t-perEZnX98",
        "outputId": "b57f6b3f-6dc9-4ca8-c887-52fb9e75cef4"
      },
      "execution_count": null,
      "outputs": [
        {
          "output_type": "execute_result",
          "data": {
            "text/plain": [
              "         0        1          2          3       4         6       7       8  \\\n",
              "0  3030.93  2564.00  2187.7333  1411.1265  1.3602   97.6133  0.1242  1.5005   \n",
              "1  3095.78  2465.14  2230.4222  1463.6606  0.8294  102.3433  0.1247  1.4966   \n",
              "2  2932.61  2559.94  2186.4111  1698.0172  1.5102   95.4878  0.1241  1.4436   \n",
              "3  2988.72  2479.90  2199.0333   909.7926  1.3204  104.2367  0.1217  1.4882   \n",
              "4  3032.24  2502.87  2233.3667  1326.5200  1.5334  100.3967  0.1235  1.5031   \n",
              "\n",
              "        9      10  ...       570     571    572     573     582     583  \\\n",
              "0  0.0162 -0.0034  ...  533.8500  2.1113   8.95  0.3157  0.5005  0.0118   \n",
              "1 -0.0005 -0.0148  ...  535.0164  2.4335   5.92  0.2653  0.5019  0.0223   \n",
              "2  0.0041  0.0013  ...  535.0245  2.0293  11.21  0.1882  0.4958  0.0157   \n",
              "3 -0.0124 -0.0033  ...  530.5682  2.0253   9.33  0.1738  0.4990  0.0103   \n",
              "4 -0.0031 -0.0072  ...  532.0155  2.0275   8.83  0.2224  0.4800  0.4766   \n",
              "\n",
              "        586       587         589  Pass/Fail  \n",
              "0  0.021458  0.016475   99.670066         -1  \n",
              "1  0.009600  0.020100  208.204500         -1  \n",
              "2  0.058400  0.048400   82.860200          1  \n",
              "3  0.020200  0.014900   73.843200         -1  \n",
              "4  0.020200  0.014900   73.843200         -1  \n",
              "\n",
              "[5 rows x 248 columns]"
            ],
            "text/html": [
              "\n",
              "  <div id=\"df-cd013e13-3722-4402-b0f6-c318b8e38f3c\" class=\"colab-df-container\">\n",
              "    <div>\n",
              "<style scoped>\n",
              "    .dataframe tbody tr th:only-of-type {\n",
              "        vertical-align: middle;\n",
              "    }\n",
              "\n",
              "    .dataframe tbody tr th {\n",
              "        vertical-align: top;\n",
              "    }\n",
              "\n",
              "    .dataframe thead th {\n",
              "        text-align: right;\n",
              "    }\n",
              "</style>\n",
              "<table border=\"1\" class=\"dataframe\">\n",
              "  <thead>\n",
              "    <tr style=\"text-align: right;\">\n",
              "      <th></th>\n",
              "      <th>0</th>\n",
              "      <th>1</th>\n",
              "      <th>2</th>\n",
              "      <th>3</th>\n",
              "      <th>4</th>\n",
              "      <th>6</th>\n",
              "      <th>7</th>\n",
              "      <th>8</th>\n",
              "      <th>9</th>\n",
              "      <th>10</th>\n",
              "      <th>...</th>\n",
              "      <th>570</th>\n",
              "      <th>571</th>\n",
              "      <th>572</th>\n",
              "      <th>573</th>\n",
              "      <th>582</th>\n",
              "      <th>583</th>\n",
              "      <th>586</th>\n",
              "      <th>587</th>\n",
              "      <th>589</th>\n",
              "      <th>Pass/Fail</th>\n",
              "    </tr>\n",
              "  </thead>\n",
              "  <tbody>\n",
              "    <tr>\n",
              "      <th>0</th>\n",
              "      <td>3030.93</td>\n",
              "      <td>2564.00</td>\n",
              "      <td>2187.7333</td>\n",
              "      <td>1411.1265</td>\n",
              "      <td>1.3602</td>\n",
              "      <td>97.6133</td>\n",
              "      <td>0.1242</td>\n",
              "      <td>1.5005</td>\n",
              "      <td>0.0162</td>\n",
              "      <td>-0.0034</td>\n",
              "      <td>...</td>\n",
              "      <td>533.8500</td>\n",
              "      <td>2.1113</td>\n",
              "      <td>8.95</td>\n",
              "      <td>0.3157</td>\n",
              "      <td>0.5005</td>\n",
              "      <td>0.0118</td>\n",
              "      <td>0.021458</td>\n",
              "      <td>0.016475</td>\n",
              "      <td>99.670066</td>\n",
              "      <td>-1</td>\n",
              "    </tr>\n",
              "    <tr>\n",
              "      <th>1</th>\n",
              "      <td>3095.78</td>\n",
              "      <td>2465.14</td>\n",
              "      <td>2230.4222</td>\n",
              "      <td>1463.6606</td>\n",
              "      <td>0.8294</td>\n",
              "      <td>102.3433</td>\n",
              "      <td>0.1247</td>\n",
              "      <td>1.4966</td>\n",
              "      <td>-0.0005</td>\n",
              "      <td>-0.0148</td>\n",
              "      <td>...</td>\n",
              "      <td>535.0164</td>\n",
              "      <td>2.4335</td>\n",
              "      <td>5.92</td>\n",
              "      <td>0.2653</td>\n",
              "      <td>0.5019</td>\n",
              "      <td>0.0223</td>\n",
              "      <td>0.009600</td>\n",
              "      <td>0.020100</td>\n",
              "      <td>208.204500</td>\n",
              "      <td>-1</td>\n",
              "    </tr>\n",
              "    <tr>\n",
              "      <th>2</th>\n",
              "      <td>2932.61</td>\n",
              "      <td>2559.94</td>\n",
              "      <td>2186.4111</td>\n",
              "      <td>1698.0172</td>\n",
              "      <td>1.5102</td>\n",
              "      <td>95.4878</td>\n",
              "      <td>0.1241</td>\n",
              "      <td>1.4436</td>\n",
              "      <td>0.0041</td>\n",
              "      <td>0.0013</td>\n",
              "      <td>...</td>\n",
              "      <td>535.0245</td>\n",
              "      <td>2.0293</td>\n",
              "      <td>11.21</td>\n",
              "      <td>0.1882</td>\n",
              "      <td>0.4958</td>\n",
              "      <td>0.0157</td>\n",
              "      <td>0.058400</td>\n",
              "      <td>0.048400</td>\n",
              "      <td>82.860200</td>\n",
              "      <td>1</td>\n",
              "    </tr>\n",
              "    <tr>\n",
              "      <th>3</th>\n",
              "      <td>2988.72</td>\n",
              "      <td>2479.90</td>\n",
              "      <td>2199.0333</td>\n",
              "      <td>909.7926</td>\n",
              "      <td>1.3204</td>\n",
              "      <td>104.2367</td>\n",
              "      <td>0.1217</td>\n",
              "      <td>1.4882</td>\n",
              "      <td>-0.0124</td>\n",
              "      <td>-0.0033</td>\n",
              "      <td>...</td>\n",
              "      <td>530.5682</td>\n",
              "      <td>2.0253</td>\n",
              "      <td>9.33</td>\n",
              "      <td>0.1738</td>\n",
              "      <td>0.4990</td>\n",
              "      <td>0.0103</td>\n",
              "      <td>0.020200</td>\n",
              "      <td>0.014900</td>\n",
              "      <td>73.843200</td>\n",
              "      <td>-1</td>\n",
              "    </tr>\n",
              "    <tr>\n",
              "      <th>4</th>\n",
              "      <td>3032.24</td>\n",
              "      <td>2502.87</td>\n",
              "      <td>2233.3667</td>\n",
              "      <td>1326.5200</td>\n",
              "      <td>1.5334</td>\n",
              "      <td>100.3967</td>\n",
              "      <td>0.1235</td>\n",
              "      <td>1.5031</td>\n",
              "      <td>-0.0031</td>\n",
              "      <td>-0.0072</td>\n",
              "      <td>...</td>\n",
              "      <td>532.0155</td>\n",
              "      <td>2.0275</td>\n",
              "      <td>8.83</td>\n",
              "      <td>0.2224</td>\n",
              "      <td>0.4800</td>\n",
              "      <td>0.4766</td>\n",
              "      <td>0.020200</td>\n",
              "      <td>0.014900</td>\n",
              "      <td>73.843200</td>\n",
              "      <td>-1</td>\n",
              "    </tr>\n",
              "  </tbody>\n",
              "</table>\n",
              "<p>5 rows × 248 columns</p>\n",
              "</div>\n",
              "    <div class=\"colab-df-buttons\">\n",
              "\n",
              "  <div class=\"colab-df-container\">\n",
              "    <button class=\"colab-df-convert\" onclick=\"convertToInteractive('df-cd013e13-3722-4402-b0f6-c318b8e38f3c')\"\n",
              "            title=\"Convert this dataframe to an interactive table.\"\n",
              "            style=\"display:none;\">\n",
              "\n",
              "  <svg xmlns=\"http://www.w3.org/2000/svg\" height=\"24px\" viewBox=\"0 -960 960 960\">\n",
              "    <path d=\"M120-120v-720h720v720H120Zm60-500h600v-160H180v160Zm220 220h160v-160H400v160Zm0 220h160v-160H400v160ZM180-400h160v-160H180v160Zm440 0h160v-160H620v160ZM180-180h160v-160H180v160Zm440 0h160v-160H620v160Z\"/>\n",
              "  </svg>\n",
              "    </button>\n",
              "\n",
              "  <style>\n",
              "    .colab-df-container {\n",
              "      display:flex;\n",
              "      gap: 12px;\n",
              "    }\n",
              "\n",
              "    .colab-df-convert {\n",
              "      background-color: #E8F0FE;\n",
              "      border: none;\n",
              "      border-radius: 50%;\n",
              "      cursor: pointer;\n",
              "      display: none;\n",
              "      fill: #1967D2;\n",
              "      height: 32px;\n",
              "      padding: 0 0 0 0;\n",
              "      width: 32px;\n",
              "    }\n",
              "\n",
              "    .colab-df-convert:hover {\n",
              "      background-color: #E2EBFA;\n",
              "      box-shadow: 0px 1px 2px rgba(60, 64, 67, 0.3), 0px 1px 3px 1px rgba(60, 64, 67, 0.15);\n",
              "      fill: #174EA6;\n",
              "    }\n",
              "\n",
              "    .colab-df-buttons div {\n",
              "      margin-bottom: 4px;\n",
              "    }\n",
              "\n",
              "    [theme=dark] .colab-df-convert {\n",
              "      background-color: #3B4455;\n",
              "      fill: #D2E3FC;\n",
              "    }\n",
              "\n",
              "    [theme=dark] .colab-df-convert:hover {\n",
              "      background-color: #434B5C;\n",
              "      box-shadow: 0px 1px 3px 1px rgba(0, 0, 0, 0.15);\n",
              "      filter: drop-shadow(0px 1px 2px rgba(0, 0, 0, 0.3));\n",
              "      fill: #FFFFFF;\n",
              "    }\n",
              "  </style>\n",
              "\n",
              "    <script>\n",
              "      const buttonEl =\n",
              "        document.querySelector('#df-cd013e13-3722-4402-b0f6-c318b8e38f3c button.colab-df-convert');\n",
              "      buttonEl.style.display =\n",
              "        google.colab.kernel.accessAllowed ? 'block' : 'none';\n",
              "\n",
              "      async function convertToInteractive(key) {\n",
              "        const element = document.querySelector('#df-cd013e13-3722-4402-b0f6-c318b8e38f3c');\n",
              "        const dataTable =\n",
              "          await google.colab.kernel.invokeFunction('convertToInteractive',\n",
              "                                                    [key], {});\n",
              "        if (!dataTable) return;\n",
              "\n",
              "        const docLinkHtml = 'Like what you see? Visit the ' +\n",
              "          '<a target=\"_blank\" href=https://colab.research.google.com/notebooks/data_table.ipynb>data table notebook</a>'\n",
              "          + ' to learn more about interactive tables.';\n",
              "        element.innerHTML = '';\n",
              "        dataTable['output_type'] = 'display_data';\n",
              "        await google.colab.output.renderOutput(dataTable, element);\n",
              "        const docLink = document.createElement('div');\n",
              "        docLink.innerHTML = docLinkHtml;\n",
              "        element.appendChild(docLink);\n",
              "      }\n",
              "    </script>\n",
              "  </div>\n",
              "\n",
              "\n",
              "    <div id=\"df-b707af1f-5107-4adf-af62-0fe49c3235e6\">\n",
              "      <button class=\"colab-df-quickchart\" onclick=\"quickchart('df-b707af1f-5107-4adf-af62-0fe49c3235e6')\"\n",
              "                title=\"Suggest charts\"\n",
              "                style=\"display:none;\">\n",
              "\n",
              "<svg xmlns=\"http://www.w3.org/2000/svg\" height=\"24px\"viewBox=\"0 0 24 24\"\n",
              "     width=\"24px\">\n",
              "    <g>\n",
              "        <path d=\"M19 3H5c-1.1 0-2 .9-2 2v14c0 1.1.9 2 2 2h14c1.1 0 2-.9 2-2V5c0-1.1-.9-2-2-2zM9 17H7v-7h2v7zm4 0h-2V7h2v10zm4 0h-2v-4h2v4z\"/>\n",
              "    </g>\n",
              "</svg>\n",
              "      </button>\n",
              "\n",
              "<style>\n",
              "  .colab-df-quickchart {\n",
              "      --bg-color: #E8F0FE;\n",
              "      --fill-color: #1967D2;\n",
              "      --hover-bg-color: #E2EBFA;\n",
              "      --hover-fill-color: #174EA6;\n",
              "      --disabled-fill-color: #AAA;\n",
              "      --disabled-bg-color: #DDD;\n",
              "  }\n",
              "\n",
              "  [theme=dark] .colab-df-quickchart {\n",
              "      --bg-color: #3B4455;\n",
              "      --fill-color: #D2E3FC;\n",
              "      --hover-bg-color: #434B5C;\n",
              "      --hover-fill-color: #FFFFFF;\n",
              "      --disabled-bg-color: #3B4455;\n",
              "      --disabled-fill-color: #666;\n",
              "  }\n",
              "\n",
              "  .colab-df-quickchart {\n",
              "    background-color: var(--bg-color);\n",
              "    border: none;\n",
              "    border-radius: 50%;\n",
              "    cursor: pointer;\n",
              "    display: none;\n",
              "    fill: var(--fill-color);\n",
              "    height: 32px;\n",
              "    padding: 0;\n",
              "    width: 32px;\n",
              "  }\n",
              "\n",
              "  .colab-df-quickchart:hover {\n",
              "    background-color: var(--hover-bg-color);\n",
              "    box-shadow: 0 1px 2px rgba(60, 64, 67, 0.3), 0 1px 3px 1px rgba(60, 64, 67, 0.15);\n",
              "    fill: var(--button-hover-fill-color);\n",
              "  }\n",
              "\n",
              "  .colab-df-quickchart-complete:disabled,\n",
              "  .colab-df-quickchart-complete:disabled:hover {\n",
              "    background-color: var(--disabled-bg-color);\n",
              "    fill: var(--disabled-fill-color);\n",
              "    box-shadow: none;\n",
              "  }\n",
              "\n",
              "  .colab-df-spinner {\n",
              "    border: 2px solid var(--fill-color);\n",
              "    border-color: transparent;\n",
              "    border-bottom-color: var(--fill-color);\n",
              "    animation:\n",
              "      spin 1s steps(1) infinite;\n",
              "  }\n",
              "\n",
              "  @keyframes spin {\n",
              "    0% {\n",
              "      border-color: transparent;\n",
              "      border-bottom-color: var(--fill-color);\n",
              "      border-left-color: var(--fill-color);\n",
              "    }\n",
              "    20% {\n",
              "      border-color: transparent;\n",
              "      border-left-color: var(--fill-color);\n",
              "      border-top-color: var(--fill-color);\n",
              "    }\n",
              "    30% {\n",
              "      border-color: transparent;\n",
              "      border-left-color: var(--fill-color);\n",
              "      border-top-color: var(--fill-color);\n",
              "      border-right-color: var(--fill-color);\n",
              "    }\n",
              "    40% {\n",
              "      border-color: transparent;\n",
              "      border-right-color: var(--fill-color);\n",
              "      border-top-color: var(--fill-color);\n",
              "    }\n",
              "    60% {\n",
              "      border-color: transparent;\n",
              "      border-right-color: var(--fill-color);\n",
              "    }\n",
              "    80% {\n",
              "      border-color: transparent;\n",
              "      border-right-color: var(--fill-color);\n",
              "      border-bottom-color: var(--fill-color);\n",
              "    }\n",
              "    90% {\n",
              "      border-color: transparent;\n",
              "      border-bottom-color: var(--fill-color);\n",
              "    }\n",
              "  }\n",
              "</style>\n",
              "\n",
              "      <script>\n",
              "        async function quickchart(key) {\n",
              "          const quickchartButtonEl =\n",
              "            document.querySelector('#' + key + ' button');\n",
              "          quickchartButtonEl.disabled = true;  // To prevent multiple clicks.\n",
              "          quickchartButtonEl.classList.add('colab-df-spinner');\n",
              "          try {\n",
              "            const charts = await google.colab.kernel.invokeFunction(\n",
              "                'suggestCharts', [key], {});\n",
              "          } catch (error) {\n",
              "            console.error('Error during call to suggestCharts:', error);\n",
              "          }\n",
              "          quickchartButtonEl.classList.remove('colab-df-spinner');\n",
              "          quickchartButtonEl.classList.add('colab-df-quickchart-complete');\n",
              "        }\n",
              "        (() => {\n",
              "          let quickchartButtonEl =\n",
              "            document.querySelector('#df-b707af1f-5107-4adf-af62-0fe49c3235e6 button');\n",
              "          quickchartButtonEl.style.display =\n",
              "            google.colab.kernel.accessAllowed ? 'block' : 'none';\n",
              "        })();\n",
              "      </script>\n",
              "    </div>\n",
              "\n",
              "    </div>\n",
              "  </div>\n"
            ],
            "application/vnd.google.colaboratory.intrinsic+json": {
              "type": "dataframe",
              "variable_name": "df"
            }
          },
          "metadata": {},
          "execution_count": 43
        }
      ]
    },
    {
      "cell_type": "code",
      "source": [
        "df.describe()"
      ],
      "metadata": {
        "colab": {
          "base_uri": "https://localhost:8080/",
          "height": 349
        },
        "id": "g1xUt1_xqZT9",
        "outputId": "654b7ab1-90e0-4459-a320-6bf8132469fc"
      },
      "execution_count": null,
      "outputs": [
        {
          "output_type": "execute_result",
          "data": {
            "text/plain": [
              "                 0            1            2            3            4  \\\n",
              "count  1567.000000  1567.000000  1567.000000  1567.000000  1567.000000   \n",
              "mean   3014.452896  2495.850231  2200.547318  1396.376627     4.197013   \n",
              "std      73.480613    80.227793    29.380932   439.712852    56.103066   \n",
              "min    2743.240000  2158.750000  2060.660000     0.000000     0.681500   \n",
              "25%    2966.665000  2452.885000  2181.099950  1083.885800     1.017700   \n",
              "50%    3011.840000  2498.910000  2200.955600  1287.353800     1.317100   \n",
              "75%    3056.540000  2538.745000  2218.055500  1590.169900     1.529600   \n",
              "max    3356.350000  2846.440000  2315.266700  3715.041700  1114.536600   \n",
              "\n",
              "                 6            7            8            9           10  ...  \\\n",
              "count  1567.000000  1567.000000  1567.000000  1567.000000  1567.000000  ...   \n",
              "mean    101.112908     0.121822     1.462862    -0.000841     0.000146  ...   \n",
              "std       6.209271     0.008936     0.073849     0.015107     0.009296  ...   \n",
              "min      82.131100     0.000000     1.191000    -0.053400    -0.034900  ...   \n",
              "25%      97.937800     0.121100     1.411250    -0.010800    -0.005600  ...   \n",
              "50%     101.492200     0.122400     1.461600    -0.001300     0.000400  ...   \n",
              "75%     104.530000     0.123800     1.516850     0.008400     0.005900  ...   \n",
              "max     129.252200     0.128600     1.656400     0.074900     0.053000  ...   \n",
              "\n",
              "               570          571          572          573          582  \\\n",
              "count  1567.000000  1567.000000  1567.000000  1567.000000  1567.000000   \n",
              "mean    530.523623     2.101836    28.450165     0.345636     0.500096   \n",
              "std      17.499736     0.275112    86.304681     0.248478     0.003403   \n",
              "min     317.196400     0.980200     3.540000     0.066700     0.477800   \n",
              "25%     530.702700     1.982900     7.500000     0.242250     0.497900   \n",
              "50%     532.398200     2.118600     8.650000     0.293400     0.500200   \n",
              "75%     534.356400     2.290650    10.130000     0.366900     0.502350   \n",
              "max     589.508200     2.739500   454.560000     2.196700     0.509800   \n",
              "\n",
              "               583          586          587          589    Pass/Fail  \n",
              "count  1567.000000  1567.000000  1567.000000  1567.000000  1567.000000  \n",
              "mean      0.015318     0.021458     0.016475    99.670066    -0.867262  \n",
              "std       0.017174     0.012354     0.008805    93.861936     0.498010  \n",
              "min       0.006000    -0.016900     0.003200     0.000000    -1.000000  \n",
              "25%       0.011600     0.013450     0.010600    44.368600    -1.000000  \n",
              "50%       0.013800     0.020500     0.014800    72.023000    -1.000000  \n",
              "75%       0.016500     0.027600     0.020300   114.749700    -1.000000  \n",
              "max       0.476600     0.102800     0.079900   737.304800     1.000000  \n",
              "\n",
              "[8 rows x 248 columns]"
            ],
            "text/html": [
              "\n",
              "  <div id=\"df-68ef974d-64a1-44d4-8ac6-71d3de144d02\" class=\"colab-df-container\">\n",
              "    <div>\n",
              "<style scoped>\n",
              "    .dataframe tbody tr th:only-of-type {\n",
              "        vertical-align: middle;\n",
              "    }\n",
              "\n",
              "    .dataframe tbody tr th {\n",
              "        vertical-align: top;\n",
              "    }\n",
              "\n",
              "    .dataframe thead th {\n",
              "        text-align: right;\n",
              "    }\n",
              "</style>\n",
              "<table border=\"1\" class=\"dataframe\">\n",
              "  <thead>\n",
              "    <tr style=\"text-align: right;\">\n",
              "      <th></th>\n",
              "      <th>0</th>\n",
              "      <th>1</th>\n",
              "      <th>2</th>\n",
              "      <th>3</th>\n",
              "      <th>4</th>\n",
              "      <th>6</th>\n",
              "      <th>7</th>\n",
              "      <th>8</th>\n",
              "      <th>9</th>\n",
              "      <th>10</th>\n",
              "      <th>...</th>\n",
              "      <th>570</th>\n",
              "      <th>571</th>\n",
              "      <th>572</th>\n",
              "      <th>573</th>\n",
              "      <th>582</th>\n",
              "      <th>583</th>\n",
              "      <th>586</th>\n",
              "      <th>587</th>\n",
              "      <th>589</th>\n",
              "      <th>Pass/Fail</th>\n",
              "    </tr>\n",
              "  </thead>\n",
              "  <tbody>\n",
              "    <tr>\n",
              "      <th>count</th>\n",
              "      <td>1567.000000</td>\n",
              "      <td>1567.000000</td>\n",
              "      <td>1567.000000</td>\n",
              "      <td>1567.000000</td>\n",
              "      <td>1567.000000</td>\n",
              "      <td>1567.000000</td>\n",
              "      <td>1567.000000</td>\n",
              "      <td>1567.000000</td>\n",
              "      <td>1567.000000</td>\n",
              "      <td>1567.000000</td>\n",
              "      <td>...</td>\n",
              "      <td>1567.000000</td>\n",
              "      <td>1567.000000</td>\n",
              "      <td>1567.000000</td>\n",
              "      <td>1567.000000</td>\n",
              "      <td>1567.000000</td>\n",
              "      <td>1567.000000</td>\n",
              "      <td>1567.000000</td>\n",
              "      <td>1567.000000</td>\n",
              "      <td>1567.000000</td>\n",
              "      <td>1567.000000</td>\n",
              "    </tr>\n",
              "    <tr>\n",
              "      <th>mean</th>\n",
              "      <td>3014.452896</td>\n",
              "      <td>2495.850231</td>\n",
              "      <td>2200.547318</td>\n",
              "      <td>1396.376627</td>\n",
              "      <td>4.197013</td>\n",
              "      <td>101.112908</td>\n",
              "      <td>0.121822</td>\n",
              "      <td>1.462862</td>\n",
              "      <td>-0.000841</td>\n",
              "      <td>0.000146</td>\n",
              "      <td>...</td>\n",
              "      <td>530.523623</td>\n",
              "      <td>2.101836</td>\n",
              "      <td>28.450165</td>\n",
              "      <td>0.345636</td>\n",
              "      <td>0.500096</td>\n",
              "      <td>0.015318</td>\n",
              "      <td>0.021458</td>\n",
              "      <td>0.016475</td>\n",
              "      <td>99.670066</td>\n",
              "      <td>-0.867262</td>\n",
              "    </tr>\n",
              "    <tr>\n",
              "      <th>std</th>\n",
              "      <td>73.480613</td>\n",
              "      <td>80.227793</td>\n",
              "      <td>29.380932</td>\n",
              "      <td>439.712852</td>\n",
              "      <td>56.103066</td>\n",
              "      <td>6.209271</td>\n",
              "      <td>0.008936</td>\n",
              "      <td>0.073849</td>\n",
              "      <td>0.015107</td>\n",
              "      <td>0.009296</td>\n",
              "      <td>...</td>\n",
              "      <td>17.499736</td>\n",
              "      <td>0.275112</td>\n",
              "      <td>86.304681</td>\n",
              "      <td>0.248478</td>\n",
              "      <td>0.003403</td>\n",
              "      <td>0.017174</td>\n",
              "      <td>0.012354</td>\n",
              "      <td>0.008805</td>\n",
              "      <td>93.861936</td>\n",
              "      <td>0.498010</td>\n",
              "    </tr>\n",
              "    <tr>\n",
              "      <th>min</th>\n",
              "      <td>2743.240000</td>\n",
              "      <td>2158.750000</td>\n",
              "      <td>2060.660000</td>\n",
              "      <td>0.000000</td>\n",
              "      <td>0.681500</td>\n",
              "      <td>82.131100</td>\n",
              "      <td>0.000000</td>\n",
              "      <td>1.191000</td>\n",
              "      <td>-0.053400</td>\n",
              "      <td>-0.034900</td>\n",
              "      <td>...</td>\n",
              "      <td>317.196400</td>\n",
              "      <td>0.980200</td>\n",
              "      <td>3.540000</td>\n",
              "      <td>0.066700</td>\n",
              "      <td>0.477800</td>\n",
              "      <td>0.006000</td>\n",
              "      <td>-0.016900</td>\n",
              "      <td>0.003200</td>\n",
              "      <td>0.000000</td>\n",
              "      <td>-1.000000</td>\n",
              "    </tr>\n",
              "    <tr>\n",
              "      <th>25%</th>\n",
              "      <td>2966.665000</td>\n",
              "      <td>2452.885000</td>\n",
              "      <td>2181.099950</td>\n",
              "      <td>1083.885800</td>\n",
              "      <td>1.017700</td>\n",
              "      <td>97.937800</td>\n",
              "      <td>0.121100</td>\n",
              "      <td>1.411250</td>\n",
              "      <td>-0.010800</td>\n",
              "      <td>-0.005600</td>\n",
              "      <td>...</td>\n",
              "      <td>530.702700</td>\n",
              "      <td>1.982900</td>\n",
              "      <td>7.500000</td>\n",
              "      <td>0.242250</td>\n",
              "      <td>0.497900</td>\n",
              "      <td>0.011600</td>\n",
              "      <td>0.013450</td>\n",
              "      <td>0.010600</td>\n",
              "      <td>44.368600</td>\n",
              "      <td>-1.000000</td>\n",
              "    </tr>\n",
              "    <tr>\n",
              "      <th>50%</th>\n",
              "      <td>3011.840000</td>\n",
              "      <td>2498.910000</td>\n",
              "      <td>2200.955600</td>\n",
              "      <td>1287.353800</td>\n",
              "      <td>1.317100</td>\n",
              "      <td>101.492200</td>\n",
              "      <td>0.122400</td>\n",
              "      <td>1.461600</td>\n",
              "      <td>-0.001300</td>\n",
              "      <td>0.000400</td>\n",
              "      <td>...</td>\n",
              "      <td>532.398200</td>\n",
              "      <td>2.118600</td>\n",
              "      <td>8.650000</td>\n",
              "      <td>0.293400</td>\n",
              "      <td>0.500200</td>\n",
              "      <td>0.013800</td>\n",
              "      <td>0.020500</td>\n",
              "      <td>0.014800</td>\n",
              "      <td>72.023000</td>\n",
              "      <td>-1.000000</td>\n",
              "    </tr>\n",
              "    <tr>\n",
              "      <th>75%</th>\n",
              "      <td>3056.540000</td>\n",
              "      <td>2538.745000</td>\n",
              "      <td>2218.055500</td>\n",
              "      <td>1590.169900</td>\n",
              "      <td>1.529600</td>\n",
              "      <td>104.530000</td>\n",
              "      <td>0.123800</td>\n",
              "      <td>1.516850</td>\n",
              "      <td>0.008400</td>\n",
              "      <td>0.005900</td>\n",
              "      <td>...</td>\n",
              "      <td>534.356400</td>\n",
              "      <td>2.290650</td>\n",
              "      <td>10.130000</td>\n",
              "      <td>0.366900</td>\n",
              "      <td>0.502350</td>\n",
              "      <td>0.016500</td>\n",
              "      <td>0.027600</td>\n",
              "      <td>0.020300</td>\n",
              "      <td>114.749700</td>\n",
              "      <td>-1.000000</td>\n",
              "    </tr>\n",
              "    <tr>\n",
              "      <th>max</th>\n",
              "      <td>3356.350000</td>\n",
              "      <td>2846.440000</td>\n",
              "      <td>2315.266700</td>\n",
              "      <td>3715.041700</td>\n",
              "      <td>1114.536600</td>\n",
              "      <td>129.252200</td>\n",
              "      <td>0.128600</td>\n",
              "      <td>1.656400</td>\n",
              "      <td>0.074900</td>\n",
              "      <td>0.053000</td>\n",
              "      <td>...</td>\n",
              "      <td>589.508200</td>\n",
              "      <td>2.739500</td>\n",
              "      <td>454.560000</td>\n",
              "      <td>2.196700</td>\n",
              "      <td>0.509800</td>\n",
              "      <td>0.476600</td>\n",
              "      <td>0.102800</td>\n",
              "      <td>0.079900</td>\n",
              "      <td>737.304800</td>\n",
              "      <td>1.000000</td>\n",
              "    </tr>\n",
              "  </tbody>\n",
              "</table>\n",
              "<p>8 rows × 248 columns</p>\n",
              "</div>\n",
              "    <div class=\"colab-df-buttons\">\n",
              "\n",
              "  <div class=\"colab-df-container\">\n",
              "    <button class=\"colab-df-convert\" onclick=\"convertToInteractive('df-68ef974d-64a1-44d4-8ac6-71d3de144d02')\"\n",
              "            title=\"Convert this dataframe to an interactive table.\"\n",
              "            style=\"display:none;\">\n",
              "\n",
              "  <svg xmlns=\"http://www.w3.org/2000/svg\" height=\"24px\" viewBox=\"0 -960 960 960\">\n",
              "    <path d=\"M120-120v-720h720v720H120Zm60-500h600v-160H180v160Zm220 220h160v-160H400v160Zm0 220h160v-160H400v160ZM180-400h160v-160H180v160Zm440 0h160v-160H620v160ZM180-180h160v-160H180v160Zm440 0h160v-160H620v160Z\"/>\n",
              "  </svg>\n",
              "    </button>\n",
              "\n",
              "  <style>\n",
              "    .colab-df-container {\n",
              "      display:flex;\n",
              "      gap: 12px;\n",
              "    }\n",
              "\n",
              "    .colab-df-convert {\n",
              "      background-color: #E8F0FE;\n",
              "      border: none;\n",
              "      border-radius: 50%;\n",
              "      cursor: pointer;\n",
              "      display: none;\n",
              "      fill: #1967D2;\n",
              "      height: 32px;\n",
              "      padding: 0 0 0 0;\n",
              "      width: 32px;\n",
              "    }\n",
              "\n",
              "    .colab-df-convert:hover {\n",
              "      background-color: #E2EBFA;\n",
              "      box-shadow: 0px 1px 2px rgba(60, 64, 67, 0.3), 0px 1px 3px 1px rgba(60, 64, 67, 0.15);\n",
              "      fill: #174EA6;\n",
              "    }\n",
              "\n",
              "    .colab-df-buttons div {\n",
              "      margin-bottom: 4px;\n",
              "    }\n",
              "\n",
              "    [theme=dark] .colab-df-convert {\n",
              "      background-color: #3B4455;\n",
              "      fill: #D2E3FC;\n",
              "    }\n",
              "\n",
              "    [theme=dark] .colab-df-convert:hover {\n",
              "      background-color: #434B5C;\n",
              "      box-shadow: 0px 1px 3px 1px rgba(0, 0, 0, 0.15);\n",
              "      filter: drop-shadow(0px 1px 2px rgba(0, 0, 0, 0.3));\n",
              "      fill: #FFFFFF;\n",
              "    }\n",
              "  </style>\n",
              "\n",
              "    <script>\n",
              "      const buttonEl =\n",
              "        document.querySelector('#df-68ef974d-64a1-44d4-8ac6-71d3de144d02 button.colab-df-convert');\n",
              "      buttonEl.style.display =\n",
              "        google.colab.kernel.accessAllowed ? 'block' : 'none';\n",
              "\n",
              "      async function convertToInteractive(key) {\n",
              "        const element = document.querySelector('#df-68ef974d-64a1-44d4-8ac6-71d3de144d02');\n",
              "        const dataTable =\n",
              "          await google.colab.kernel.invokeFunction('convertToInteractive',\n",
              "                                                    [key], {});\n",
              "        if (!dataTable) return;\n",
              "\n",
              "        const docLinkHtml = 'Like what you see? Visit the ' +\n",
              "          '<a target=\"_blank\" href=https://colab.research.google.com/notebooks/data_table.ipynb>data table notebook</a>'\n",
              "          + ' to learn more about interactive tables.';\n",
              "        element.innerHTML = '';\n",
              "        dataTable['output_type'] = 'display_data';\n",
              "        await google.colab.output.renderOutput(dataTable, element);\n",
              "        const docLink = document.createElement('div');\n",
              "        docLink.innerHTML = docLinkHtml;\n",
              "        element.appendChild(docLink);\n",
              "      }\n",
              "    </script>\n",
              "  </div>\n",
              "\n",
              "\n",
              "    <div id=\"df-a12fad19-3a34-472f-8520-e5982616d968\">\n",
              "      <button class=\"colab-df-quickchart\" onclick=\"quickchart('df-a12fad19-3a34-472f-8520-e5982616d968')\"\n",
              "                title=\"Suggest charts\"\n",
              "                style=\"display:none;\">\n",
              "\n",
              "<svg xmlns=\"http://www.w3.org/2000/svg\" height=\"24px\"viewBox=\"0 0 24 24\"\n",
              "     width=\"24px\">\n",
              "    <g>\n",
              "        <path d=\"M19 3H5c-1.1 0-2 .9-2 2v14c0 1.1.9 2 2 2h14c1.1 0 2-.9 2-2V5c0-1.1-.9-2-2-2zM9 17H7v-7h2v7zm4 0h-2V7h2v10zm4 0h-2v-4h2v4z\"/>\n",
              "    </g>\n",
              "</svg>\n",
              "      </button>\n",
              "\n",
              "<style>\n",
              "  .colab-df-quickchart {\n",
              "      --bg-color: #E8F0FE;\n",
              "      --fill-color: #1967D2;\n",
              "      --hover-bg-color: #E2EBFA;\n",
              "      --hover-fill-color: #174EA6;\n",
              "      --disabled-fill-color: #AAA;\n",
              "      --disabled-bg-color: #DDD;\n",
              "  }\n",
              "\n",
              "  [theme=dark] .colab-df-quickchart {\n",
              "      --bg-color: #3B4455;\n",
              "      --fill-color: #D2E3FC;\n",
              "      --hover-bg-color: #434B5C;\n",
              "      --hover-fill-color: #FFFFFF;\n",
              "      --disabled-bg-color: #3B4455;\n",
              "      --disabled-fill-color: #666;\n",
              "  }\n",
              "\n",
              "  .colab-df-quickchart {\n",
              "    background-color: var(--bg-color);\n",
              "    border: none;\n",
              "    border-radius: 50%;\n",
              "    cursor: pointer;\n",
              "    display: none;\n",
              "    fill: var(--fill-color);\n",
              "    height: 32px;\n",
              "    padding: 0;\n",
              "    width: 32px;\n",
              "  }\n",
              "\n",
              "  .colab-df-quickchart:hover {\n",
              "    background-color: var(--hover-bg-color);\n",
              "    box-shadow: 0 1px 2px rgba(60, 64, 67, 0.3), 0 1px 3px 1px rgba(60, 64, 67, 0.15);\n",
              "    fill: var(--button-hover-fill-color);\n",
              "  }\n",
              "\n",
              "  .colab-df-quickchart-complete:disabled,\n",
              "  .colab-df-quickchart-complete:disabled:hover {\n",
              "    background-color: var(--disabled-bg-color);\n",
              "    fill: var(--disabled-fill-color);\n",
              "    box-shadow: none;\n",
              "  }\n",
              "\n",
              "  .colab-df-spinner {\n",
              "    border: 2px solid var(--fill-color);\n",
              "    border-color: transparent;\n",
              "    border-bottom-color: var(--fill-color);\n",
              "    animation:\n",
              "      spin 1s steps(1) infinite;\n",
              "  }\n",
              "\n",
              "  @keyframes spin {\n",
              "    0% {\n",
              "      border-color: transparent;\n",
              "      border-bottom-color: var(--fill-color);\n",
              "      border-left-color: var(--fill-color);\n",
              "    }\n",
              "    20% {\n",
              "      border-color: transparent;\n",
              "      border-left-color: var(--fill-color);\n",
              "      border-top-color: var(--fill-color);\n",
              "    }\n",
              "    30% {\n",
              "      border-color: transparent;\n",
              "      border-left-color: var(--fill-color);\n",
              "      border-top-color: var(--fill-color);\n",
              "      border-right-color: var(--fill-color);\n",
              "    }\n",
              "    40% {\n",
              "      border-color: transparent;\n",
              "      border-right-color: var(--fill-color);\n",
              "      border-top-color: var(--fill-color);\n",
              "    }\n",
              "    60% {\n",
              "      border-color: transparent;\n",
              "      border-right-color: var(--fill-color);\n",
              "    }\n",
              "    80% {\n",
              "      border-color: transparent;\n",
              "      border-right-color: var(--fill-color);\n",
              "      border-bottom-color: var(--fill-color);\n",
              "    }\n",
              "    90% {\n",
              "      border-color: transparent;\n",
              "      border-bottom-color: var(--fill-color);\n",
              "    }\n",
              "  }\n",
              "</style>\n",
              "\n",
              "      <script>\n",
              "        async function quickchart(key) {\n",
              "          const quickchartButtonEl =\n",
              "            document.querySelector('#' + key + ' button');\n",
              "          quickchartButtonEl.disabled = true;  // To prevent multiple clicks.\n",
              "          quickchartButtonEl.classList.add('colab-df-spinner');\n",
              "          try {\n",
              "            const charts = await google.colab.kernel.invokeFunction(\n",
              "                'suggestCharts', [key], {});\n",
              "          } catch (error) {\n",
              "            console.error('Error during call to suggestCharts:', error);\n",
              "          }\n",
              "          quickchartButtonEl.classList.remove('colab-df-spinner');\n",
              "          quickchartButtonEl.classList.add('colab-df-quickchart-complete');\n",
              "        }\n",
              "        (() => {\n",
              "          let quickchartButtonEl =\n",
              "            document.querySelector('#df-a12fad19-3a34-472f-8520-e5982616d968 button');\n",
              "          quickchartButtonEl.style.display =\n",
              "            google.colab.kernel.accessAllowed ? 'block' : 'none';\n",
              "        })();\n",
              "      </script>\n",
              "    </div>\n",
              "\n",
              "    </div>\n",
              "  </div>\n"
            ],
            "application/vnd.google.colaboratory.intrinsic+json": {
              "type": "dataframe"
            }
          },
          "metadata": {},
          "execution_count": 44
        }
      ]
    },
    {
      "cell_type": "code",
      "source": [
        "df.corr()"
      ],
      "metadata": {
        "colab": {
          "base_uri": "https://localhost:8080/",
          "height": 443
        },
        "id": "FqRuEGH7rbi2",
        "outputId": "badf0132-5ada-4f19-84cd-8159da91b093"
      },
      "execution_count": null,
      "outputs": [
        {
          "output_type": "execute_result",
          "data": {
            "text/plain": [
              "                  0         1         2         3         4         6  \\\n",
              "0          1.000000 -0.143840  0.004756 -0.007613 -0.011014  0.002270   \n",
              "1         -0.143840  1.000000  0.005767 -0.007568 -0.001636 -0.025564   \n",
              "2          0.004756  0.005767  1.000000  0.298935  0.095891 -0.136225   \n",
              "3         -0.007613 -0.007568  0.298935  1.000000 -0.058483 -0.685835   \n",
              "4         -0.011014 -0.001636  0.095891 -0.058483  1.000000 -0.074368   \n",
              "...             ...       ...       ...       ...       ...       ...   \n",
              "583        0.023453  0.002904  0.015697  0.025436 -0.001300 -0.039398   \n",
              "586        0.018443 -0.009403 -0.025495  0.034711 -0.043929 -0.041209   \n",
              "587       -0.025880  0.017266 -0.029345 -0.039132 -0.031005  0.034027   \n",
              "589        0.004174  0.044797 -0.032890 -0.080341  0.050910  0.043777   \n",
              "Pass/Fail -0.025141 -0.002603 -0.000957 -0.024623 -0.013756  0.016239   \n",
              "\n",
              "                  7         8         9        10  ...       570       571  \\\n",
              "0          0.031483 -0.052622  0.009045  0.006504  ... -0.018953 -0.023166   \n",
              "1         -0.012037  0.031258  0.023964  0.009645  ... -0.009000 -0.037932   \n",
              "2         -0.146213  0.023528  0.016168  0.069893  ... -0.037070 -0.015600   \n",
              "3          0.073856 -0.102892  0.068215  0.049873  ...  0.002231 -0.017820   \n",
              "4         -0.347734 -0.025946  0.054206 -0.006470  ...  0.005273 -0.081983   \n",
              "...             ...       ...       ...       ...  ...       ...       ...   \n",
              "583        0.010276  0.017390 -0.036036  0.039060  ...  0.010110  0.006792   \n",
              "586        0.058113  0.010433  0.033738  0.000327  ...  0.020544 -0.056391   \n",
              "587       -0.021426  0.022845  0.059301  0.046965  ...  0.008113 -0.010562   \n",
              "589       -0.107804 -0.022770  0.004880  0.008393  ... -0.010583  0.010952   \n",
              "Pass/Fail  0.012991  0.028016 -0.031191  0.033639  ... -0.001656 -0.019353   \n",
              "\n",
              "                572       573       582       583       586       587  \\\n",
              "0          0.013678 -0.002067  0.000224  0.023453  0.018443 -0.025880   \n",
              "1          0.001753 -0.011467  0.043556  0.002904 -0.009403  0.017266   \n",
              "2         -0.000518 -0.030674 -0.006023  0.015697 -0.025495 -0.029345   \n",
              "3          0.007634  0.013163  0.008988  0.025436  0.034711 -0.039132   \n",
              "4         -0.012024 -0.016533  0.045081 -0.001300 -0.043929 -0.031005   \n",
              "...             ...       ...       ...       ...       ...       ...   \n",
              "583       -0.017368 -0.022666 -0.190090  1.000000  0.002257 -0.002649   \n",
              "586       -0.008668 -0.013504 -0.016726  0.002257  1.000000  0.167913   \n",
              "587       -0.001425 -0.018896 -0.024473 -0.002649  0.167913  1.000000   \n",
              "589       -0.022672 -0.027153  0.041486 -0.003008 -0.486559  0.390813   \n",
              "Pass/Fail -0.032233 -0.051873  0.047020  0.005981  0.004156  0.035391   \n",
              "\n",
              "                589  Pass/Fail  \n",
              "0          0.004174  -0.025141  \n",
              "1          0.044797  -0.002603  \n",
              "2         -0.032890  -0.000957  \n",
              "3         -0.080341  -0.024623  \n",
              "4          0.050910  -0.013756  \n",
              "...             ...        ...  \n",
              "583       -0.003008   0.005981  \n",
              "586       -0.486559   0.004156  \n",
              "587        0.390813   0.035391  \n",
              "589        1.000000  -0.002653  \n",
              "Pass/Fail -0.002653   1.000000  \n",
              "\n",
              "[248 rows x 248 columns]"
            ],
            "text/html": [
              "\n",
              "  <div id=\"df-7ede65b5-2d64-45fe-9c56-1ae1559162ed\" class=\"colab-df-container\">\n",
              "    <div>\n",
              "<style scoped>\n",
              "    .dataframe tbody tr th:only-of-type {\n",
              "        vertical-align: middle;\n",
              "    }\n",
              "\n",
              "    .dataframe tbody tr th {\n",
              "        vertical-align: top;\n",
              "    }\n",
              "\n",
              "    .dataframe thead th {\n",
              "        text-align: right;\n",
              "    }\n",
              "</style>\n",
              "<table border=\"1\" class=\"dataframe\">\n",
              "  <thead>\n",
              "    <tr style=\"text-align: right;\">\n",
              "      <th></th>\n",
              "      <th>0</th>\n",
              "      <th>1</th>\n",
              "      <th>2</th>\n",
              "      <th>3</th>\n",
              "      <th>4</th>\n",
              "      <th>6</th>\n",
              "      <th>7</th>\n",
              "      <th>8</th>\n",
              "      <th>9</th>\n",
              "      <th>10</th>\n",
              "      <th>...</th>\n",
              "      <th>570</th>\n",
              "      <th>571</th>\n",
              "      <th>572</th>\n",
              "      <th>573</th>\n",
              "      <th>582</th>\n",
              "      <th>583</th>\n",
              "      <th>586</th>\n",
              "      <th>587</th>\n",
              "      <th>589</th>\n",
              "      <th>Pass/Fail</th>\n",
              "    </tr>\n",
              "  </thead>\n",
              "  <tbody>\n",
              "    <tr>\n",
              "      <th>0</th>\n",
              "      <td>1.000000</td>\n",
              "      <td>-0.143840</td>\n",
              "      <td>0.004756</td>\n",
              "      <td>-0.007613</td>\n",
              "      <td>-0.011014</td>\n",
              "      <td>0.002270</td>\n",
              "      <td>0.031483</td>\n",
              "      <td>-0.052622</td>\n",
              "      <td>0.009045</td>\n",
              "      <td>0.006504</td>\n",
              "      <td>...</td>\n",
              "      <td>-0.018953</td>\n",
              "      <td>-0.023166</td>\n",
              "      <td>0.013678</td>\n",
              "      <td>-0.002067</td>\n",
              "      <td>0.000224</td>\n",
              "      <td>0.023453</td>\n",
              "      <td>0.018443</td>\n",
              "      <td>-0.025880</td>\n",
              "      <td>0.004174</td>\n",
              "      <td>-0.025141</td>\n",
              "    </tr>\n",
              "    <tr>\n",
              "      <th>1</th>\n",
              "      <td>-0.143840</td>\n",
              "      <td>1.000000</td>\n",
              "      <td>0.005767</td>\n",
              "      <td>-0.007568</td>\n",
              "      <td>-0.001636</td>\n",
              "      <td>-0.025564</td>\n",
              "      <td>-0.012037</td>\n",
              "      <td>0.031258</td>\n",
              "      <td>0.023964</td>\n",
              "      <td>0.009645</td>\n",
              "      <td>...</td>\n",
              "      <td>-0.009000</td>\n",
              "      <td>-0.037932</td>\n",
              "      <td>0.001753</td>\n",
              "      <td>-0.011467</td>\n",
              "      <td>0.043556</td>\n",
              "      <td>0.002904</td>\n",
              "      <td>-0.009403</td>\n",
              "      <td>0.017266</td>\n",
              "      <td>0.044797</td>\n",
              "      <td>-0.002603</td>\n",
              "    </tr>\n",
              "    <tr>\n",
              "      <th>2</th>\n",
              "      <td>0.004756</td>\n",
              "      <td>0.005767</td>\n",
              "      <td>1.000000</td>\n",
              "      <td>0.298935</td>\n",
              "      <td>0.095891</td>\n",
              "      <td>-0.136225</td>\n",
              "      <td>-0.146213</td>\n",
              "      <td>0.023528</td>\n",
              "      <td>0.016168</td>\n",
              "      <td>0.069893</td>\n",
              "      <td>...</td>\n",
              "      <td>-0.037070</td>\n",
              "      <td>-0.015600</td>\n",
              "      <td>-0.000518</td>\n",
              "      <td>-0.030674</td>\n",
              "      <td>-0.006023</td>\n",
              "      <td>0.015697</td>\n",
              "      <td>-0.025495</td>\n",
              "      <td>-0.029345</td>\n",
              "      <td>-0.032890</td>\n",
              "      <td>-0.000957</td>\n",
              "    </tr>\n",
              "    <tr>\n",
              "      <th>3</th>\n",
              "      <td>-0.007613</td>\n",
              "      <td>-0.007568</td>\n",
              "      <td>0.298935</td>\n",
              "      <td>1.000000</td>\n",
              "      <td>-0.058483</td>\n",
              "      <td>-0.685835</td>\n",
              "      <td>0.073856</td>\n",
              "      <td>-0.102892</td>\n",
              "      <td>0.068215</td>\n",
              "      <td>0.049873</td>\n",
              "      <td>...</td>\n",
              "      <td>0.002231</td>\n",
              "      <td>-0.017820</td>\n",
              "      <td>0.007634</td>\n",
              "      <td>0.013163</td>\n",
              "      <td>0.008988</td>\n",
              "      <td>0.025436</td>\n",
              "      <td>0.034711</td>\n",
              "      <td>-0.039132</td>\n",
              "      <td>-0.080341</td>\n",
              "      <td>-0.024623</td>\n",
              "    </tr>\n",
              "    <tr>\n",
              "      <th>4</th>\n",
              "      <td>-0.011014</td>\n",
              "      <td>-0.001636</td>\n",
              "      <td>0.095891</td>\n",
              "      <td>-0.058483</td>\n",
              "      <td>1.000000</td>\n",
              "      <td>-0.074368</td>\n",
              "      <td>-0.347734</td>\n",
              "      <td>-0.025946</td>\n",
              "      <td>0.054206</td>\n",
              "      <td>-0.006470</td>\n",
              "      <td>...</td>\n",
              "      <td>0.005273</td>\n",
              "      <td>-0.081983</td>\n",
              "      <td>-0.012024</td>\n",
              "      <td>-0.016533</td>\n",
              "      <td>0.045081</td>\n",
              "      <td>-0.001300</td>\n",
              "      <td>-0.043929</td>\n",
              "      <td>-0.031005</td>\n",
              "      <td>0.050910</td>\n",
              "      <td>-0.013756</td>\n",
              "    </tr>\n",
              "    <tr>\n",
              "      <th>...</th>\n",
              "      <td>...</td>\n",
              "      <td>...</td>\n",
              "      <td>...</td>\n",
              "      <td>...</td>\n",
              "      <td>...</td>\n",
              "      <td>...</td>\n",
              "      <td>...</td>\n",
              "      <td>...</td>\n",
              "      <td>...</td>\n",
              "      <td>...</td>\n",
              "      <td>...</td>\n",
              "      <td>...</td>\n",
              "      <td>...</td>\n",
              "      <td>...</td>\n",
              "      <td>...</td>\n",
              "      <td>...</td>\n",
              "      <td>...</td>\n",
              "      <td>...</td>\n",
              "      <td>...</td>\n",
              "      <td>...</td>\n",
              "      <td>...</td>\n",
              "    </tr>\n",
              "    <tr>\n",
              "      <th>583</th>\n",
              "      <td>0.023453</td>\n",
              "      <td>0.002904</td>\n",
              "      <td>0.015697</td>\n",
              "      <td>0.025436</td>\n",
              "      <td>-0.001300</td>\n",
              "      <td>-0.039398</td>\n",
              "      <td>0.010276</td>\n",
              "      <td>0.017390</td>\n",
              "      <td>-0.036036</td>\n",
              "      <td>0.039060</td>\n",
              "      <td>...</td>\n",
              "      <td>0.010110</td>\n",
              "      <td>0.006792</td>\n",
              "      <td>-0.017368</td>\n",
              "      <td>-0.022666</td>\n",
              "      <td>-0.190090</td>\n",
              "      <td>1.000000</td>\n",
              "      <td>0.002257</td>\n",
              "      <td>-0.002649</td>\n",
              "      <td>-0.003008</td>\n",
              "      <td>0.005981</td>\n",
              "    </tr>\n",
              "    <tr>\n",
              "      <th>586</th>\n",
              "      <td>0.018443</td>\n",
              "      <td>-0.009403</td>\n",
              "      <td>-0.025495</td>\n",
              "      <td>0.034711</td>\n",
              "      <td>-0.043929</td>\n",
              "      <td>-0.041209</td>\n",
              "      <td>0.058113</td>\n",
              "      <td>0.010433</td>\n",
              "      <td>0.033738</td>\n",
              "      <td>0.000327</td>\n",
              "      <td>...</td>\n",
              "      <td>0.020544</td>\n",
              "      <td>-0.056391</td>\n",
              "      <td>-0.008668</td>\n",
              "      <td>-0.013504</td>\n",
              "      <td>-0.016726</td>\n",
              "      <td>0.002257</td>\n",
              "      <td>1.000000</td>\n",
              "      <td>0.167913</td>\n",
              "      <td>-0.486559</td>\n",
              "      <td>0.004156</td>\n",
              "    </tr>\n",
              "    <tr>\n",
              "      <th>587</th>\n",
              "      <td>-0.025880</td>\n",
              "      <td>0.017266</td>\n",
              "      <td>-0.029345</td>\n",
              "      <td>-0.039132</td>\n",
              "      <td>-0.031005</td>\n",
              "      <td>0.034027</td>\n",
              "      <td>-0.021426</td>\n",
              "      <td>0.022845</td>\n",
              "      <td>0.059301</td>\n",
              "      <td>0.046965</td>\n",
              "      <td>...</td>\n",
              "      <td>0.008113</td>\n",
              "      <td>-0.010562</td>\n",
              "      <td>-0.001425</td>\n",
              "      <td>-0.018896</td>\n",
              "      <td>-0.024473</td>\n",
              "      <td>-0.002649</td>\n",
              "      <td>0.167913</td>\n",
              "      <td>1.000000</td>\n",
              "      <td>0.390813</td>\n",
              "      <td>0.035391</td>\n",
              "    </tr>\n",
              "    <tr>\n",
              "      <th>589</th>\n",
              "      <td>0.004174</td>\n",
              "      <td>0.044797</td>\n",
              "      <td>-0.032890</td>\n",
              "      <td>-0.080341</td>\n",
              "      <td>0.050910</td>\n",
              "      <td>0.043777</td>\n",
              "      <td>-0.107804</td>\n",
              "      <td>-0.022770</td>\n",
              "      <td>0.004880</td>\n",
              "      <td>0.008393</td>\n",
              "      <td>...</td>\n",
              "      <td>-0.010583</td>\n",
              "      <td>0.010952</td>\n",
              "      <td>-0.022672</td>\n",
              "      <td>-0.027153</td>\n",
              "      <td>0.041486</td>\n",
              "      <td>-0.003008</td>\n",
              "      <td>-0.486559</td>\n",
              "      <td>0.390813</td>\n",
              "      <td>1.000000</td>\n",
              "      <td>-0.002653</td>\n",
              "    </tr>\n",
              "    <tr>\n",
              "      <th>Pass/Fail</th>\n",
              "      <td>-0.025141</td>\n",
              "      <td>-0.002603</td>\n",
              "      <td>-0.000957</td>\n",
              "      <td>-0.024623</td>\n",
              "      <td>-0.013756</td>\n",
              "      <td>0.016239</td>\n",
              "      <td>0.012991</td>\n",
              "      <td>0.028016</td>\n",
              "      <td>-0.031191</td>\n",
              "      <td>0.033639</td>\n",
              "      <td>...</td>\n",
              "      <td>-0.001656</td>\n",
              "      <td>-0.019353</td>\n",
              "      <td>-0.032233</td>\n",
              "      <td>-0.051873</td>\n",
              "      <td>0.047020</td>\n",
              "      <td>0.005981</td>\n",
              "      <td>0.004156</td>\n",
              "      <td>0.035391</td>\n",
              "      <td>-0.002653</td>\n",
              "      <td>1.000000</td>\n",
              "    </tr>\n",
              "  </tbody>\n",
              "</table>\n",
              "<p>248 rows × 248 columns</p>\n",
              "</div>\n",
              "    <div class=\"colab-df-buttons\">\n",
              "\n",
              "  <div class=\"colab-df-container\">\n",
              "    <button class=\"colab-df-convert\" onclick=\"convertToInteractive('df-7ede65b5-2d64-45fe-9c56-1ae1559162ed')\"\n",
              "            title=\"Convert this dataframe to an interactive table.\"\n",
              "            style=\"display:none;\">\n",
              "\n",
              "  <svg xmlns=\"http://www.w3.org/2000/svg\" height=\"24px\" viewBox=\"0 -960 960 960\">\n",
              "    <path d=\"M120-120v-720h720v720H120Zm60-500h600v-160H180v160Zm220 220h160v-160H400v160Zm0 220h160v-160H400v160ZM180-400h160v-160H180v160Zm440 0h160v-160H620v160ZM180-180h160v-160H180v160Zm440 0h160v-160H620v160Z\"/>\n",
              "  </svg>\n",
              "    </button>\n",
              "\n",
              "  <style>\n",
              "    .colab-df-container {\n",
              "      display:flex;\n",
              "      gap: 12px;\n",
              "    }\n",
              "\n",
              "    .colab-df-convert {\n",
              "      background-color: #E8F0FE;\n",
              "      border: none;\n",
              "      border-radius: 50%;\n",
              "      cursor: pointer;\n",
              "      display: none;\n",
              "      fill: #1967D2;\n",
              "      height: 32px;\n",
              "      padding: 0 0 0 0;\n",
              "      width: 32px;\n",
              "    }\n",
              "\n",
              "    .colab-df-convert:hover {\n",
              "      background-color: #E2EBFA;\n",
              "      box-shadow: 0px 1px 2px rgba(60, 64, 67, 0.3), 0px 1px 3px 1px rgba(60, 64, 67, 0.15);\n",
              "      fill: #174EA6;\n",
              "    }\n",
              "\n",
              "    .colab-df-buttons div {\n",
              "      margin-bottom: 4px;\n",
              "    }\n",
              "\n",
              "    [theme=dark] .colab-df-convert {\n",
              "      background-color: #3B4455;\n",
              "      fill: #D2E3FC;\n",
              "    }\n",
              "\n",
              "    [theme=dark] .colab-df-convert:hover {\n",
              "      background-color: #434B5C;\n",
              "      box-shadow: 0px 1px 3px 1px rgba(0, 0, 0, 0.15);\n",
              "      filter: drop-shadow(0px 1px 2px rgba(0, 0, 0, 0.3));\n",
              "      fill: #FFFFFF;\n",
              "    }\n",
              "  </style>\n",
              "\n",
              "    <script>\n",
              "      const buttonEl =\n",
              "        document.querySelector('#df-7ede65b5-2d64-45fe-9c56-1ae1559162ed button.colab-df-convert');\n",
              "      buttonEl.style.display =\n",
              "        google.colab.kernel.accessAllowed ? 'block' : 'none';\n",
              "\n",
              "      async function convertToInteractive(key) {\n",
              "        const element = document.querySelector('#df-7ede65b5-2d64-45fe-9c56-1ae1559162ed');\n",
              "        const dataTable =\n",
              "          await google.colab.kernel.invokeFunction('convertToInteractive',\n",
              "                                                    [key], {});\n",
              "        if (!dataTable) return;\n",
              "\n",
              "        const docLinkHtml = 'Like what you see? Visit the ' +\n",
              "          '<a target=\"_blank\" href=https://colab.research.google.com/notebooks/data_table.ipynb>data table notebook</a>'\n",
              "          + ' to learn more about interactive tables.';\n",
              "        element.innerHTML = '';\n",
              "        dataTable['output_type'] = 'display_data';\n",
              "        await google.colab.output.renderOutput(dataTable, element);\n",
              "        const docLink = document.createElement('div');\n",
              "        docLink.innerHTML = docLinkHtml;\n",
              "        element.appendChild(docLink);\n",
              "      }\n",
              "    </script>\n",
              "  </div>\n",
              "\n",
              "\n",
              "    <div id=\"df-57303930-3bdc-4a11-9fc7-b8da9c2fa6bc\">\n",
              "      <button class=\"colab-df-quickchart\" onclick=\"quickchart('df-57303930-3bdc-4a11-9fc7-b8da9c2fa6bc')\"\n",
              "                title=\"Suggest charts\"\n",
              "                style=\"display:none;\">\n",
              "\n",
              "<svg xmlns=\"http://www.w3.org/2000/svg\" height=\"24px\"viewBox=\"0 0 24 24\"\n",
              "     width=\"24px\">\n",
              "    <g>\n",
              "        <path d=\"M19 3H5c-1.1 0-2 .9-2 2v14c0 1.1.9 2 2 2h14c1.1 0 2-.9 2-2V5c0-1.1-.9-2-2-2zM9 17H7v-7h2v7zm4 0h-2V7h2v10zm4 0h-2v-4h2v4z\"/>\n",
              "    </g>\n",
              "</svg>\n",
              "      </button>\n",
              "\n",
              "<style>\n",
              "  .colab-df-quickchart {\n",
              "      --bg-color: #E8F0FE;\n",
              "      --fill-color: #1967D2;\n",
              "      --hover-bg-color: #E2EBFA;\n",
              "      --hover-fill-color: #174EA6;\n",
              "      --disabled-fill-color: #AAA;\n",
              "      --disabled-bg-color: #DDD;\n",
              "  }\n",
              "\n",
              "  [theme=dark] .colab-df-quickchart {\n",
              "      --bg-color: #3B4455;\n",
              "      --fill-color: #D2E3FC;\n",
              "      --hover-bg-color: #434B5C;\n",
              "      --hover-fill-color: #FFFFFF;\n",
              "      --disabled-bg-color: #3B4455;\n",
              "      --disabled-fill-color: #666;\n",
              "  }\n",
              "\n",
              "  .colab-df-quickchart {\n",
              "    background-color: var(--bg-color);\n",
              "    border: none;\n",
              "    border-radius: 50%;\n",
              "    cursor: pointer;\n",
              "    display: none;\n",
              "    fill: var(--fill-color);\n",
              "    height: 32px;\n",
              "    padding: 0;\n",
              "    width: 32px;\n",
              "  }\n",
              "\n",
              "  .colab-df-quickchart:hover {\n",
              "    background-color: var(--hover-bg-color);\n",
              "    box-shadow: 0 1px 2px rgba(60, 64, 67, 0.3), 0 1px 3px 1px rgba(60, 64, 67, 0.15);\n",
              "    fill: var(--button-hover-fill-color);\n",
              "  }\n",
              "\n",
              "  .colab-df-quickchart-complete:disabled,\n",
              "  .colab-df-quickchart-complete:disabled:hover {\n",
              "    background-color: var(--disabled-bg-color);\n",
              "    fill: var(--disabled-fill-color);\n",
              "    box-shadow: none;\n",
              "  }\n",
              "\n",
              "  .colab-df-spinner {\n",
              "    border: 2px solid var(--fill-color);\n",
              "    border-color: transparent;\n",
              "    border-bottom-color: var(--fill-color);\n",
              "    animation:\n",
              "      spin 1s steps(1) infinite;\n",
              "  }\n",
              "\n",
              "  @keyframes spin {\n",
              "    0% {\n",
              "      border-color: transparent;\n",
              "      border-bottom-color: var(--fill-color);\n",
              "      border-left-color: var(--fill-color);\n",
              "    }\n",
              "    20% {\n",
              "      border-color: transparent;\n",
              "      border-left-color: var(--fill-color);\n",
              "      border-top-color: var(--fill-color);\n",
              "    }\n",
              "    30% {\n",
              "      border-color: transparent;\n",
              "      border-left-color: var(--fill-color);\n",
              "      border-top-color: var(--fill-color);\n",
              "      border-right-color: var(--fill-color);\n",
              "    }\n",
              "    40% {\n",
              "      border-color: transparent;\n",
              "      border-right-color: var(--fill-color);\n",
              "      border-top-color: var(--fill-color);\n",
              "    }\n",
              "    60% {\n",
              "      border-color: transparent;\n",
              "      border-right-color: var(--fill-color);\n",
              "    }\n",
              "    80% {\n",
              "      border-color: transparent;\n",
              "      border-right-color: var(--fill-color);\n",
              "      border-bottom-color: var(--fill-color);\n",
              "    }\n",
              "    90% {\n",
              "      border-color: transparent;\n",
              "      border-bottom-color: var(--fill-color);\n",
              "    }\n",
              "  }\n",
              "</style>\n",
              "\n",
              "      <script>\n",
              "        async function quickchart(key) {\n",
              "          const quickchartButtonEl =\n",
              "            document.querySelector('#' + key + ' button');\n",
              "          quickchartButtonEl.disabled = true;  // To prevent multiple clicks.\n",
              "          quickchartButtonEl.classList.add('colab-df-spinner');\n",
              "          try {\n",
              "            const charts = await google.colab.kernel.invokeFunction(\n",
              "                'suggestCharts', [key], {});\n",
              "          } catch (error) {\n",
              "            console.error('Error during call to suggestCharts:', error);\n",
              "          }\n",
              "          quickchartButtonEl.classList.remove('colab-df-spinner');\n",
              "          quickchartButtonEl.classList.add('colab-df-quickchart-complete');\n",
              "        }\n",
              "        (() => {\n",
              "          let quickchartButtonEl =\n",
              "            document.querySelector('#df-57303930-3bdc-4a11-9fc7-b8da9c2fa6bc button');\n",
              "          quickchartButtonEl.style.display =\n",
              "            google.colab.kernel.accessAllowed ? 'block' : 'none';\n",
              "        })();\n",
              "      </script>\n",
              "    </div>\n",
              "\n",
              "    </div>\n",
              "  </div>\n"
            ],
            "application/vnd.google.colaboratory.intrinsic+json": {
              "type": "dataframe"
            }
          },
          "metadata": {},
          "execution_count": 45
        }
      ]
    },
    {
      "cell_type": "code",
      "source": [
        "df[\"Pass/Fail\"].value_counts().plot(kind=\"bar\")"
      ],
      "metadata": {
        "colab": {
          "base_uri": "https://localhost:8080/",
          "height": 466
        },
        "id": "2iHhzmtxmicU",
        "outputId": "a39feb82-fdc1-4645-aa9c-3cbb90d4e273"
      },
      "execution_count": null,
      "outputs": [
        {
          "output_type": "execute_result",
          "data": {
            "text/plain": [
              "<Axes: xlabel='Pass/Fail'>"
            ]
          },
          "metadata": {},
          "execution_count": 46
        },
        {
          "output_type": "display_data",
          "data": {
            "text/plain": [
              "<Figure size 640x480 with 1 Axes>"
            ],
            "image/png": "[encoded data removed]"
          },
          "metadata": {}
        }
      ]
    },
    {
      "cell_type": "code",
      "source": [
        "\n",
        "\n",
        "# Assuming you have loaded your data into a DataFrame named 'df'\n",
        "\n",
        "# Get the counts for each class value\n",
        "class_counts = df['Pass/Fail'].value_counts().sort_values(ascending=False)\n",
        "\n",
        "# Calculate percentages\n",
        "total_entries = len(df)\n",
        "class_percentages = (class_counts / total_entries) * 100\n",
        "\n",
        "# Create the pie chart\n",
        "plt.figure(figsize=(8, 8))  # Adjust figure size as desired\n",
        "plt.pie(class_percentages, labels=class_counts.index, autopct=\"%1.2f%%\")  # Format percentage display\n",
        "plt.title(\"Distribution of Class Values\")\n",
        "\n",
        "# Print class percentages\n",
        "print(\"Class Percentages:\")\n",
        "for class_value, percentage in class_percentages.items():\n",
        "    print(f\"\\t- {class_value}: {percentage:.2f}%\")\n",
        "\n",
        "plt.show()"
      ],
      "metadata": {
        "colab": {
          "base_uri": "https://localhost:8080/",
          "height": 727
        },
        "id": "DQyUQBIuoGah",
        "outputId": "a7cbf7ec-cda0-4c48-bb34-f888388ec654"
      },
      "execution_count": null,
      "outputs": [
        {
          "output_type": "stream",
          "name": "stdout",
          "text": [
            "Class Percentages:\n",
            "\t- -1: 93.36%\n",
            "\t- 1: 6.64%\n"
          ]
        },
        {
          "output_type": "display_data",
          "data": {
            "text/plain": [
              "<Figure size 800x800 with 1 Axes>"
            ],
            "image/png": "[encoded data removed]"
          },
          "metadata": {}
        }
      ]
    },
    {
      "cell_type": "markdown",
      "source": [
        "- The distribution of the Pass/Fail shows the classes are not balacned ie the Fail(1) has very few data samples. The Pass(-1) class has 93.36% and Fail(1) has 6.64% data which shows the data **classes are not balanced**"
      ],
      "metadata": {
        "id": "kDqFOAppoSM0"
      }
    },
    {
      "cell_type": "code",
      "source": [
        "sns.histplot(data=df,x= '589')\n",
        "plt.show()"
      ],
      "metadata": {
        "colab": {
          "base_uri": "https://localhost:8080/",
          "height": 449
        },
        "id": "UGrUf0BvvfOu",
        "outputId": "edf407b4-56c6-4345-d7bc-227cd00a07d3"
      },
      "execution_count": null,
      "outputs": [
        {
          "output_type": "display_data",
          "data": {
            "text/plain": [
              "<Figure size 640x480 with 1 Axes>"
            ],
            "image/png": "[encoded data removed]"
          },
          "metadata": {}
        }
      ]
    },
    {
      "cell_type": "markdown",
      "source": [
        "- For the feature **'589'** the max no of signals lie around the values **20 to 80.**The data is right skewed,higher the range of values the count is low"
      ],
      "metadata": {
        "id": "keZOVJFjyPbj"
      }
    },
    {
      "cell_type": "code",
      "source": [
        "sns.histplot(data=df,x='0')\n",
        "plt.show()"
      ],
      "metadata": {
        "colab": {
          "base_uri": "https://localhost:8080/",
          "height": 449
        },
        "id": "niQKu43Uyo0v",
        "outputId": "27c7710c-30f2-4eb2-c793-7945a781d823"
      },
      "execution_count": null,
      "outputs": [
        {
          "output_type": "display_data",
          "data": {
            "text/plain": [
              "<Figure size 640x480 with 1 Axes>"
            ],
            "image/png": "[encoded data removed]"
          },
          "metadata": {}
        }
      ]
    },
    {
      "cell_type": "markdown",
      "source": [
        "- The Feature '0' looks like normally distributed,the maximum no values are distributed **around the mean values** ,the signals around 3000 has the maximum count"
      ],
      "metadata": {
        "id": "Ql09iaxpy4ek"
      }
    },
    {
      "cell_type": "markdown",
      "source": [
        "**Bivariate and multivariate analysis**"
      ],
      "metadata": {
        "id": "9Nk43kQvpbgU"
      }
    },
    {
      "cell_type": "code",
      "source": [
        "# Assuming the first 8 features of the dataframe, the heatmap is displayed for understanding the correlation\n",
        "df1 = df.iloc[:, 0:7]  # Select the first 8 columns (adjust as needed)\n",
        "\n",
        "# Calculate the correlation matrix\n",
        "corr_matrix = df1.corr()\n",
        "\n",
        "# Create the heatmap\n",
        "sns.heatmap(corr_matrix)\n",
        "plt.show()"
      ],
      "metadata": {
        "colab": {
          "base_uri": "https://localhost:8080/",
          "height": 435
        },
        "id": "kxAjuSOxpfId",
        "outputId": "98b9dbb1-3a8b-4f85-85a3-862a306fd0aa"
      },
      "execution_count": null,
      "outputs": [
        {
          "output_type": "display_data",
          "data": {
            "text/plain": [
              "<Figure size 640x480 with 2 Axes>"
            ],
            "image/png": "[encoded data removed]"
          },
          "metadata": {}
        }
      ]
    },
    {
      "cell_type": "markdown",
      "source": [
        "- Considering the first 8 signals from the dataset,the heatmap for these 8 signals shows the features 2 and 3 has a correlation of ~0.4.The other features has a poor correaltion."
      ],
      "metadata": {
        "id": "8qv-ERSn8UDO"
      }
    },
    {
      "cell_type": "code",
      "source": [
        "sns.jointplot(data=df, x='Pass/Fail', y='1', kind='hex');\n",
        "plt.colorbar();"
      ],
      "metadata": {
        "colab": {
          "base_uri": "https://localhost:8080/",
          "height": 607
        },
        "id": "GeDDq2na2DKs",
        "outputId": "284c5d65-3c62-4e61-ad50-4befd310b552"
      },
      "execution_count": null,
      "outputs": [
        {
          "output_type": "display_data",
          "data": {
            "text/plain": [
              "<Figure size 600x600 with 4 Axes>"
            ],
            "image/png": "[encoded data removed]"
          },
          "metadata": {}
        }
      ]
    },
    {
      "cell_type": "markdown",
      "source": [
        "- The above plot shows the multivariate analysis of the Pass/Fail and 1 Feature analysis.It is evident that the values are distributed around the mean and data is normally distributed. The feature shows a abnormal class didtribution in the Feature '1'.The data are distributed 2450 to 2550"
      ],
      "metadata": {
        "id": "KeApH3tlAWA1"
      }
    },
    {
      "cell_type": "code",
      "source": [
        "sns.jointplot(data=df, x='Pass/Fail', y='589', kind='hex');\n",
        "plt.colorbar();"
      ],
      "metadata": {
        "colab": {
          "base_uri": "https://localhost:8080/",
          "height": 607
        },
        "id": "fwFp5cXIBgRl",
        "outputId": "30f4fe2f-d53e-484b-fdc3-41d67b3a3125"
      },
      "execution_count": null,
      "outputs": [
        {
          "output_type": "display_data",
          "data": {
            "text/plain": [
              "<Figure size 600x600 with 4 Axes>"
            ],
            "image/png": "[encoded data removed]"
          },
          "metadata": {}
        }
      ]
    },
    {
      "cell_type": "markdown",
      "source": [
        "- The data looks right skewed.Most of the data are distributed to the lower end.There is a heavy class imbalance in the data.There is a need for class balancing to make good predictions"
      ],
      "metadata": {
        "id": "CLw5x0NABls1"
      }
    },
    {
      "cell_type": "markdown",
      "source": [
        "# **Data pre-processing:**"
      ],
      "metadata": {
        "id": "04fhMWQOBV_w"
      }
    },
    {
      "cell_type": "code",
      "source": [
        "X = df.drop(['Pass/Fail'], axis=1)\n",
        "\n",
        "y = df['Pass/Fail']\n",
        "\n",
        "print(X.shape)\n",
        "print(y.shape)\n"
      ],
      "metadata": {
        "colab": {
          "base_uri": "https://localhost:8080/"
        },
        "id": "g4HiSXaqCVqR",
        "outputId": "487c076f-fadb-4c59-d0c3-1874832238de"
      },
      "execution_count": null,
      "outputs": [
        {
          "output_type": "stream",
          "name": "stdout",
          "text": [
            "(1567, 247)\n",
            "(1567,)\n"
          ]
        }
      ]
    },
    {
      "cell_type": "code",
      "source": [
        "y.value_counts()"
      ],
      "metadata": {
        "colab": {
          "base_uri": "https://localhost:8080/",
          "height": 178
        },
        "id": "Qxyqn0kQDA-l",
        "outputId": "dd4e4455-1b38-41f2-f1f5-8ba3c6909c84"
      },
      "execution_count": null,
      "outputs": [
        {
          "output_type": "execute_result",
          "data": {
            "text/plain": [
              "Pass/Fail\n",
              "-1    1463\n",
              " 1     104\n",
              "Name: count, dtype: int64"
            ],
            "text/html": [
              "<div>\n",
              "<style scoped>\n",
              "    .dataframe tbody tr th:only-of-type {\n",
              "        vertical-align: middle;\n",
              "    }\n",
              "\n",
              "    .dataframe tbody tr th {\n",
              "        vertical-align: top;\n",
              "    }\n",
              "\n",
              "    .dataframe thead th {\n",
              "        text-align: right;\n",
              "    }\n",
              "</style>\n",
              "<table border=\"1\" class=\"dataframe\">\n",
              "  <thead>\n",
              "    <tr style=\"text-align: right;\">\n",
              "      <th></th>\n",
              "      <th>count</th>\n",
              "    </tr>\n",
              "    <tr>\n",
              "      <th>Pass/Fail</th>\n",
              "      <th></th>\n",
              "    </tr>\n",
              "  </thead>\n",
              "  <tbody>\n",
              "    <tr>\n",
              "      <th>-1</th>\n",
              "      <td>1463</td>\n",
              "    </tr>\n",
              "    <tr>\n",
              "      <th>1</th>\n",
              "      <td>104</td>\n",
              "    </tr>\n",
              "  </tbody>\n",
              "</table>\n",
              "</div><br><label><b>dtype:</b> int64</label>"
            ]
          },
          "metadata": {},
          "execution_count": 55
        }
      ]
    },
    {
      "cell_type": "markdown",
      "source": [
        "- The data is highly imbalanced"
      ],
      "metadata": {
        "id": "rcNRH2yffugg"
      }
    },
    {
      "cell_type": "code",
      "source": [
        "#implement the SMOTE technique to balance the data\n",
        "from imblearn.over_sampling import SMOTE\n",
        "\n",
        "print(\"Before UpSampling, counts of label '-1': {}\".format(sum(y==-1)))\n",
        "print(\"Before UpSampling, counts of label '1': {} \\n\".format(sum(y==1)))\n",
        "\n",
        "sm = SMOTE(sampling_strategy = 1 ,k_neighbors = 5, random_state=1)   #Synthetic Minority Over Sampling Technique\n",
        "X_res, y_res = sm.fit_resample(X, y.ravel())\n",
        "\n",
        "\n",
        "print(\"After UpSampling, counts of label '-1': {}\".format(sum(y_res==-1)))\n",
        "print(\"After UpSampling, counts of label '1': {} \\n\".format(sum(y_res==1)))\n",
        "\n",
        "\n",
        "\n",
        "print('After UpSampling, the shape of X: {}'.format(X_res.shape))\n",
        "print('After UpSampling, the shape of y: {} \\n'.format(y_res.shape))"
      ],
      "metadata": {
        "colab": {
          "base_uri": "https://localhost:8080/"
        },
        "id": "vCYtHvigEB9w",
        "outputId": "547bf56a-c4e3-4d7c-f7b0-e6ac52906514"
      },
      "execution_count": null,
      "outputs": [
        {
          "output_type": "stream",
          "name": "stdout",
          "text": [
            "Before UpSampling, counts of label '-1': 1463\n",
            "Before UpSampling, counts of label '1': 104 \n",
            "\n",
            "After UpSampling, counts of label '-1': 1463\n",
            "After UpSampling, counts of label '1': 1463 \n",
            "\n",
            "After UpSampling, the shape of X: (2926, 247)\n",
            "After UpSampling, the shape of y: (2926,) \n",
            "\n"
          ]
        },
        {
          "output_type": "stream",
          "name": "stderr",
          "text": [
            "<ipython-input-56-042a36a3d982>:8: FutureWarning: Series.ravel is deprecated. The underlying array is already 1D, so ravel is not necessary.  Use `to_numpy()` for conversion to a numpy array instead.\n",
            "  X_res, y_res = sm.fit_resample(X, y.ravel())\n"
          ]
        }
      ]
    },
    {
      "cell_type": "code",
      "source": [
        "#scale and split the train & test data\n",
        "from sklearn.model_selection import train_test_split\n",
        "\n",
        "from sklearn.preprocessing import StandardScaler\n",
        "\n",
        "scaler = StandardScaler()\n",
        "\n",
        "# Standardize the features\n",
        "scaler = StandardScaler()\n",
        "X_scaled = scaler.fit_transform(X_res)\n",
        "\n",
        "# Split the standardized data\n",
        "X_train, X_test, y_train, y_test = train_test_split(X_scaled, y_res, test_size=0.2, random_state=1)\n",
        "\n",
        "print(X_train.shape)\n",
        "print(X_test.shape)\n",
        "print(y_train.shape)\n",
        "print(y_test.shape)\n"
      ],
      "metadata": {
        "colab": {
          "base_uri": "https://localhost:8080/"
        },
        "id": "_SbzdoMXFAv_",
        "outputId": "2e8232b1-3e10-408b-c226-919225e34618"
      },
      "execution_count": null,
      "outputs": [
        {
          "output_type": "stream",
          "name": "stdout",
          "text": [
            "(2340, 247)\n",
            "(586, 247)\n",
            "(2340,)\n",
            "(586,)\n"
          ]
        }
      ]
    },
    {
      "cell_type": "markdown",
      "source": [
        "**Check if the train and test data have similar statistical characteristics when compared with original data**"
      ],
      "metadata": {
        "id": "YAfpZBpMHEPg"
      }
    },
    {
      "cell_type": "code",
      "source": [
        "X_scaled_series = pd.DataFrame(X_scaled)\n",
        "print(X_scaled_series.describe())\n",
        "y_res_series = pd.Series(y_res)\n",
        "print(y_res_series.describe())\n"
      ],
      "metadata": {
        "colab": {
          "base_uri": "https://localhost:8080/"
        },
        "id": "8qkBMYoGHFhF",
        "outputId": "6eb7534e-33dc-4c27-b6d0-4b1282ea68cc"
      },
      "execution_count": null,
      "outputs": [
        {
          "output_type": "stream",
          "name": "stdout",
          "text": [
            "                0             1             2             3             4    \\\n",
            "count  2.926000e+03  2.926000e+03  2.926000e+03  2.926000e+03  2.926000e+03   \n",
            "mean   3.433723e-15  2.910408e-15 -7.081144e-15 -4.723191e-16  1.457025e-17   \n",
            "std    1.000171e+00  1.000171e+00  1.000171e+00  1.000171e+00  1.000171e+00   \n",
            "min   -3.709532e+00 -4.661749e+00 -5.203108e+00 -3.716517e+00 -5.295383e-02   \n",
            "25%   -6.495311e-01 -5.624882e-01 -6.873415e-01 -7.255768e-01 -4.308422e-02   \n",
            "50%   -1.500031e-01  4.568973e-02 -4.361573e-02 -2.086613e-01 -3.748482e-02   \n",
            "75%    5.491378e-01  5.457854e-01  6.125275e-01  5.094653e-01 -3.302207e-02   \n",
            "max    4.846393e+00  4.872043e+00  4.299656e+00  6.280754e+00  2.706845e+01   \n",
            "\n",
            "                5             6             7            8             9    \\\n",
            "count  2.926000e+03  2.926000e+03  2.926000e+03  2926.000000  2.926000e+03   \n",
            "mean   1.627012e-15  1.908703e-15 -2.056834e-15     0.000000  2.428376e-18   \n",
            "std    1.000171e+00  1.000171e+00  1.000171e+00     1.000171  1.000171e+00   \n",
            "min   -3.598578e+00 -1.842230e+01 -4.353652e+00    -3.866678 -4.132681e+00   \n",
            "25%   -4.543394e-01 -1.374443e-01 -6.355891e-01    -0.597101 -5.891918e-01   \n",
            "50%    3.061448e-02  3.414209e-02 -1.890527e-02    -0.019675  7.740516e-02   \n",
            "75%    5.196158e-01  2.357511e-01  6.750664e-01     0.557750  6.351748e-01   \n",
            "max    5.286845e+00  9.923011e-01  2.983492e+00     5.754578  6.146946e+00   \n",
            "\n",
            "       ...           237           238           239           240  \\\n",
            "count  ...  2.926000e+03  2.926000e+03  2.926000e+03  2.926000e+03   \n",
            "mean   ...  9.713503e-18  4.018962e-15 -4.128239e-17 -9.713503e-18   \n",
            "std    ...  1.000171e+00  1.000171e+00  1.000171e+00  1.000171e+00   \n",
            "min    ... -1.696411e+00 -1.114812e+01 -3.859970e+00 -2.840425e-01   \n",
            "25%    ... -7.513452e-01  4.635883e-02 -3.852940e-01 -2.264372e-01   \n",
            "50%    ... -1.020985e-01  1.261686e-01  1.511885e-01 -2.099417e-01   \n",
            "75%    ...  3.094826e-01  2.228547e-01  6.850025e-01 -1.906672e-01   \n",
            "max    ...  6.931879e+00  3.113368e+00  2.229280e+00  6.165594e+00   \n",
            "\n",
            "                241           242           243           244           245  \\\n",
            "count  2.926000e+03  2.926000e+03  2.926000e+03  2.926000e+03  2.926000e+03   \n",
            "mean  -1.845566e-16 -1.500251e-14 -7.527965e-17  1.578444e-16  1.068485e-16   \n",
            "std    1.000171e+00  1.000171e+00  1.000171e+00  1.000171e+00  1.000171e+00   \n",
            "min   -1.312205e+00 -6.919550e+00 -7.165406e-01 -3.465658e+00 -1.689774e+00   \n",
            "25%   -4.760055e-01 -6.311158e-01 -2.739907e-01 -6.273196e-01 -6.915502e-01   \n",
            "50%   -1.734683e-01  4.374053e-02 -1.088348e-01 -8.030810e-02 -1.649622e-01   \n",
            "75%    1.790425e-01  6.515707e-01  1.028346e-01  5.364502e-01  4.771025e-01   \n",
            "max    9.510139e+00  2.896542e+00  3.532065e+01  7.311640e+00  7.647274e+00   \n",
            "\n",
            "                246  \n",
            "count  2.926000e+03  \n",
            "mean   8.742153e-17  \n",
            "std    1.000171e+00  \n",
            "min   -1.207506e+00  \n",
            "25%   -5.989542e-01  \n",
            "50%   -2.757564e-01  \n",
            "75%    2.279231e-01  \n",
            "max    7.777558e+00  \n",
            "\n",
            "[8 rows x 247 columns]\n",
            "count    2926.000000\n",
            "mean        0.000000\n",
            "std         1.000171\n",
            "min        -1.000000\n",
            "25%        -1.000000\n",
            "50%         0.000000\n",
            "75%         1.000000\n",
            "max         1.000000\n",
            "dtype: float64\n"
          ]
        }
      ]
    },
    {
      "cell_type": "code",
      "source": [
        "#print the 5-point summary for the test data Dependedent and independent variable\n",
        "X_test_series = pd.DataFrame(X_test)\n",
        "print(X_test_series.describe())\n",
        "y_test_series = pd.Series(y_test)\n",
        "print(y_test_series.describe())"
      ],
      "metadata": {
        "colab": {
          "base_uri": "https://localhost:8080/"
        },
        "id": "MNQFLepyHspx",
        "outputId": "58625361-18a2-474f-a37f-d746a573d36a"
      },
      "execution_count": null,
      "outputs": [
        {
          "output_type": "stream",
          "name": "stdout",
          "text": [
            "              0           1           2           3           4           5    \\\n",
            "count  586.000000  586.000000  586.000000  586.000000  586.000000  586.000000   \n",
            "mean    -0.071271    0.123342    0.006315    0.017223   -0.037268    0.007569   \n",
            "std      0.917818    0.985441    0.972173    1.032859    0.009618    1.052566   \n",
            "min     -2.682866   -4.260816   -5.203108   -1.803128   -0.051975   -3.576780   \n",
            "25%     -0.664318   -0.463880   -0.667434   -0.712539   -0.043523   -0.453642   \n",
            "50%     -0.182663    0.137102   -0.044347   -0.186885   -0.037481    0.005951   \n",
            "75%      0.460977    0.690361    0.632018    0.514308   -0.033331    0.501833   \n",
            "max      3.444542    4.872043    3.919075    6.280754    0.032646    5.286845   \n",
            "\n",
            "              6           7           8           9    ...         237  \\\n",
            "count  586.000000  586.000000  586.000000  586.000000  ...  586.000000   \n",
            "mean     0.015595    0.043810    0.027833    0.016148  ...    0.009448   \n",
            "std      0.807148    1.029993    0.977536    1.018246  ...    1.024091   \n",
            "min    -18.422298   -4.353652   -3.401738   -4.132681  ...   -1.693823   \n",
            "25%     -0.138743   -0.582412   -0.588484   -0.535195  ...   -0.754724   \n",
            "50%      0.040487    0.023640    0.036844    0.088187  ...   -0.102099   \n",
            "75%      0.234221    0.719046    0.602280    0.635826  ...    0.253215   \n",
            "max      0.992301    2.983492    3.039929    6.146946  ...    5.996780   \n",
            "\n",
            "              238         239         240         241         242         243  \\\n",
            "count  586.000000  586.000000  586.000000  586.000000  586.000000  586.000000   \n",
            "mean    -0.027788   -0.009094    0.050801    0.057031    0.038664    0.024222   \n",
            "std      1.148860    1.017967    1.120689    1.107894    1.013392    1.510868   \n",
            "min    -11.148119   -3.844395   -0.260018   -1.312205   -6.244694   -0.632306   \n",
            "25%      0.026568   -0.442110   -0.225019   -0.463195   -0.579355   -0.268804   \n",
            "50%      0.117781    0.138104   -0.207371   -0.183390    0.100530   -0.104988   \n",
            "75%      0.214523    0.716291   -0.187820    0.210540    0.684347    0.072781   \n",
            "max      3.113368    2.229280    6.136708    9.510139    2.896542   35.320652   \n",
            "\n",
            "              244         245         246  \n",
            "count  586.000000  586.000000  586.000000  \n",
            "mean    -0.028242   -0.022513   -0.054899  \n",
            "std      0.934388    1.004359    0.873149  \n",
            "min     -2.484267   -1.531519   -1.207506  \n",
            "25%     -0.667407   -0.700680   -0.585155  \n",
            "50%     -0.103195   -0.170860   -0.274981  \n",
            "75%      0.522932    0.427295    0.201017  \n",
            "max      5.240814    6.454274    5.850612  \n",
            "\n",
            "[8 rows x 247 columns]\n",
            "count    586.000000\n",
            "mean      -0.023891\n",
            "std        1.000569\n",
            "min       -1.000000\n",
            "25%       -1.000000\n",
            "50%       -1.000000\n",
            "75%        1.000000\n",
            "max        1.000000\n",
            "dtype: float64\n"
          ]
        }
      ]
    },
    {
      "cell_type": "code",
      "source": [
        "#print the 5-point summary for the test data Dependedent and independent variable\n",
        "X_train_series = pd.DataFrame(X_train)\n",
        "print(X_train_series.describe())\n",
        "y_train_series = pd.Series(y_train)\n",
        "print(y_train_series.describe())"
      ],
      "metadata": {
        "colab": {
          "base_uri": "https://localhost:8080/"
        },
        "id": "iswuNADoLRlf",
        "outputId": "eace9ca1-0858-4030-d69a-457c60145b21"
      },
      "execution_count": null,
      "outputs": [
        {
          "output_type": "stream",
          "name": "stdout",
          "text": [
            "               0            1            2            3            4    \\\n",
            "count  2340.000000  2340.000000  2340.000000  2340.000000  2340.000000   \n",
            "mean      0.017848    -0.030888    -0.001581    -0.004313     0.009333   \n",
            "std       1.019158     1.001658     1.007258     0.991996     1.118259   \n",
            "min      -3.709532    -4.661749    -5.203108    -3.716517    -0.052954   \n",
            "25%      -0.643624    -0.590169    -0.689521    -0.727931    -0.042961   \n",
            "50%      -0.135330     0.030799    -0.043084    -0.211024    -0.037485   \n",
            "75%       0.576865     0.517898     0.587974     0.507152    -0.032916   \n",
            "max       4.846393     4.775275     4.299656     6.024294    27.068449   \n",
            "\n",
            "               5            6            7            8            9    ...  \\\n",
            "count  2340.000000  2340.000000  2340.000000  2340.000000  2340.000000  ...   \n",
            "mean     -0.001896    -0.003905    -0.010971    -0.006970    -0.004044  ...   \n",
            "std       0.986839     1.043046     0.992485     1.005844     0.995773  ...   \n",
            "min      -3.598578   -18.422298    -4.203882    -3.866678    -3.898787  ...   \n",
            "25%      -0.454707    -0.136981    -0.651185    -0.600756    -0.604613  ...   \n",
            "50%       0.039476     0.032265    -0.037128    -0.027174     0.073936  ...   \n",
            "75%       0.527862     0.235876     0.665995     0.550251     0.634194  ...   \n",
            "max       5.286845     0.841332     2.944079     5.754578     4.229018  ...   \n",
            "\n",
            "               237          238          239          240          241  \\\n",
            "count  2340.000000  2340.000000  2340.000000  2340.000000  2340.000000   \n",
            "mean     -0.002366     0.006959     0.002277    -0.012722    -0.014282   \n",
            "std       0.994299     0.959484     0.995872     0.967488     0.971058   \n",
            "min      -1.696411   -10.557888    -3.859970    -0.284042    -1.312205   \n",
            "25%      -0.747343     0.049223    -0.349990    -0.226699    -0.478775   \n",
            "50%      -0.102099     0.128929     0.152740    -0.210254    -0.173065   \n",
            "75%       0.322697     0.223392     0.681248    -0.192226     0.176975   \n",
            "max       6.931879     2.977531     2.229280     6.165594     9.510139   \n",
            "\n",
            "               242          243          244          245          246  \n",
            "count  2340.000000  2340.000000  2340.000000  2340.000000  2340.000000  \n",
            "mean     -0.009683    -0.006066     0.007073     0.005638     0.013748  \n",
            "std       0.996816     0.824533     1.016045     0.999255     1.029242  \n",
            "min      -6.919550    -0.716541    -3.465658    -1.689774    -1.207506  \n",
            "25%      -0.631116    -0.279434    -0.611520    -0.679799    -0.599009  \n",
            "50%       0.014287    -0.110300    -0.071305    -0.158836    -0.277019  \n",
            "75%       0.638729     0.110492     0.541070     0.477103     0.242696  \n",
            "max       2.896542    34.922451     7.311640     7.647274     7.777558  \n",
            "\n",
            "[8 rows x 247 columns]\n",
            "count    2340.000000\n",
            "mean        0.005983\n",
            "std         1.000196\n",
            "min        -1.000000\n",
            "25%        -1.000000\n",
            "50%         1.000000\n",
            "75%         1.000000\n",
            "max         1.000000\n",
            "dtype: float64\n"
          ]
        }
      ]
    },
    {
      "cell_type": "markdown",
      "source": [
        "# **Model training, testing and tuning:**"
      ],
      "metadata": {
        "id": "fp3GeP9reGWx"
      }
    },
    {
      "cell_type": "code",
      "source": [
        "#lets train the model using the Support Vector Machine\n",
        "\n",
        "from sklearn.svm import SVC\n",
        "from sklearn.metrics import average_precision_score, confusion_matrix, accuracy_score, classification_report,r2_score\n",
        "from sklearn import metrics\n",
        "\n",
        "# Fit the model on train\n",
        "model = SVC(C= .1, kernel='linear', gamma= 1)\n",
        "model.fit(X_train, y_train)\n",
        "\n",
        "#predict train data\n",
        "y_predict_train = model.predict(X_train)\n"
      ],
      "metadata": {
        "id": "KVj-d6juHsrq"
      },
      "execution_count": null,
      "outputs": []
    },
    {
      "cell_type": "code",
      "source": [
        "print(f\"Performance on Train Data using Support Vector Machine\")\n",
        "print(classification_report(y_train, y_predict_train))\n",
        "print(\"\")"
      ],
      "metadata": {
        "colab": {
          "base_uri": "https://localhost:8080/"
        },
        "id": "1FJTdP6Bg-TE",
        "outputId": "6698db9a-3005-4205-c4d8-2051a79094fd"
      },
      "execution_count": null,
      "outputs": [
        {
          "output_type": "stream",
          "name": "stdout",
          "text": [
            "Performance on Train Data using Support Vector Machine\n",
            "              precision    recall  f1-score   support\n",
            "\n",
            "          -1       1.00      0.93      0.96      1163\n",
            "           1       0.93      1.00      0.96      1177\n",
            "\n",
            "    accuracy                           0.96      2340\n",
            "   macro avg       0.96      0.96      0.96      2340\n",
            "weighted avg       0.96      0.96      0.96      2340\n",
            "\n",
            "\n"
          ]
        }
      ]
    },
    {
      "cell_type": "markdown",
      "source": [
        "**Using cross validation techniques.**"
      ],
      "metadata": {
        "id": "iq69MHc3hDZT"
      }
    },
    {
      "cell_type": "code",
      "source": [
        "#implement k fold Crossvalidation\n",
        "from sklearn.model_selection import KFold\n",
        "from sklearn.model_selection import cross_val_score\n",
        "\n",
        "num_folds = 10\n",
        "seed = 7\n",
        "\n",
        "kfold = KFold(n_splits = num_folds)\n",
        "results = cross_val_score(model, X_train, y_train, cv=kfold)\n",
        "print(results)\n",
        "print(\"Accuracy: %.3f%% (%.3f%%)\" % (results.mean()*100.0, results.std()*100.0))"
      ],
      "metadata": {
        "colab": {
          "base_uri": "https://localhost:8080/"
        },
        "id": "TUNFU1Ldh2pq",
        "outputId": "c50ae70d-9605-4f08-c454-0070d00d92af"
      },
      "execution_count": null,
      "outputs": [
        {
          "output_type": "stream",
          "name": "stdout",
          "text": [
            "[0.93162393 0.93589744 0.8974359  0.94444444 0.91880342 0.93589744\n",
            " 0.9017094  0.94017094 0.91452991 0.94444444]\n",
            "Accuracy: 92.650% (1.642%)\n"
          ]
        }
      ]
    },
    {
      "cell_type": "code",
      "source": [
        "# prepare Leave One Out cross validation\n",
        "from sklearn.model_selection import LeaveOneOut\n",
        "\n",
        "loocv= LeaveOneOut()\n",
        "\n",
        "results = cross_val_score(model,X_train, y_train, cv=loocv)\n",
        "print(\"Accuracy: %.3f%% (%.3f%%)\" % (results.mean()*100.0, results.std()*100.0))"
      ],
      "metadata": {
        "colab": {
          "base_uri": "https://localhost:8080/"
        },
        "id": "H6oYhQT4dc4M",
        "outputId": "b09249f8-754a-4f3f-c1d6-8702b67819b6"
      },
      "execution_count": null,
      "outputs": [
        {
          "output_type": "stream",
          "name": "stdout",
          "text": [
            "Accuracy: 93.376% (24.870%)\n"
          ]
        }
      ]
    },
    {
      "cell_type": "markdown",
      "source": [
        "# **Hyper-parameter tuning using Gridsearch(Support Vector Machine)**"
      ],
      "metadata": {
        "id": "i9j2smnaiQQF"
      }
    },
    {
      "cell_type": "code",
      "source": [
        "from sklearn.model_selection import GridSearchCV\n",
        "from scipy.stats import uniform, randint\n",
        "\n",
        "param_grid = {\n",
        "  'C': [0.1, 1, 10, 100],  # Regularization parameter (inverse strength)\n",
        "  'kernel': ['linear', 'rbf', 'poly'],  # Kernel function type\n",
        "  'gamma': ['auto', 'scale', 0.1, 0.01]  # Kernel coefficient (for 'rbf' and 'poly')\n",
        "}\n",
        "\n",
        "\n",
        "# Set random_state for reproducibility (optional)\n",
        "grid_search = GridSearchCV(model, param_grid = param_grid,\n",
        "                           scoring='accuracy',  # Metric to optimize (e.g., accuracy, F1-score)\n",
        "                           cv= 10,            # Cross-validation folds\n",
        "                           )  # Optional for reproducibility\n",
        "\n",
        "grid_search.fit(X_train, y_train)\n",
        "\n"
      ],
      "metadata": {
        "colab": {
          "base_uri": "https://localhost:8080/",
          "height": 164
        },
        "id": "KfCow_fDiUEQ",
        "outputId": "db59eb77-4c06-4bb9-d1e6-3717e510a1c6"
      },
      "execution_count": null,
      "outputs": [
        {
          "output_type": "execute_result",
          "data": {
            "text/plain": [
              "GridSearchCV(cv=10, estimator=SVC(C=0.1, gamma=1, kernel='linear'),\n",
              "             param_grid={'C': [0.1, 1, 10, 100],\n",
              "                         'gamma': ['auto', 'scale', 0.1, 0.01],\n",
              "                         'kernel': ['linear', 'rbf', 'poly']},\n",
              "             scoring='accuracy')"
            ],
            "text/html": [
              "<style>#sk-container-id-1 {\n",
              "  /* Definition of color scheme common for light and dark mode */\n",
              "  --sklearn-color-text: #000;\n",
              "  --sklearn-color-text-muted: #666;\n",
              "  --sklearn-color-line: gray;\n",
              "  /* Definition of color scheme for unfitted estimators */\n",
              "  --sklearn-color-unfitted-level-0: #fff5e6;\n",
              "  --sklearn-color-unfitted-level-1: #f6e4d2;\n",
              "  --sklearn-color-unfitted-level-2: #ffe0b3;\n",
              "  --sklearn-color-unfitted-level-3: chocolate;\n",
              "  /* Definition of color scheme for fitted estimators */\n",
              "  --sklearn-color-fitted-level-0: #f0f8ff;\n",
              "  --sklearn-color-fitted-level-1: #d4ebff;\n",
              "  --sklearn-color-fitted-level-2: #b3dbfd;\n",
              "  --sklearn-color-fitted-level-3: cornflowerblue;\n",
              "\n",
              "  /* Specific color for light theme */\n",
              "  --sklearn-color-text-on-default-background: var(--sg-text-color, var(--theme-code-foreground, var(--jp-content-font-color1, black)));\n",
              "  --sklearn-color-background: var(--sg-background-color, var(--theme-background, var(--jp-layout-color0, white)));\n",
              "  --sklearn-color-border-box: var(--sg-text-color, var(--theme-code-foreground, var(--jp-content-font-color1, black)));\n",
              "  --sklearn-color-icon: #696969;\n",
              "\n",
              "  @media (prefers-color-scheme: dark) {\n",
              "    /* Redefinition of color scheme for dark theme */\n",
              "    --sklearn-color-text-on-default-background: var(--sg-text-color, var(--theme-code-foreground, var(--jp-content-font-color1, white)));\n",
              "    --sklearn-color-background: var(--sg-background-color, var(--theme-background, var(--jp-layout-color0, #111)));\n",
              "    --sklearn-color-border-box: var(--sg-text-color, var(--theme-code-foreground, var(--jp-content-font-color1, white)));\n",
              "    --sklearn-color-icon: #878787;\n",
              "  }\n",
              "}\n",
              "\n",
              "#sk-container-id-1 {\n",
              "  color: var(--sklearn-color-text);\n",
              "}\n",
              "\n",
              "#sk-container-id-1 pre {\n",
              "  padding: 0;\n",
              "}\n",
              "\n",
              "#sk-container-id-1 input.sk-hidden--visually {\n",
              "  border: 0;\n",
              "  clip: rect(1px 1px 1px 1px);\n",
              "  clip: rect(1px, 1px, 1px, 1px);\n",
              "  height: 1px;\n",
              "  margin: -1px;\n",
              "  overflow: hidden;\n",
              "  padding: 0;\n",
              "  position: absolute;\n",
              "  width: 1px;\n",
              "}\n",
              "\n",
              "#sk-container-id-1 div.sk-dashed-wrapped {\n",
              "  border: 1px dashed var(--sklearn-color-line);\n",
              "  margin: 0 0.4em 0.5em 0.4em;\n",
              "  box-sizing: border-box;\n",
              "  padding-bottom: 0.4em;\n",
              "  background-color: var(--sklearn-color-background);\n",
              "}\n",
              "\n",
              "#sk-container-id-1 div.sk-container {\n",
              "  /* jupyter's `normalize.less` sets `[hidden] { display: none; }`\n",
              "     but bootstrap.min.css set `[hidden] { display: none !important; }`\n",
              "     so we also need the `!important` here to be able to override the\n",
              "     default hidden behavior on the sphinx rendered scikit-learn.org.\n",
              "     See: https://github.com/scikit-learn/scikit-learn/issues/21755 */\n",
              "  display: inline-block !important;\n",
              "  position: relative;\n",
              "}\n",
              "\n",
              "#sk-container-id-1 div.sk-text-repr-fallback {\n",
              "  display: none;\n",
              "}\n",
              "\n",
              "div.sk-parallel-item,\n",
              "div.sk-serial,\n",
              "div.sk-item {\n",
              "  /* draw centered vertical line to link estimators */\n",
              "  background-image: linear-gradient(var(--sklearn-color-text-on-default-background), var(--sklearn-color-text-on-default-background));\n",
              "  background-size: 2px 100%;\n",
              "  background-repeat: no-repeat;\n",
              "  background-position: center center;\n",
              "}\n",
              "\n",
              "/* Parallel-specific style estimator block */\n",
              "\n",
              "#sk-container-id-1 div.sk-parallel-item::after {\n",
              "  content: \"\";\n",
              "  width: 100%;\n",
              "  border-bottom: 2px solid var(--sklearn-color-text-on-default-background);\n",
              "  flex-grow: 1;\n",
              "}\n",
              "\n",
              "#sk-container-id-1 div.sk-parallel {\n",
              "  display: flex;\n",
              "  align-items: stretch;\n",
              "  justify-content: center;\n",
              "  background-color: var(--sklearn-color-background);\n",
              "  position: relative;\n",
              "}\n",
              "\n",
              "#sk-container-id-1 div.sk-parallel-item {\n",
              "  display: flex;\n",
              "  flex-direction: column;\n",
              "}\n",
              "\n",
              "#sk-container-id-1 div.sk-parallel-item:first-child::after {\n",
              "  align-self: flex-end;\n",
              "  width: 50%;\n",
              "}\n",
              "\n",
              "#sk-container-id-1 div.sk-parallel-item:last-child::after {\n",
              "  align-self: flex-start;\n",
              "  width: 50%;\n",
              "}\n",
              "\n",
              "#sk-container-id-1 div.sk-parallel-item:only-child::after {\n",
              "  width: 0;\n",
              "}\n",
              "\n",
              "/* Serial-specific style estimator block */\n",
              "\n",
              "#sk-container-id-1 div.sk-serial {\n",
              "  display: flex;\n",
              "  flex-direction: column;\n",
              "  align-items: center;\n",
              "  background-color: var(--sklearn-color-background);\n",
              "  padding-right: 1em;\n",
              "  padding-left: 1em;\n",
              "}\n",
              "\n",
              "\n",
              "/* Toggleable style: style used for estimator/Pipeline/ColumnTransformer box that is\n",
              "clickable and can be expanded/collapsed.\n",
              "- Pipeline and ColumnTransformer use this feature and define the default style\n",
              "- Estimators will overwrite some part of the style using the `sk-estimator` class\n",
              "*/\n",
              "\n",
              "/* Pipeline and ColumnTransformer style (default) */\n",
              "\n",
              "#sk-container-id-1 div.sk-toggleable {\n",
              "  /* Default theme specific background. It is overwritten whether we have a\n",
              "  specific estimator or a Pipeline/ColumnTransformer */\n",
              "  background-color: var(--sklearn-color-background);\n",
              "}\n",
              "\n",
              "/* Toggleable label */\n",
              "#sk-container-id-1 label.sk-toggleable__label {\n",
              "  cursor: pointer;\n",
              "  display: flex;\n",
              "  width: 100%;\n",
              "  margin-bottom: 0;\n",
              "  padding: 0.5em;\n",
              "  box-sizing: border-box;\n",
              "  text-align: center;\n",
              "  align-items: start;\n",
              "  justify-content: space-between;\n",
              "  gap: 0.5em;\n",
              "}\n",
              "\n",
              "#sk-container-id-1 label.sk-toggleable__label .caption {\n",
              "  font-size: 0.6rem;\n",
              "  font-weight: lighter;\n",
              "  color: var(--sklearn-color-text-muted);\n",
              "}\n",
              "\n",
              "#sk-container-id-1 label.sk-toggleable__label-arrow:before {\n",
              "  /* Arrow on the left of the label */\n",
              "  content: \"▸\";\n",
              "  float: left;\n",
              "  margin-right: 0.25em;\n",
              "  color: var(--sklearn-color-icon);\n",
              "}\n",
              "\n",
              "#sk-container-id-1 label.sk-toggleable__label-arrow:hover:before {\n",
              "  color: var(--sklearn-color-text);\n",
              "}\n",
              "\n",
              "/* Toggleable content - dropdown */\n",
              "\n",
              "#sk-container-id-1 div.sk-toggleable__content {\n",
              "  max-height: 0;\n",
              "  max-width: 0;\n",
              "  overflow: hidden;\n",
              "  text-align: left;\n",
              "  /* unfitted */\n",
              "  background-color: var(--sklearn-color-unfitted-level-0);\n",
              "}\n",
              "\n",
              "#sk-container-id-1 div.sk-toggleable__content.fitted {\n",
              "  /* fitted */\n",
              "  background-color: var(--sklearn-color-fitted-level-0);\n",
              "}\n",
              "\n",
              "#sk-container-id-1 div.sk-toggleable__content pre {\n",
              "  margin: 0.2em;\n",
              "  border-radius: 0.25em;\n",
              "  color: var(--sklearn-color-text);\n",
              "  /* unfitted */\n",
              "  background-color: var(--sklearn-color-unfitted-level-0);\n",
              "}\n",
              "\n",
              "#sk-container-id-1 div.sk-toggleable__content.fitted pre {\n",
              "  /* unfitted */\n",
              "  background-color: var(--sklearn-color-fitted-level-0);\n",
              "}\n",
              "\n",
              "#sk-container-id-1 input.sk-toggleable__control:checked~div.sk-toggleable__content {\n",
              "  /* Expand drop-down */\n",
              "  max-height: 200px;\n",
              "  max-width: 100%;\n",
              "  overflow: auto;\n",
              "}\n",
              "\n",
              "#sk-container-id-1 input.sk-toggleable__control:checked~label.sk-toggleable__label-arrow:before {\n",
              "  content: \"▾\";\n",
              "}\n",
              "\n",
              "/* Pipeline/ColumnTransformer-specific style */\n",
              "\n",
              "#sk-container-id-1 div.sk-label input.sk-toggleable__control:checked~label.sk-toggleable__label {\n",
              "  color: var(--sklearn-color-text);\n",
              "  background-color: var(--sklearn-color-unfitted-level-2);\n",
              "}\n",
              "\n",
              "#sk-container-id-1 div.sk-label.fitted input.sk-toggleable__control:checked~label.sk-toggleable__label {\n",
              "  background-color: var(--sklearn-color-fitted-level-2);\n",
              "}\n",
              "\n",
              "/* Estimator-specific style */\n",
              "\n",
              "/* Colorize estimator box */\n",
              "#sk-container-id-1 div.sk-estimator input.sk-toggleable__control:checked~label.sk-toggleable__label {\n",
              "  /* unfitted */\n",
              "  background-color: var(--sklearn-color-unfitted-level-2);\n",
              "}\n",
              "\n",
              "#sk-container-id-1 div.sk-estimator.fitted input.sk-toggleable__control:checked~label.sk-toggleable__label {\n",
              "  /* fitted */\n",
              "  background-color: var(--sklearn-color-fitted-level-2);\n",
              "}\n",
              "\n",
              "#sk-container-id-1 div.sk-label label.sk-toggleable__label,\n",
              "#sk-container-id-1 div.sk-label label {\n",
              "  /* The background is the default theme color */\n",
              "  color: var(--sklearn-color-text-on-default-background);\n",
              "}\n",
              "\n",
              "/* On hover, darken the color of the background */\n",
              "#sk-container-id-1 div.sk-label:hover label.sk-toggleable__label {\n",
              "  color: var(--sklearn-color-text);\n",
              "  background-color: var(--sklearn-color-unfitted-level-2);\n",
              "}\n",
              "\n",
              "/* Label box, darken color on hover, fitted */\n",
              "#sk-container-id-1 div.sk-label.fitted:hover label.sk-toggleable__label.fitted {\n",
              "  color: var(--sklearn-color-text);\n",
              "  background-color: var(--sklearn-color-fitted-level-2);\n",
              "}\n",
              "\n",
              "/* Estimator label */\n",
              "\n",
              "#sk-container-id-1 div.sk-label label {\n",
              "  font-family: monospace;\n",
              "  font-weight: bold;\n",
              "  display: inline-block;\n",
              "  line-height: 1.2em;\n",
              "}\n",
              "\n",
              "#sk-container-id-1 div.sk-label-container {\n",
              "  text-align: center;\n",
              "}\n",
              "\n",
              "/* Estimator-specific */\n",
              "#sk-container-id-1 div.sk-estimator {\n",
              "  font-family: monospace;\n",
              "  border: 1px dotted var(--sklearn-color-border-box);\n",
              "  border-radius: 0.25em;\n",
              "  box-sizing: border-box;\n",
              "  margin-bottom: 0.5em;\n",
              "  /* unfitted */\n",
              "  background-color: var(--sklearn-color-unfitted-level-0);\n",
              "}\n",
              "\n",
              "#sk-container-id-1 div.sk-estimator.fitted {\n",
              "  /* fitted */\n",
              "  background-color: var(--sklearn-color-fitted-level-0);\n",
              "}\n",
              "\n",
              "/* on hover */\n",
              "#sk-container-id-1 div.sk-estimator:hover {\n",
              "  /* unfitted */\n",
              "  background-color: var(--sklearn-color-unfitted-level-2);\n",
              "}\n",
              "\n",
              "#sk-container-id-1 div.sk-estimator.fitted:hover {\n",
              "  /* fitted */\n",
              "  background-color: var(--sklearn-color-fitted-level-2);\n",
              "}\n",
              "\n",
              "/* Specification for estimator info (e.g. \"i\" and \"?\") */\n",
              "\n",
              "/* Common style for \"i\" and \"?\" */\n",
              "\n",
              ".sk-estimator-doc-link,\n",
              "a:link.sk-estimator-doc-link,\n",
              "a:visited.sk-estimator-doc-link {\n",
              "  float: right;\n",
              "  font-size: smaller;\n",
              "  line-height: 1em;\n",
              "  font-family: monospace;\n",
              "  background-color: var(--sklearn-color-background);\n",
              "  border-radius: 1em;\n",
              "  height: 1em;\n",
              "  width: 1em;\n",
              "  text-decoration: none !important;\n",
              "  margin-left: 0.5em;\n",
              "  text-align: center;\n",
              "  /* unfitted */\n",
              "  border: var(--sklearn-color-unfitted-level-1) 1pt solid;\n",
              "  color: var(--sklearn-color-unfitted-level-1);\n",
              "}\n",
              "\n",
              ".sk-estimator-doc-link.fitted,\n",
              "a:link.sk-estimator-doc-link.fitted,\n",
              "a:visited.sk-estimator-doc-link.fitted {\n",
              "  /* fitted */\n",
              "  border: var(--sklearn-color-fitted-level-1) 1pt solid;\n",
              "  color: var(--sklearn-color-fitted-level-1);\n",
              "}\n",
              "\n",
              "/* On hover */\n",
              "div.sk-estimator:hover .sk-estimator-doc-link:hover,\n",
              ".sk-estimator-doc-link:hover,\n",
              "div.sk-label-container:hover .sk-estimator-doc-link:hover,\n",
              ".sk-estimator-doc-link:hover {\n",
              "  /* unfitted */\n",
              "  background-color: var(--sklearn-color-unfitted-level-3);\n",
              "  color: var(--sklearn-color-background);\n",
              "  text-decoration: none;\n",
              "}\n",
              "\n",
              "div.sk-estimator.fitted:hover .sk-estimator-doc-link.fitted:hover,\n",
              ".sk-estimator-doc-link.fitted:hover,\n",
              "div.sk-label-container:hover .sk-estimator-doc-link.fitted:hover,\n",
              ".sk-estimator-doc-link.fitted:hover {\n",
              "  /* fitted */\n",
              "  background-color: var(--sklearn-color-fitted-level-3);\n",
              "  color: var(--sklearn-color-background);\n",
              "  text-decoration: none;\n",
              "}\n",
              "\n",
              "/* Span, style for the box shown on hovering the info icon */\n",
              ".sk-estimator-doc-link span {\n",
              "  display: none;\n",
              "  z-index: 9999;\n",
              "  position: relative;\n",
              "  font-weight: normal;\n",
              "  right: .2ex;\n",
              "  padding: .5ex;\n",
              "  margin: .5ex;\n",
              "  width: min-content;\n",
              "  min-width: 20ex;\n",
              "  max-width: 50ex;\n",
              "  color: var(--sklearn-color-text);\n",
              "  box-shadow: 2pt 2pt 4pt #999;\n",
              "  /* unfitted */\n",
              "  background: var(--sklearn-color-unfitted-level-0);\n",
              "  border: .5pt solid var(--sklearn-color-unfitted-level-3);\n",
              "}\n",
              "\n",
              ".sk-estimator-doc-link.fitted span {\n",
              "  /* fitted */\n",
              "  background: var(--sklearn-color-fitted-level-0);\n",
              "  border: var(--sklearn-color-fitted-level-3);\n",
              "}\n",
              "\n",
              ".sk-estimator-doc-link:hover span {\n",
              "  display: block;\n",
              "}\n",
              "\n",
              "/* \"?\"-specific style due to the `<a>` HTML tag */\n",
              "\n",
              "#sk-container-id-1 a.estimator_doc_link {\n",
              "  float: right;\n",
              "  font-size: 1rem;\n",
              "  line-height: 1em;\n",
              "  font-family: monospace;\n",
              "  background-color: var(--sklearn-color-background);\n",
              "  border-radius: 1rem;\n",
              "  height: 1rem;\n",
              "  width: 1rem;\n",
              "  text-decoration: none;\n",
              "  /* unfitted */\n",
              "  color: var(--sklearn-color-unfitted-level-1);\n",
              "  border: var(--sklearn-color-unfitted-level-1) 1pt solid;\n",
              "}\n",
              "\n",
              "#sk-container-id-1 a.estimator_doc_link.fitted {\n",
              "  /* fitted */\n",
              "  border: var(--sklearn-color-fitted-level-1) 1pt solid;\n",
              "  color: var(--sklearn-color-fitted-level-1);\n",
              "}\n",
              "\n",
              "/* On hover */\n",
              "#sk-container-id-1 a.estimator_doc_link:hover {\n",
              "  /* unfitted */\n",
              "  background-color: var(--sklearn-color-unfitted-level-3);\n",
              "  color: var(--sklearn-color-background);\n",
              "  text-decoration: none;\n",
              "}\n",
              "\n",
              "#sk-container-id-1 a.estimator_doc_link.fitted:hover {\n",
              "  /* fitted */\n",
              "  background-color: var(--sklearn-color-fitted-level-3);\n",
              "}\n",
              "</style><div id=\"sk-container-id-1\" class=\"sk-top-container\"><div class=\"sk-text-repr-fallback\"><pre>GridSearchCV(cv=10, estimator=SVC(C=0.1, gamma=1, kernel=&#x27;linear&#x27;),\n",
              "             param_grid={&#x27;C&#x27;: [0.1, 1, 10, 100],\n",
              "                         &#x27;gamma&#x27;: [&#x27;auto&#x27;, &#x27;scale&#x27;, 0.1, 0.01],\n",
              "                         &#x27;kernel&#x27;: [&#x27;linear&#x27;, &#x27;rbf&#x27;, &#x27;poly&#x27;]},\n",
              "             scoring=&#x27;accuracy&#x27;)</pre><b>In a Jupyter environment, please rerun this cell to show the HTML representation or trust the notebook. <br />On GitHub, the HTML representation is unable to render, please try loading this page with nbviewer.org.</b></div><div class=\"sk-container\" hidden><div class=\"sk-item sk-dashed-wrapped\"><div class=\"sk-label-container\"><div class=\"sk-label fitted sk-toggleable\"><input class=\"sk-toggleable__control sk-hidden--visually\" id=\"sk-estimator-id-1\" type=\"checkbox\" ><label for=\"sk-estimator-id-1\" class=\"sk-toggleable__label fitted sk-toggleable__label-arrow\"><div><div>GridSearchCV</div></div><div><a class=\"sk-estimator-doc-link fitted\" rel=\"noreferrer\" target=\"_blank\" href=\"https://scikit-learn.org/1.6/modules/generated/sklearn.model_selection.GridSearchCV.html\">?<span>Documentation for GridSearchCV</span></a><span class=\"sk-estimator-doc-link fitted\">i<span>Fitted</span></span></div></label><div class=\"sk-toggleable__content fitted\"><pre>GridSearchCV(cv=10, estimator=SVC(C=0.1, gamma=1, kernel=&#x27;linear&#x27;),\n",
              "             param_grid={&#x27;C&#x27;: [0.1, 1, 10, 100],\n",
              "                         &#x27;gamma&#x27;: [&#x27;auto&#x27;, &#x27;scale&#x27;, 0.1, 0.01],\n",
              "                         &#x27;kernel&#x27;: [&#x27;linear&#x27;, &#x27;rbf&#x27;, &#x27;poly&#x27;]},\n",
              "             scoring=&#x27;accuracy&#x27;)</pre></div> </div></div><div class=\"sk-parallel\"><div class=\"sk-parallel-item\"><div class=\"sk-item\"><div class=\"sk-label-container\"><div class=\"sk-label fitted sk-toggleable\"><input class=\"sk-toggleable__control sk-hidden--visually\" id=\"sk-estimator-id-2\" type=\"checkbox\" ><label for=\"sk-estimator-id-2\" class=\"sk-toggleable__label fitted sk-toggleable__label-arrow\"><div><div>best_estimator_: SVC</div></div></label><div class=\"sk-toggleable__content fitted\"><pre>SVC(C=10, gamma=0.01)</pre></div> </div></div><div class=\"sk-serial\"><div class=\"sk-item\"><div class=\"sk-estimator fitted sk-toggleable\"><input class=\"sk-toggleable__control sk-hidden--visually\" id=\"sk-estimator-id-3\" type=\"checkbox\" ><label for=\"sk-estimator-id-3\" class=\"sk-toggleable__label fitted sk-toggleable__label-arrow\"><div><div>SVC</div></div><div><a class=\"sk-estimator-doc-link fitted\" rel=\"noreferrer\" target=\"_blank\" href=\"https://scikit-learn.org/1.6/modules/generated/sklearn.svm.SVC.html\">?<span>Documentation for SVC</span></a></div></label><div class=\"sk-toggleable__content fitted\"><pre>SVC(C=10, gamma=0.01)</pre></div> </div></div></div></div></div></div></div></div></div>"
            ]
          },
          "metadata": {},
          "execution_count": 62
        }
      ]
    },
    {
      "cell_type": "code",
      "source": [
        "best_params = grid_search.best_params_\n",
        "best_model = grid_search.best_estimator_\n",
        "\n",
        "print(f\"Best Hyperparameters: {best_params}\")\n",
        "print(f\"Best Model: {best_model}\")\n"
      ],
      "metadata": {
        "id": "g1Sfjob7uZHX",
        "colab": {
          "base_uri": "https://localhost:8080/"
        },
        "outputId": "f07807c8-460d-4201-a5d1-3fe93427636b"
      },
      "execution_count": null,
      "outputs": [
        {
          "output_type": "stream",
          "name": "stdout",
          "text": [
            "Best Hyperparameters: {'C': 10, 'gamma': 0.01, 'kernel': 'rbf'}\n",
            "Best Model: SVC(C=10, gamma=0.01)\n"
          ]
        }
      ]
    },
    {
      "cell_type": "code",
      "source": [
        "\n",
        "svc_best_model = SVC(C=best_params['C'], kernel=best_params['kernel'], gamma=best_params['gamma'])\n",
        "\n",
        "svc_best_model.fit(X_train, y_train)\n",
        "\n",
        "y_train_pred_bestmodel = svc_best_model.predict(X_train)\n",
        "y_test_pred_bestmodel = svc_best_model.predict(X_test)"
      ],
      "metadata": {
        "id": "YDwA5yCD3bll"
      },
      "execution_count": null,
      "outputs": []
    },
    {
      "cell_type": "code",
      "source": [
        "print(f\"Performance on Train Data on SVM model using Gridsearch:\")\n",
        "print(classification_report(y_train, y_train_pred_bestmodel))\n",
        "print(f\"Performance on Test Data on SVM model using Gridsearch:\")\n",
        "print(classification_report(y_test, y_test_pred_bestmodel))"
      ],
      "metadata": {
        "id": "O2MMGty7kMcw",
        "colab": {
          "base_uri": "https://localhost:8080/"
        },
        "outputId": "33b52ab9-332e-4f08-ee44-33b0c66a9da8"
      },
      "execution_count": null,
      "outputs": [
        {
          "output_type": "stream",
          "name": "stdout",
          "text": [
            "Performance on Train Data on SVM model using Gridsearch:\n",
            "              precision    recall  f1-score   support\n",
            "\n",
            "          -1       1.00      1.00      1.00      1163\n",
            "           1       1.00      1.00      1.00      1177\n",
            "\n",
            "    accuracy                           1.00      2340\n",
            "   macro avg       1.00      1.00      1.00      2340\n",
            "weighted avg       1.00      1.00      1.00      2340\n",
            "\n",
            "Performance on Test Data on SVM model using Gridsearch:\n",
            "              precision    recall  f1-score   support\n",
            "\n",
            "          -1       1.00      1.00      1.00       300\n",
            "           1       1.00      1.00      1.00       286\n",
            "\n",
            "    accuracy                           1.00       586\n",
            "   macro avg       1.00      1.00      1.00       586\n",
            "weighted avg       1.00      1.00      1.00       586\n",
            "\n"
          ]
        }
      ]
    },
    {
      "cell_type": "markdown",
      "source": [
        "# **Pricipal Component Analysis and SVM**"
      ],
      "metadata": {
        "id": "nYKucbLMz0xV"
      }
    },
    {
      "cell_type": "code",
      "source": [
        "#we can try to balance the class imbalance using randeomoversampler technique\n",
        "from imblearn.over_sampling import RandomOverSampler\n",
        "\n",
        "ros = RandomOverSampler()\n",
        "\n",
        "X_ros, y_ros = ros.fit_resample(X, y)"
      ],
      "metadata": {
        "id": "GmgBmfhObbQq"
      },
      "execution_count": null,
      "outputs": []
    },
    {
      "cell_type": "code",
      "source": [
        "scaler = StandardScaler()\n",
        "\n",
        "# Standardize the features\n",
        "scaler = StandardScaler()\n",
        "X_scaled1 = scaler.fit_transform(X_ros)\n",
        "\n",
        "# Split the standardized data\n",
        "X_train1, X_test1, y_train1, y_test1 = train_test_split(X_ros, y_ros, test_size=0.2, random_state=1)\n",
        "\n",
        "print(X_train1.shape)\n",
        "print(X_test1.shape)\n",
        "print(y_train1.shape)\n",
        "print(y_test1.shape)"
      ],
      "metadata": {
        "colab": {
          "base_uri": "https://localhost:8080/"
        },
        "id": "qy7aPSrocnAp",
        "outputId": "7d562fcf-c668-450b-bbd9-6fe5006a07e5"
      },
      "execution_count": null,
      "outputs": [
        {
          "output_type": "stream",
          "name": "stdout",
          "text": [
            "(2340, 247)\n",
            "(586, 247)\n",
            "(2340,)\n",
            "(586,)\n"
          ]
        }
      ]
    },
    {
      "cell_type": "code",
      "source": [
        "from sklearn.decomposition import PCA\n",
        "n = 100\n",
        "pca = PCA(n_components= n)\n",
        "X_train_pca = pca.fit_transform(X_train1)\n",
        "X_test_pca = pca.transform(X_test1)"
      ],
      "metadata": {
        "id": "-02aKJdNyWD8"
      },
      "execution_count": null,
      "outputs": []
    },
    {
      "cell_type": "code",
      "source": [
        "plt.step(list(range(0,n)),np.cumsum(pca.explained_variance_ratio_), where='mid')\n",
        "plt.ylabel('Cum of variation explained')\n",
        "plt.xlabel('# of PCA Components')\n",
        "\n",
        "# Add a horizontal line at 90% explained variance threshold\n",
        "threshold = 0.90\n",
        "\n",
        "#plot the horizontal line to highlight the threshold\n",
        "plt.axhline(y = threshold, color='red', linestyle='--', label=f'{threshold*100:.0f}% Explained Variance Threshold')\n",
        "\n",
        "# Add legend for clarity\n",
        "plt.legend()\n",
        "\n",
        "plt.grid(True)\n",
        "plt.show()"
      ],
      "metadata": {
        "colab": {
          "base_uri": "https://localhost:8080/",
          "height": 449
        },
        "id": "M7eeK6XtyPO6",
        "outputId": "69098cb8-1a32-47ac-93a4-892a36408d2a"
      },
      "execution_count": null,
      "outputs": [
        {
          "output_type": "display_data",
          "data": {
            "text/plain": [
              "<Figure size 640x480 with 1 Axes>"
            ],
            "image/png": "[encoded data removed]"
          },
          "metadata": {}
        }
      ]
    },
    {
      "cell_type": "code",
      "source": [
        "pca1 = PCA(n_components=20)\n",
        "X_train_pca = pca.fit_transform(X_train1)\n",
        "X_test_pca = pca.transform(X_test1)"
      ],
      "metadata": {
        "id": "V5bjklj90zhK"
      },
      "execution_count": null,
      "outputs": []
    },
    {
      "cell_type": "code",
      "source": [
        "Xpca1_train = pca1.fit_transform(X_train1)\n",
        "Xpca1_test = pca1.transform(X_test1)"
      ],
      "metadata": {
        "id": "P1KRoA4r1DO_"
      },
      "execution_count": null,
      "outputs": []
    },
    {
      "cell_type": "code",
      "source": [
        "# Building a Support Vector Machine on train data\n",
        "svc_model_pca = SVC(C=best_params['C'], kernel=best_params['kernel'], gamma=best_params['gamma'])\n",
        "#svc_model_pca.fit(X_train_scaled, y_train)\n",
        "\n",
        "svc_model_pca.fit(Xpca1_train,y_train1)\n",
        "svc_model_pca.fit(Xpca1_test,y_test1)\n",
        "\n",
        "prediction_train_pca = svc_model_pca.predict(Xpca1_train)\n",
        "prediction_test_pca = svc_model_pca.predict(Xpca1_test)"
      ],
      "metadata": {
        "id": "de0lTon91Nas"
      },
      "execution_count": null,
      "outputs": []
    },
    {
      "cell_type": "code",
      "source": [
        "print(\"Classification Report on Train Data using SVM Model after PCA \")\n",
        "print(classification_report(y_train1, prediction_train_pca))\n",
        "print(\"Classification Report on Test Data using SVM Model after PCA \")\n",
        "print(classification_report(y_test1, prediction_test_pca))"
      ],
      "metadata": {
        "id": "JVTxtaXXCdIj",
        "outputId": "d28f9350-7e23-49be-e184-f9a13e8a15da",
        "colab": {
          "base_uri": "https://localhost:8080/"
        }
      },
      "execution_count": null,
      "outputs": [
        {
          "output_type": "stream",
          "name": "stdout",
          "text": [
            "Classification Report on Train Data using SVM Model after PCA \n",
            "              precision    recall  f1-score   support\n",
            "\n",
            "          -1       0.91      1.00      0.95      1163\n",
            "           1       1.00      0.91      0.95      1177\n",
            "\n",
            "    accuracy                           0.95      2340\n",
            "   macro avg       0.96      0.95      0.95      2340\n",
            "weighted avg       0.96      0.95      0.95      2340\n",
            "\n",
            "Classification Report on Test Data using SVM Model after PCA \n",
            "              precision    recall  f1-score   support\n",
            "\n",
            "          -1       1.00      1.00      1.00       300\n",
            "           1       1.00      1.00      1.00       286\n",
            "\n",
            "    accuracy                           1.00       586\n",
            "   macro avg       1.00      1.00      1.00       586\n",
            "weighted avg       1.00      1.00      1.00       586\n",
            "\n"
          ]
        }
      ]
    },
    {
      "cell_type": "markdown",
      "source": [
        "**Classification report**"
      ],
      "metadata": {
        "id": "ToWSrClueI3h"
      }
    },
    {
      "cell_type": "code",
      "source": [
        "print(f\"Performance on Train Data on Support Vector Machine using SMOTE technique\")\n",
        "print(classification_report(y_train, y_predict_train))\n",
        "print(\"\")\n",
        "print(f\"Performance on Train Data on SVM model using GridsearchCV:\")\n",
        "print(classification_report(y_train, y_train_pred_bestmodel))\n",
        "print(\"\")\n",
        "print(\"Classification Report on Train Data using SVM Model after PCA \")\n",
        "print(classification_report(y_train1, prediction_train_pca))\n",
        "print(\"Classification Report on Test Data using SVM Model after PCA \")\n",
        "print(classification_report(y_test1, prediction_test_pca))"
      ],
      "metadata": {
        "colab": {
          "base_uri": "https://localhost:8080/"
        },
        "id": "m1S4j5LBffx7",
        "outputId": "ec0645fc-793b-4e37-dc77-1c61e8f10820"
      },
      "execution_count": null,
      "outputs": [
        {
          "output_type": "stream",
          "name": "stdout",
          "text": [
            "Performance on Train Data on Support Vector Machine using SMOTE technique\n",
            "              precision    recall  f1-score   support\n",
            "\n",
            "          -1       1.00      0.93      0.96      1163\n",
            "           1       0.93      1.00      0.96      1177\n",
            "\n",
            "    accuracy                           0.96      2340\n",
            "   macro avg       0.96      0.96      0.96      2340\n",
            "weighted avg       0.96      0.96      0.96      2340\n",
            "\n",
            "\n",
            "Performance on Train Data on SVM model using GridsearchCV:\n",
            "              precision    recall  f1-score   support\n",
            "\n",
            "          -1       1.00      1.00      1.00      1163\n",
            "           1       1.00      1.00      1.00      1177\n",
            "\n",
            "    accuracy                           1.00      2340\n",
            "   macro avg       1.00      1.00      1.00      2340\n",
            "weighted avg       1.00      1.00      1.00      2340\n",
            "\n",
            "\n",
            "Classification Report on Train Data using SVM Model after PCA \n",
            "              precision    recall  f1-score   support\n",
            "\n",
            "          -1       0.91      1.00      0.95      1163\n",
            "           1       1.00      0.91      0.95      1177\n",
            "\n",
            "    accuracy                           0.95      2340\n",
            "   macro avg       0.96      0.95      0.95      2340\n",
            "weighted avg       0.96      0.95      0.95      2340\n",
            "\n",
            "Classification Report on Test Data using SVM Model after PCA \n",
            "              precision    recall  f1-score   support\n",
            "\n",
            "          -1       1.00      1.00      1.00       300\n",
            "           1       1.00      1.00      1.00       286\n",
            "\n",
            "    accuracy                           1.00       586\n",
            "   macro avg       1.00      1.00      1.00       586\n",
            "weighted avg       1.00      1.00      1.00       586\n",
            "\n"
          ]
        }
      ]
    },
    {
      "cell_type": "markdown",
      "source": [
        "\n",
        "*   **SVM with SMOTE** - The performance metrics (precision, recall, F1-score) are all very high for both classes (-1 and 1), indicating good classification accuracy. The overall accuracy is also 0.96, suggesting the model performs well on the training data.\n",
        "\n",
        "*   **SVM after Hyperparamter Tuning** - The performance metrics are all perfect (1.00) for both classes, and the overall accuracy is 1.00. This might seem ideal, but it's important to be cautious of such high accuracy on the training data.\n",
        "\n",
        "*   **SVM Model after PCA** - The performance metrics here are also very high for both classes (precision, recall, F1-score all around 0.98) with an overall accuracy of 0.98.\n",
        "*   The SVM with GridSearchCV achieving perfect accuracy (1.00) might be a case of overfitting\n",
        "*   These results suggest that the SVM model with PCA and random oversampling performs very well on both the training and test data. This is a promising outcome, indicating that the model has learned the underlying patterns effectively"
      ],
      "metadata": {
        "id": "E79NvGm_L7YX"
      }
    },
    {
      "cell_type": "markdown",
      "source": [
        "# **Pipeline for Support Vector Machine Model with PCA and Standard scalar**"
      ],
      "metadata": {
        "id": "Ee0vyQ801FrZ"
      }
    },
    {
      "cell_type": "code",
      "source": [
        "from sklearn.pipeline import Pipeline\n",
        "from sklearn.pipeline import make_pipeline"
      ],
      "metadata": {
        "id": "oBRutdwMaSpn"
      },
      "execution_count": null,
      "outputs": []
    },
    {
      "cell_type": "code",
      "source": [
        "#Build a pipeline for Support Vector Machine Model with PCA and Standard scalar\n",
        "pipe_svc = Pipeline([('scl', StandardScaler()), ('pca', PCA()), ('svc', SVC())])\n",
        "\n",
        "\n",
        "param_grid_svc = {'pca__n_components':[20,25],'svc__C': [0.001, 0.01, 0.1, 1, 10, 100], 'svc__gamma': [0.001, 0.01, 0.1, 1, 10], 'svc__kernel':['rbf','poly']}\n",
        "\n",
        "grid_svc = GridSearchCV( pipe_svc , param_grid = param_grid_svc, cv = 10)\n",
        "\n",
        "grid_svc.fit( X_train, y_train)\n",
        "\n",
        "train_predict_svm_svc = grid_svc.predict(X_train)\n",
        "test_predict_svm_svc = grid_svc.predict(X_test)\n",
        "\n",
        "print(\" Best cross-validation accuracy: {:.2f}\". format( grid_svc.best_score_))\n",
        "print(\" Best parameters: \", grid_svc.best_params_)\n",
        "\n",
        "print(\" Train set accuracy for SVM: {:.2f}\". format( grid_svc.score( X_train, y_train)))\n",
        "print(\" Test set accuracy for SVM: {:.2f}\". format( grid_svc.score( X_test, y_test)))\n"
      ],
      "metadata": {
        "id": "uZ-BX__PaNaK",
        "colab": {
          "base_uri": "https://localhost:8080/"
        },
        "outputId": "02680860-4370-44d6-c44d-5b5891c28db9"
      },
      "execution_count": null,
      "outputs": [
        {
          "output_type": "stream",
          "name": "stdout",
          "text": [
            " Best cross-validation accuracy: 0.97\n",
            " Best parameters:  {'pca__n_components': 20, 'svc__C': 10, 'svc__gamma': 0.1, 'svc__kernel': 'rbf'}\n",
            " Train set accuracy for SVM: 1.00\n",
            " Test set accuracy for SVM: 0.96\n"
          ]
        }
      ]
    },
    {
      "cell_type": "code",
      "source": [
        "print(\"Classification Report on Train Data using SVM Model:\")\n",
        "print(classification_report(y_train, train_predict_svm_svc))\n",
        "print(\"Classification Report on Test Data using SVM Model:\")\n",
        "print(classification_report(y_test, test_predict_svm_svc))"
      ],
      "metadata": {
        "colab": {
          "base_uri": "https://localhost:8080/"
        },
        "id": "novlDNOoUB7m",
        "outputId": "986f8f2a-36cd-49e1-b509-d89237c432ac"
      },
      "execution_count": null,
      "outputs": [
        {
          "output_type": "stream",
          "name": "stdout",
          "text": [
            "Classification Report on Train Data using SVM Model:\n",
            "              precision    recall  f1-score   support\n",
            "\n",
            "          -1       1.00      1.00      1.00      1163\n",
            "           1       1.00      1.00      1.00      1177\n",
            "\n",
            "    accuracy                           1.00      2340\n",
            "   macro avg       1.00      1.00      1.00      2340\n",
            "weighted avg       1.00      1.00      1.00      2340\n",
            "\n",
            "Classification Report on Test Data using SVM Model:\n",
            "              precision    recall  f1-score   support\n",
            "\n",
            "          -1       0.94      0.99      0.97       300\n",
            "           1       0.99      0.94      0.96       286\n",
            "\n",
            "    accuracy                           0.96       586\n",
            "   macro avg       0.97      0.96      0.96       586\n",
            "weighted avg       0.97      0.96      0.96       586\n",
            "\n"
          ]
        }
      ]
    },
    {
      "cell_type": "markdown",
      "source": [
        "# **Pipeline for Logistic Regression Model with PCA and Standard scalar**"
      ],
      "metadata": {
        "id": "jtMsYxxb1XHP"
      }
    },
    {
      "cell_type": "code",
      "source": [
        "#Build a pipeline for Logistic Regression Model with PCA and Standard scalar\n",
        "from sklearn.linear_model import LogisticRegression\n",
        "\n",
        "pipe_lr = Pipeline(steps=[('scl', StandardScaler()), ('pca', PCA()), ('LogisticRegression', LogisticRegression())])\n",
        "param_grid_lr = {\n",
        "    'pca__n_components': [20,25],  # Range of PCA components to try\n",
        "    'LogisticRegression__C': [0.001, 0.01, 0.1, 1, 10, 100]  # Range of regularization strength for LogisticRegression\n",
        "}\n",
        "\n",
        "# Create GridSearchCV object\n",
        "grid_search_lr = GridSearchCV(pipe_lr, param_grid = param_grid_lr, cv=10)\n",
        "\n",
        "grid_search_lr.fit( X_train, y_train)\n",
        "\n",
        "train_predict_svm_lr = grid_search_lr.predict(X_train)\n",
        "test_predict_svm_lr = grid_search_lr.predict(X_test)\n",
        "\n",
        "print(\" Best cross-validation accuracy: {:.2f}\". format( grid_search_lr.best_score_))\n",
        "print(\" Best parameters: \", grid_search_lr.best_params_)\n",
        "\n",
        "print(\" Train set accuracy for Logistic Regression: {:.2f}\". format( grid_search_lr.score( X_train, y_train)))\n",
        "print(\" Test set accuracy for Logistic Regression: {:.2f}\". format( grid_search_lr.score( X_test, y_test)))\n"
      ],
      "metadata": {
        "id": "8pojTc8LK70r",
        "colab": {
          "base_uri": "https://localhost:8080/"
        },
        "outputId": "4f29543c-4b7d-4c19-de64-1e92ec4334cc"
      },
      "execution_count": null,
      "outputs": [
        {
          "output_type": "stream",
          "name": "stdout",
          "text": [
            " Best cross-validation accuracy: 0.72\n",
            " Best parameters:  {'LogisticRegression__C': 10, 'pca__n_components': 25}\n",
            " Train set accuracy for Logistic Regression: 0.71\n",
            " Test set accuracy for Logistic Regression: 0.71\n"
          ]
        }
      ]
    },
    {
      "cell_type": "code",
      "source": [
        "print(\"Classification Report on Train Data using Logistic Regression Model:\")\n",
        "print(classification_report(y_train, train_predict_svm_lr))\n",
        "print(\"Classification Report on Test Data using Logistic Regression Model:\")\n",
        "print(classification_report(y_test, test_predict_svm_lr))"
      ],
      "metadata": {
        "colab": {
          "base_uri": "https://localhost:8080/"
        },
        "id": "TLkq8WmzTI7i",
        "outputId": "73c06eb6-639f-414a-d603-f4c62210a12e"
      },
      "execution_count": null,
      "outputs": [
        {
          "output_type": "stream",
          "name": "stdout",
          "text": [
            "Classification Report on Train Data using Logistic Regression Model:\n",
            "              precision    recall  f1-score   support\n",
            "\n",
            "          -1       0.71      0.72      0.71      1163\n",
            "           1       0.72      0.71      0.71      1177\n",
            "\n",
            "    accuracy                           0.71      2340\n",
            "   macro avg       0.71      0.71      0.71      2340\n",
            "weighted avg       0.71      0.71      0.71      2340\n",
            "\n",
            "Classification Report on Test Data using Logistic Regression Model:\n",
            "              precision    recall  f1-score   support\n",
            "\n",
            "          -1       0.71      0.73      0.72       300\n",
            "           1       0.71      0.69      0.70       286\n",
            "\n",
            "    accuracy                           0.71       586\n",
            "   macro avg       0.71      0.71      0.71       586\n",
            "weighted avg       0.71      0.71      0.71       586\n",
            "\n"
          ]
        }
      ]
    },
    {
      "cell_type": "markdown",
      "source": [
        "# **Pipeline for KNN with PCA and Standard scalar**"
      ],
      "metadata": {
        "id": "q3nb57Pp1cPK"
      }
    },
    {
      "cell_type": "code",
      "source": [
        "#Build a pipeline for KNN with PCA and Standard scalar\n",
        "from sklearn.neighbors import KNeighborsClassifier\n",
        "\n",
        "\n",
        "# Define the pipeline (no string in step name)\n",
        "pipe_knn = Pipeline(steps=[('scl', StandardScaler()), ('pca', PCA()), ('knn', KNeighborsClassifier())])\n",
        "\n",
        "# Define the parameter grid for hyperparameter tuning\n",
        "param_grid_knn = {\n",
        "    'pca__n_components': [20, 25],  # Range of PCA components to try\n",
        "    'knn__n_neighbors': [3, 5, 7, 9],  # Range of neighbors for KNN\n",
        "    'knn__p': [1, 2]  # Choose between Manhattan (p=1) or Euclidean (p=2) distance\n",
        "}\n",
        "\n",
        "# Create GridSearchCV object\n",
        "grid_search_knn = GridSearchCV(pipe_knn, param_grid=param_grid_knn, cv=10)\n",
        "\n",
        "# Fit the model with grid search\n",
        "grid_search_knn.fit(X_train, y_train)\n",
        "\n",
        "train_predict_knn = grid_search_knn.predict(X_train)\n",
        "test_predict_knn = grid_search_knn.predict(X_test)\n",
        "\n",
        "# Evaluate model performance (e.g., mean squared error (MSE), R-squared)\n",
        "print(\" Best cross-validation accuracy: {:.2f}\". format( grid_search_knn.best_score_))\n",
        "print(\" Best parameters: \", grid_search_knn.best_params_)\n",
        "print(\" Train set accuracy for KNeighborsClassifier: {:.2f}\". format( grid_search_knn.score( X_train, y_train)))\n",
        "print(\" Test set accuracy for KNeighborsClassifier: {:.2f}\". format( grid_search_knn.score( X_test, y_test)))"
      ],
      "metadata": {
        "id": "GJLu7QCXSdAj",
        "colab": {
          "base_uri": "https://localhost:8080/"
        },
        "outputId": "1bcdf1e2-e5c8-464e-98c0-2ae91916dc97"
      },
      "execution_count": null,
      "outputs": [
        {
          "output_type": "stream",
          "name": "stdout",
          "text": [
            " Best cross-validation accuracy: 0.91\n",
            " Best parameters:  {'knn__n_neighbors': 3, 'knn__p': 2, 'pca__n_components': 25}\n",
            " Train set accuracy for KNeighborsClassifier: 0.96\n",
            " Test set accuracy for KNeighborsClassifier: 0.90\n"
          ]
        }
      ]
    },
    {
      "cell_type": "code",
      "source": [
        "print(\"Classification Report on Train Data using KNeighborsClassifier Model:\")\n",
        "print(classification_report(y_train, train_predict_knn))\n",
        "print(\"Classification Report on Test Data using KNeighborsClassifier Model:\")\n",
        "print(classification_report(y_test, test_predict_knn))"
      ],
      "metadata": {
        "colab": {
          "base_uri": "https://localhost:8080/"
        },
        "id": "Qq6YYl20by6B",
        "outputId": "38797d6f-8ca6-4513-b74e-09e05c0e89a1"
      },
      "execution_count": null,
      "outputs": [
        {
          "output_type": "stream",
          "name": "stdout",
          "text": [
            "Classification Report on Train Data using KNeighborsClassifier Model:\n",
            "              precision    recall  f1-score   support\n",
            "\n",
            "          -1       1.00      0.92      0.96      1163\n",
            "           1       0.93      1.00      0.96      1177\n",
            "\n",
            "    accuracy                           0.96      2340\n",
            "   macro avg       0.96      0.96      0.96      2340\n",
            "weighted avg       0.96      0.96      0.96      2340\n",
            "\n",
            "Classification Report on Test Data using KNeighborsClassifier Model:\n",
            "              precision    recall  f1-score   support\n",
            "\n",
            "          -1       1.00      0.81      0.90       300\n",
            "           1       0.84      1.00      0.91       286\n",
            "\n",
            "    accuracy                           0.90       586\n",
            "   macro avg       0.92      0.91      0.90       586\n",
            "weighted avg       0.92      0.90      0.90       586\n",
            "\n"
          ]
        }
      ]
    },
    {
      "cell_type": "markdown",
      "source": [
        "# **Pipeline for Randomforest Classifier with StandardScaler and PCA**"
      ],
      "metadata": {
        "id": "1XiXgK8L1oOc"
      }
    },
    {
      "cell_type": "code",
      "source": [
        "from sklearn.ensemble import RandomForestClassifier\n",
        "# Define the pipeline\n",
        "\n",
        "\n",
        "pipe_rf = Pipeline(steps=[('scl', StandardScaler()), ('pca', PCA()), ('rfc', RandomForestClassifier())])\n",
        "\n",
        "# Define the parameter grid for hyperparameter tuning (without bootstrap)\n",
        "param_grid_rf = {\n",
        "    'pca__n_components': [10, 20, 30],  # Range of PCA components to try\n",
        "    'rfc__n_estimators': [100, 200, 300],  # Number of trees in the forest\n",
        "    'rfc__max_depth': [4, 6, 8]  # Maximum depth of each tree\n",
        "}\n",
        "\n",
        "# Create GridSearchCV object\n",
        "grid_search_rf = GridSearchCV(pipe_rf, param_grid=param_grid_rf, cv=10)\n",
        "\n",
        "# Fit the model with grid search\n",
        "grid_search_rf.fit(X_train, y_train)\n",
        "\n",
        "train_predict_rf = grid_search_rf.predict(X_train)\n",
        "test_predict_rf = grid_search_rf.predict(X_test)"
      ],
      "metadata": {
        "id": "hGb9wVO_X8hA"
      },
      "execution_count": null,
      "outputs": []
    },
    {
      "cell_type": "code",
      "source": [
        "# Evaluate model performance\n",
        "print(\" Best cross-validation accuracy: {:.2f}\". format( grid_search_rf.best_score_))\n",
        "print(\" Best parameters: \", grid_search_rf.best_params_)\n",
        "print(\" Train set accuracy for RandomForestClassifier: {:.2f}\". format( grid_search_rf.score( X_train, y_train)))\n",
        "print(\" Test set accuracy for RandomForestClassifier: {:.2f}\". format( grid_search_rf.score( X_test, y_test)))"
      ],
      "metadata": {
        "id": "2hlvzqa4bWdA",
        "colab": {
          "base_uri": "https://localhost:8080/"
        },
        "outputId": "5ce385cd-eb75-48f4-b11b-3ff53d41fac0"
      },
      "execution_count": null,
      "outputs": [
        {
          "output_type": "stream",
          "name": "stdout",
          "text": [
            " Best cross-validation accuracy: 0.91\n",
            " Best parameters:  {'pca__n_components': 30, 'rfc__max_depth': 8, 'rfc__n_estimators': 300}\n",
            " Train set accuracy for RandomForestClassifier: 0.98\n",
            " Test set accuracy for RandomForestClassifier: 0.91\n"
          ]
        }
      ]
    },
    {
      "cell_type": "code",
      "source": [
        "print(\"Classification Report on Train Data using RandomForestClassifier Model:\")\n",
        "print(classification_report(y_train, train_predict_rf))\n",
        "print(\"Classification Report on Test Data using RandomForestClassifier Model:\")\n",
        "print(classification_report(y_test, test_predict_rf))"
      ],
      "metadata": {
        "colab": {
          "base_uri": "https://localhost:8080/"
        },
        "id": "lV-S9igtcuWF",
        "outputId": "2d7273d3-d15d-4294-f109-70b3f2b014f7"
      },
      "execution_count": null,
      "outputs": [
        {
          "output_type": "stream",
          "name": "stdout",
          "text": [
            "Classification Report on Train Data using RandomForestClassifier Model:\n",
            "              precision    recall  f1-score   support\n",
            "\n",
            "          -1       0.98      0.99      0.98      1163\n",
            "           1       0.99      0.98      0.98      1177\n",
            "\n",
            "    accuracy                           0.98      2340\n",
            "   macro avg       0.98      0.98      0.98      2340\n",
            "weighted avg       0.98      0.98      0.98      2340\n",
            "\n",
            "Classification Report on Test Data using RandomForestClassifier Model:\n",
            "              precision    recall  f1-score   support\n",
            "\n",
            "          -1       0.95      0.87      0.91       300\n",
            "           1       0.88      0.95      0.91       286\n",
            "\n",
            "    accuracy                           0.91       586\n",
            "   macro avg       0.91      0.91      0.91       586\n",
            "weighted avg       0.91      0.91      0.91       586\n",
            "\n"
          ]
        }
      ]
    },
    {
      "cell_type": "markdown",
      "source": [
        "# **Post Training and Conclusion:**"
      ],
      "metadata": {
        "id": "eC1hRFK7R9YU"
      }
    },
    {
      "cell_type": "code",
      "source": [
        "print(\"\")\n",
        "print(\"Classification Report on Train Data using SVM Model:\")\n",
        "print(classification_report(y_train, train_predict_svm_svc))\n",
        "print(\"Classification Report on Test Data using SVM Model:\")\n",
        "print(classification_report(y_test, test_predict_svm_svc))\n",
        "print(\"\")\n",
        "print(\"Classification Report on Train Data using Logistic Regression Model:\")\n",
        "print(classification_report(y_train, train_predict_svm_lr))\n",
        "print(\"Classification Report on Test Data using Logistic Regression Model:\")\n",
        "print(classification_report(y_test, test_predict_svm_lr))\n",
        "print(\"\")\n",
        "print(\"Classification Report on Train Data using KNeighborsClassifier Model:\")\n",
        "print(classification_report(y_train, train_predict_knn))\n",
        "print(\"Classification Report on Test Data using KNeighborsClassifier Model:\")\n",
        "print(classification_report(y_test, test_predict_knn))\n",
        "print(\"\")\n",
        "print(\"Classification Report on Train Data using RandomForestClassifier Model:\")\n",
        "print(classification_report(y_train, train_predict_rf))\n",
        "print(\"Classification Report on Test Data using RandomForestClassifier Model:\")\n",
        "print(classification_report(y_test, test_predict_rf))"
      ],
      "metadata": {
        "id": "EF5RvqcxR8-2",
        "colab": {
          "base_uri": "https://localhost:8080/"
        },
        "outputId": "ac4e7740-aa38-4b59-9c43-4b71e3091668"
      },
      "execution_count": null,
      "outputs": [
        {
          "output_type": "stream",
          "name": "stdout",
          "text": [
            "\n",
            "Classification Report on Train Data using SVM Model:\n",
            "              precision    recall  f1-score   support\n",
            "\n",
            "          -1       1.00      1.00      1.00      1163\n",
            "           1       1.00      1.00      1.00      1177\n",
            "\n",
            "    accuracy                           1.00      2340\n",
            "   macro avg       1.00      1.00      1.00      2340\n",
            "weighted avg       1.00      1.00      1.00      2340\n",
            "\n",
            "Classification Report on Test Data using SVM Model:\n",
            "              precision    recall  f1-score   support\n",
            "\n",
            "          -1       0.94      0.99      0.97       300\n",
            "           1       0.99      0.94      0.96       286\n",
            "\n",
            "    accuracy                           0.96       586\n",
            "   macro avg       0.97      0.96      0.96       586\n",
            "weighted avg       0.97      0.96      0.96       586\n",
            "\n",
            "\n",
            "Classification Report on Train Data using Logistic Regression Model:\n",
            "              precision    recall  f1-score   support\n",
            "\n",
            "          -1       0.71      0.72      0.71      1163\n",
            "           1       0.72      0.71      0.71      1177\n",
            "\n",
            "    accuracy                           0.71      2340\n",
            "   macro avg       0.71      0.71      0.71      2340\n",
            "weighted avg       0.71      0.71      0.71      2340\n",
            "\n",
            "Classification Report on Test Data using Logistic Regression Model:\n",
            "              precision    recall  f1-score   support\n",
            "\n",
            "          -1       0.71      0.73      0.72       300\n",
            "           1       0.71      0.69      0.70       286\n",
            "\n",
            "    accuracy                           0.71       586\n",
            "   macro avg       0.71      0.71      0.71       586\n",
            "weighted avg       0.71      0.71      0.71       586\n",
            "\n",
            "\n",
            "Classification Report on Train Data using KNeighborsClassifier Model:\n",
            "              precision    recall  f1-score   support\n",
            "\n",
            "          -1       1.00      0.92      0.96      1163\n",
            "           1       0.93      1.00      0.96      1177\n",
            "\n",
            "    accuracy                           0.96      2340\n",
            "   macro avg       0.96      0.96      0.96      2340\n",
            "weighted avg       0.96      0.96      0.96      2340\n",
            "\n",
            "Classification Report on Test Data using KNeighborsClassifier Model:\n",
            "              precision    recall  f1-score   support\n",
            "\n",
            "          -1       1.00      0.81      0.90       300\n",
            "           1       0.84      1.00      0.91       286\n",
            "\n",
            "    accuracy                           0.90       586\n",
            "   macro avg       0.92      0.91      0.90       586\n",
            "weighted avg       0.92      0.90      0.90       586\n",
            "\n",
            "\n",
            "Classification Report on Train Data using RandomForestClassifier Model:\n",
            "              precision    recall  f1-score   support\n",
            "\n",
            "          -1       0.98      0.99      0.98      1163\n",
            "           1       0.99      0.98      0.98      1177\n",
            "\n",
            "    accuracy                           0.98      2340\n",
            "   macro avg       0.98      0.98      0.98      2340\n",
            "weighted avg       0.98      0.98      0.98      2340\n",
            "\n",
            "Classification Report on Test Data using RandomForestClassifier Model:\n",
            "              precision    recall  f1-score   support\n",
            "\n",
            "          -1       0.95      0.87      0.91       300\n",
            "           1       0.88      0.95      0.91       286\n",
            "\n",
            "    accuracy                           0.91       586\n",
            "   macro avg       0.91      0.91      0.91       586\n",
            "weighted avg       0.91      0.91      0.91       586\n",
            "\n"
          ]
        }
      ]
    },
    {
      "cell_type": "code",
      "source": [
        "def evaluate_threshold(threshold):\n",
        "    print('Sensitivity:', tpr[thresholds > threshold][-1])\n",
        "    print('Specificity:', 1 - fpr[thresholds > threshold][-1])"
      ],
      "metadata": {
        "id": "BC3oPK4EDJHD"
      },
      "execution_count": null,
      "outputs": []
    },
    {
      "cell_type": "markdown",
      "source": [
        "# **ROC curve for Logistic Regression classifier**"
      ],
      "metadata": {
        "id": "PNKbAhCaDONp"
      }
    },
    {
      "cell_type": "code",
      "source": [
        "import matplotlib.pyplot as plt\n",
        "fpr, tpr, thresholds = metrics.roc_curve(y_test, test_predict_svm_lr)\n",
        "plt.plot(fpr, tpr)\n",
        "plt.xlim([0.0, 1.0])\n",
        "plt.ylim([0.0, 1.0])\n",
        "plt.title('ROC curve for Logistic Regression classifier')\n",
        "plt.xlabel('False Positive Rate (1 - Specificity)')\n",
        "plt.ylabel('True Positive Rate (Sensitivity)')\n",
        "plt.grid(True)"
      ],
      "metadata": {
        "colab": {
          "base_uri": "https://localhost:8080/",
          "height": 472
        },
        "id": "BV3gcWyi6KYV",
        "outputId": "5c7a1ee5-6313-4d4f-8338-0fa46e14dd7e"
      },
      "execution_count": null,
      "outputs": [
        {
          "output_type": "display_data",
          "data": {
            "text/plain": [
              "<Figure size 640x480 with 1 Axes>"
            ],
            "image/png": "[encoded data removed]"
          },
          "metadata": {}
        }
      ]
    },
    {
      "cell_type": "code",
      "source": [
        "evaluate_threshold(0.7)"
      ],
      "metadata": {
        "colab": {
          "base_uri": "https://localhost:8080/"
        },
        "id": "-GkwxVv46RLZ",
        "outputId": "2cc57bb8-f052-4b43-db61-671a85070e32"
      },
      "execution_count": null,
      "outputs": [
        {
          "output_type": "stream",
          "name": "stdout",
          "text": [
            "Sensitivity: 0.6853146853146853\n",
            "Specificity: 0.7266666666666667\n"
          ]
        }
      ]
    },
    {
      "cell_type": "code",
      "source": [
        "print(metrics.roc_auc_score(y_test, test_predict_svm_lr))"
      ],
      "metadata": {
        "colab": {
          "base_uri": "https://localhost:8080/"
        },
        "id": "W2s36RPZDwes",
        "outputId": "f2596c44-2611-4f8a-bd80-868d98404ac7"
      },
      "execution_count": null,
      "outputs": [
        {
          "output_type": "stream",
          "name": "stdout",
          "text": [
            "0.705990675990676\n"
          ]
        }
      ]
    },
    {
      "cell_type": "markdown",
      "source": [
        "# **ROC curve for SVC**"
      ],
      "metadata": {
        "id": "EjlLYrAQDTEo"
      }
    },
    {
      "cell_type": "code",
      "source": [
        "import matplotlib.pyplot as plt\n",
        "fpr, tpr, thresholds = metrics.roc_curve(y_test, test_predict_svm_svc)\n",
        "plt.plot(fpr, tpr)\n",
        "plt.xlim([0.0, 1.0])\n",
        "plt.ylim([0.0, 1.0])\n",
        "plt.title('ROC curve for SVC')\n",
        "plt.xlabel('False Positive Rate (1 - Specificity)')\n",
        "plt.ylabel('True Positive Rate (Sensitivity)')\n",
        "plt.grid(True)"
      ],
      "metadata": {
        "colab": {
          "base_uri": "https://localhost:8080/",
          "height": 472
        },
        "id": "Sl1lpEK93YTW",
        "outputId": "ffd54b38-5b7c-4f1f-9562-e442e716fd0b"
      },
      "execution_count": null,
      "outputs": [
        {
          "output_type": "display_data",
          "data": {
            "text/plain": [
              "<Figure size 640x480 with 1 Axes>"
            ],
            "image/png": "[encoded data removed]"
          },
          "metadata": {}
        }
      ]
    },
    {
      "cell_type": "code",
      "source": [
        "evaluate_threshold(0.90)"
      ],
      "metadata": {
        "colab": {
          "base_uri": "https://localhost:8080/"
        },
        "id": "jn-S1V0G3pIy",
        "outputId": "480a7260-40df-4e8c-c24d-6241e8fecdd7"
      },
      "execution_count": null,
      "outputs": [
        {
          "output_type": "stream",
          "name": "stdout",
          "text": [
            "Sensitivity: 0.9370629370629371\n",
            "Specificity: 0.99\n"
          ]
        }
      ]
    },
    {
      "cell_type": "code",
      "source": [
        "print(metrics.roc_auc_score(y_test, test_predict_svm_svc))"
      ],
      "metadata": {
        "colab": {
          "base_uri": "https://localhost:8080/"
        },
        "id": "d0boSiHQ3s3W",
        "outputId": "03dcf21d-b5ee-4522-f4cb-283883d2e37a"
      },
      "execution_count": null,
      "outputs": [
        {
          "output_type": "stream",
          "name": "stdout",
          "text": [
            "0.9635314685314685\n"
          ]
        }
      ]
    },
    {
      "cell_type": "markdown",
      "source": [
        "# **ROC curve for KNN**"
      ],
      "metadata": {
        "id": "dG-1I9bVDb-a"
      }
    },
    {
      "cell_type": "code",
      "source": [
        "import matplotlib.pyplot as plt\n",
        "fpr, tpr, thresholds = metrics.roc_curve(y_test, test_predict_knn)\n",
        "plt.plot(fpr, tpr)\n",
        "plt.xlim([0.0, 1.0])\n",
        "plt.ylim([0.0, 1.0])\n",
        "plt.title('ROC curve for KNN')\n",
        "plt.xlabel('False Positive Rate (1 - Specificity)')\n",
        "plt.ylabel('True Positive Rate (Sensitivity)')\n",
        "plt.grid(True)"
      ],
      "metadata": {
        "colab": {
          "base_uri": "https://localhost:8080/",
          "height": 472
        },
        "id": "1sx7MT3c4vQg",
        "outputId": "5aa21196-6706-4c35-89a3-8fdec6aba556"
      },
      "execution_count": null,
      "outputs": [
        {
          "output_type": "display_data",
          "data": {
            "text/plain": [
              "<Figure size 640x480 with 1 Axes>"
            ],
            "image/png": "[encoded data removed]"
          },
          "metadata": {}
        }
      ]
    },
    {
      "cell_type": "code",
      "source": [
        "evaluate_threshold(0.8)"
      ],
      "metadata": {
        "colab": {
          "base_uri": "https://localhost:8080/"
        },
        "id": "JgjSwI-942xW",
        "outputId": "5300fb83-a289-4834-cd27-ba7f5240afdd"
      },
      "execution_count": null,
      "outputs": [
        {
          "output_type": "stream",
          "name": "stdout",
          "text": [
            "Sensitivity: 1.0\n",
            "Specificity: 0.8133333333333334\n"
          ]
        }
      ]
    },
    {
      "cell_type": "code",
      "source": [
        "print(metrics.roc_auc_score(y_test, test_predict_knn))"
      ],
      "metadata": {
        "colab": {
          "base_uri": "https://localhost:8080/"
        },
        "id": "ieMLZEy0470U",
        "outputId": "91a23858-64f9-4795-c9c5-1132ed5fbcf9"
      },
      "execution_count": null,
      "outputs": [
        {
          "output_type": "stream",
          "name": "stdout",
          "text": [
            "0.9066666666666667\n"
          ]
        }
      ]
    },
    {
      "cell_type": "markdown",
      "source": [
        "# **ROC curve for Randomforest classifier**"
      ],
      "metadata": {
        "id": "PRmTXOr6DkH3"
      }
    },
    {
      "cell_type": "code",
      "source": [
        "import matplotlib.pyplot as plt\n",
        "fpr, tpr, thresholds = metrics.roc_curve(y_test, test_predict_rf)\n",
        "plt.plot(fpr, tpr)\n",
        "plt.xlim([0.0, 1.0])\n",
        "plt.ylim([0.0, 1.0])\n",
        "plt.title('ROC curve for Randomforest classifier')\n",
        "plt.xlabel('False Positive Rate (1 - Specificity)')\n",
        "plt.ylabel('True Positive Rate (Sensitivity)')\n",
        "plt.grid(True)"
      ],
      "metadata": {
        "colab": {
          "base_uri": "https://localhost:8080/",
          "height": 472
        },
        "id": "6GxmewFVzQiQ",
        "outputId": "0b5936c3-2e62-4c35-c561-a9b74baf0a83"
      },
      "execution_count": null,
      "outputs": [
        {
          "output_type": "display_data",
          "data": {
            "text/plain": [
              "<Figure size 640x480 with 1 Axes>"
            ],
            "image/png": "[encoded data removed]"
          },
          "metadata": {}
        }
      ]
    },
    {
      "cell_type": "code",
      "source": [
        "evaluate_threshold(0.90)"
      ],
      "metadata": {
        "colab": {
          "base_uri": "https://localhost:8080/"
        },
        "id": "lDqC7-Yc0GWW",
        "outputId": "2c26814f-1c0b-405b-afd6-735a81649f72"
      },
      "execution_count": null,
      "outputs": [
        {
          "output_type": "stream",
          "name": "stdout",
          "text": [
            "Sensitivity: 0.951048951048951\n",
            "Specificity: 0.8733333333333333\n"
          ]
        }
      ]
    },
    {
      "cell_type": "code",
      "source": [
        "print(metrics.roc_auc_score(y_test, test_predict_rf))"
      ],
      "metadata": {
        "colab": {
          "base_uri": "https://localhost:8080/"
        },
        "id": "9kuL7PXP0QIc",
        "outputId": "e8a91ca8-37f7-48f5-88cb-a52ee0a2eb78"
      },
      "execution_count": null,
      "outputs": [
        {
          "output_type": "stream",
          "name": "stdout",
          "text": [
            "0.9121911421911422\n"
          ]
        }
      ]
    },
    {
      "cell_type": "markdown",
      "source": [
        "- The SVM Model delivers a **roc_auc_score of 96.3** which is the high compared to other models and as close to 1.So the best model is Support Vector Machine algorithm is considered to be the best performing model."
      ],
      "metadata": {
        "id": "cyDhQxvDSUqX"
      }
    },
    {
      "cell_type": "markdown",
      "source": [
        "**C. Pickle the selected model for future use.**"
      ],
      "metadata": {
        "id": "PfkpOK6ySVGi"
      }
    },
    {
      "cell_type": "code",
      "source": [
        "import pickle\n",
        "fileobj = open('model_pickle', 'wb')\n",
        "pickle.dump(pipe_svc,fileobj)\n",
        "fileobj.close()"
      ],
      "metadata": {
        "id": "jA8l6AcIgLAE"
      },
      "execution_count": null,
      "outputs": []
    },
    {
      "cell_type": "code",
      "source": [
        "import pickle\n",
        "file = open('model_pickle', 'rb')\n",
        "#[0p9o8i7uyt]"
      ],
      "metadata": {
        "id": "9yALswe7geIx"
      },
      "execution_count": null,
      "outputs": []
    },
    {
      "cell_type": "code",
      "source": [
        "model.score(X_test, y_test)"
      ],
      "metadata": {
        "id": "ot4ITWBzgl-O",
        "colab": {
          "base_uri": "https://localhost:8080/"
        },
        "outputId": "31fbfe97-9593-4369-a083-959beeedde9c"
      },
      "execution_count": null,
      "outputs": [
        {
          "output_type": "execute_result",
          "data": {
            "text/plain": [
              "0.9266211604095563"
            ]
          },
          "metadata": {},
          "execution_count": 105
        }
      ]
    },
    {
      "cell_type": "markdown",
      "source": [
        "## **Conclusion**"
      ],
      "metadata": {
        "id": "08g3EL-aSYUt"
      }
    },
    {
      "cell_type": "code",
      "source": [
        "print(\"Classification Report on Train Data using SVM Model:\")\n",
        "print(classification_report(y_train, train_predict_svm_svc))\n",
        "print(\"Classification Report on Test Data using SVM Model:\")\n",
        "print(classification_report(y_test, test_predict_svm_svc))"
      ],
      "metadata": {
        "colab": {
          "base_uri": "https://localhost:8080/"
        },
        "id": "Sly9seHFFKEl",
        "outputId": "39b59e78-ddf3-4472-99ed-43f2a3e2c193"
      },
      "execution_count": null,
      "outputs": [
        {
          "output_type": "stream",
          "name": "stdout",
          "text": [
            "Classification Report on Train Data using SVM Model:\n",
            "              precision    recall  f1-score   support\n",
            "\n",
            "          -1       1.00      1.00      1.00      1163\n",
            "           1       1.00      1.00      1.00      1177\n",
            "\n",
            "    accuracy                           1.00      2340\n",
            "   macro avg       1.00      1.00      1.00      2340\n",
            "weighted avg       1.00      1.00      1.00      2340\n",
            "\n",
            "Classification Report on Test Data using SVM Model:\n",
            "              precision    recall  f1-score   support\n",
            "\n",
            "          -1       0.94      0.99      0.97       300\n",
            "           1       0.99      0.94      0.96       286\n",
            "\n",
            "    accuracy                           0.96       586\n",
            "   macro avg       0.97      0.96      0.96       586\n",
            "weighted avg       0.97      0.96      0.96       586\n",
            "\n"
          ]
        }
      ]
    },
    {
      "cell_type": "markdown",
      "source": [
        "**Best Model - SVM :**\n",
        "\n",
        "**Best cross-validation accuracy:** 0.97\n",
        "\n",
        "**Best parameters:**  {'pca__n_components': 20, 'svc__C': 100, 'svc__gamma': 0.1, 'svc__kernel': 'rbf'}\n",
        "\n",
        "**Train set accuracy for SVM:** 1.00\n",
        "\n",
        "**Test set accuracy for SVM:** 0.96\n",
        "\n",
        "**Sensitivity:** 0.9405594405594405\n",
        "\n",
        "**Specificity:** 0.9866666666666667\n"
      ],
      "metadata": {
        "id": "CjWRNORog7OS"
      }
    },
    {
      "cell_type": "markdown",
      "source": [
        "- The **SVM model** achieved perfect classification metrics (precision, recall, F1-score = 1.00) on the training data, indicating excellent model fitting.\n",
        "\n",
        "- On the test data, the model achieved **96% accuracy** with balanced performance for both classes (Pass and Fail), showing strong generalization.\n",
        "\n",
        "- Sensitivity (recall for Fail class) was 0.94, and specificity (recall for Pass class) was 0.99, demonstrating the model’s effectiveness in identifying both passing and failing entities accurately.\n",
        "\n",
        "- The drop in accuracy on test data shows that model is overfit.Applying regularization techniques(L1 & L2 Regularization) during model training will prevent overfitting."
      ],
      "metadata": {
        "id": "CGXaTEdsG0fL"
      }
    }
  ]
}